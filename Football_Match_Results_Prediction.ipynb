{
  "nbformat": 4,
  "nbformat_minor": 0,
  "metadata": {
    "colab": {
      "name": "Football Match Results Prediction.ipynb",
      "provenance": [],
      "collapsed_sections": [],
      "toc_visible": true,
      "authorship_tag": "ABX9TyO85gjC2/lyYJ7T/p4JQOQr",
      "include_colab_link": true
    },
    "kernelspec": {
      "name": "python3",
      "display_name": "Python 3"
    }
  },
  "cells": [
    {
      "cell_type": "markdown",
      "metadata": {
        "id": "view-in-github",
        "colab_type": "text"
      },
      "source": [
        "<a href=\"https://colab.research.google.com/github/JoanYego/Soccer-Match-Prediction-Model/blob/master/Football_Match_Results_Prediction.ipynb\" target=\"_parent\"><img src=\"https://colab.research.google.com/assets/colab-badge.svg\" alt=\"Open In Colab\"/></a>"
      ]
    },
    {
      "cell_type": "markdown",
      "metadata": {
        "id": "HbTOt-ZM2sb9",
        "colab_type": "text"
      },
      "source": [
        "# Defining the Research Question"
      ]
    },
    {
      "cell_type": "markdown",
      "metadata": {
        "id": "yF_ZuGhn76XB",
        "colab_type": "text"
      },
      "source": [
        "## a) Specifying the Question"
      ]
    },
    {
      "cell_type": "markdown",
      "metadata": {
        "id": "LTosIPKf5uGG",
        "colab_type": "text"
      },
      "source": [
        "> The goal of this analysis is to come up with a model that can predict the results of a football game between two teams. Some of the considerations that will form the basis of the prediction model include the team that is home, the team that is playing away and the nature of game/tournament."
      ]
    },
    {
      "cell_type": "markdown",
      "metadata": {
        "id": "7kykRerX2wDv",
        "colab_type": "text"
      },
      "source": [
        "## b) Defining the Metric for Success"
      ]
    },
    {
      "cell_type": "markdown",
      "metadata": {
        "id": "6EHsyo8RBjBP",
        "colab_type": "text"
      },
      "source": [
        "> This project will be considered a success when are able to develop a reliable prediction model that has a high accuracy level. The model should also not suffer from any instances of overfitting or underfitting."
      ]
    },
    {
      "cell_type": "markdown",
      "metadata": {
        "id": "BM8SjfrG203r",
        "colab_type": "text"
      },
      "source": [
        "## c) Understanding the Context"
      ]
    },
    {
      "cell_type": "markdown",
      "metadata": {
        "id": "F-K_lRdkCR94",
        "colab_type": "text"
      },
      "source": [
        "> Football is currently the most popular sport in the world. This is according to various sports ranking criteria such as global fan base and audience, viewership on t.v., popularity on the internet, sponsorship deals among other financial and social factors. Among football fans and even professional football analysts, predicting the outcome of a match is quite common.\n",
        "\n",
        "> There are several factors that affect the outcome of a football game. Some teams generally perform better than others as classified in the FIFA rankings. These rankings rate national teams based on their performance on FIFA-recognized international matches.The ranking method has changed overtime since it's inception in 1993.\n",
        "\n",
        "> In general, it would be presumed that a high ranking team would be better suited to win a game against a lower ranking opponent. However, there are other factors that could come into play. Some of these factors include, which team is playing at home versus away and whether or not the match is friendly. Using some of these factors, this analysis aims to take advantage of machine learning algorithms and develop a model that can predict the outcome of a football match. More specifically, I will be using a polynomial and logistic regression approaches to come up with a suitable model."
      ]
    },
    {
      "cell_type": "markdown",
      "metadata": {
        "id": "sPV9AFMB25mF",
        "colab_type": "text"
      },
      "source": [
        "## d) Recording the Experimental Design"
      ]
    },
    {
      "cell_type": "markdown",
      "metadata": {
        "id": "J9FVSQ2mIHhm",
        "colab_type": "text"
      },
      "source": [
        "> Below are the steps that will be conducted in this analysis in order to respond to the research question comprehensively:\n",
        "\n",
        ">* Load data and preview preliminary characteristics \n",
        ">* Data Cleaning (check for and deal with outliers, anomalies and missing data)\n",
        ">* Exploratory Analysis\n",
        ">* Implementing the Solution\n",
        ">* Challenging the Solution \n",
        ">* Follow Up Questions"
      ]
    },
    {
      "cell_type": "markdown",
      "metadata": {
        "id": "BhiO-rHY29zR",
        "colab_type": "text"
      },
      "source": [
        "## e) Data Relevance"
      ]
    },
    {
      "cell_type": "markdown",
      "metadata": {
        "id": "OEovNsNYJtSM",
        "colab_type": "text"
      },
      "source": [
        "> There are two datasets available for this project. The first dataset contains records of various football matches since 1872 to 2019. Other attributes available in this dataset include the home team, away team, goals scored by home team, goals by away team, location of match and the tournament type.\n",
        "\n",
        "> The second dataset contains the annual FIFA ranking records since 1993 through 2018. Some of the attributes included in the second dataset include country name and code, country rank, date of ranking, previous and total points among other variables.\n",
        "\n",
        "> Both datasets contain relevant information that can allow us to respond to the research question. The available features and records are also sufficient and up to date enough to allow us build a reliable prediction model."
      ]
    },
    {
      "cell_type": "markdown",
      "metadata": {
        "id": "HZl8HNEx3DID",
        "colab_type": "text"
      },
      "source": [
        "# Importing Relevant Libraries"
      ]
    },
    {
      "cell_type": "code",
      "metadata": {
        "id": "0kASrNGa6Ppc",
        "colab_type": "code",
        "colab": {
          "base_uri": "https://localhost:8080/",
          "height": 71
        },
        "outputId": "00b954e8-4fa5-4ca0-cfcc-2c991020056c"
      },
      "source": [
        "import pandas as pd\n",
        "import numpy as np\n",
        "import matplotlib.pyplot as plt\n",
        "%matplotlib inline\n",
        "import seaborn as sns\n",
        "import scipy as sp\n",
        "\n",
        "from sklearn.model_selection import train_test_split\n",
        "from sklearn.metrics import confusion_matrix\n",
        "from sklearn.linear_model import LinearRegression\n",
        "from sklearn.linear_model import LogisticRegression\n",
        "from sklearn.preprocessing import PolynomialFeatures\n",
        "from sklearn.preprocessing import StandardScaler\n",
        "from sklearn.model_selection import GridSearchCV\n",
        "from sklearn import linear_model\n",
        "from sklearn import metrics\n",
        "from sklearn.metrics import accuracy_score\n",
        "from sklearn.model_selection import LeaveOneOut"
      ],
      "execution_count": 1,
      "outputs": [
        {
          "output_type": "stream",
          "text": [
            "/usr/local/lib/python3.6/dist-packages/statsmodels/tools/_testing.py:19: FutureWarning: pandas.util.testing is deprecated. Use the functions in the public API at pandas.testing instead.\n",
            "  import pandas.util.testing as tm\n"
          ],
          "name": "stderr"
        }
      ]
    },
    {
      "cell_type": "markdown",
      "metadata": {
        "id": "MtzjaW2B8fnD",
        "colab_type": "text"
      },
      "source": [
        "# Reading the Data"
      ]
    },
    {
      "cell_type": "code",
      "metadata": {
        "id": "hNDw4Gba777j",
        "colab_type": "code",
        "colab": {}
      },
      "source": [
        "# reading the two datasets\n",
        "\n",
        "fifa_ranking = pd.read_csv('fifa_ranking.csv')\n",
        "match_results = pd.read_csv('results.csv')\n"
      ],
      "execution_count": 16,
      "outputs": []
    },
    {
      "cell_type": "markdown",
      "metadata": {
        "id": "Ef8nZ-Q03G8i",
        "colab_type": "text"
      },
      "source": [
        "# Checking the Data"
      ]
    },
    {
      "cell_type": "markdown",
      "metadata": {
        "id": "DYzUwbrwHWlx",
        "colab_type": "text"
      },
      "source": [
        "> a) Fifa Rankings Dataset"
      ]
    },
    {
      "cell_type": "code",
      "metadata": {
        "id": "Pm74eY34J5KI",
        "colab_type": "code",
        "colab": {
          "base_uri": "https://localhost:8080/",
          "height": 193
        },
        "outputId": "f0edaefd-6b95-496b-8dc2-c6d6e9352293"
      },
      "source": [
        "# previewing a random sample of the data\n",
        "\n",
        "fifa_ranking.sample(n=4)"
      ],
      "execution_count": 3,
      "outputs": [
        {
          "output_type": "execute_result",
          "data": {
            "text/html": [
              "<div>\n",
              "<style scoped>\n",
              "    .dataframe tbody tr th:only-of-type {\n",
              "        vertical-align: middle;\n",
              "    }\n",
              "\n",
              "    .dataframe tbody tr th {\n",
              "        vertical-align: top;\n",
              "    }\n",
              "\n",
              "    .dataframe thead th {\n",
              "        text-align: right;\n",
              "    }\n",
              "</style>\n",
              "<table border=\"1\" class=\"dataframe\">\n",
              "  <thead>\n",
              "    <tr style=\"text-align: right;\">\n",
              "      <th></th>\n",
              "      <th>rank</th>\n",
              "      <th>country_full</th>\n",
              "      <th>country_abrv</th>\n",
              "      <th>total_points</th>\n",
              "      <th>previous_points</th>\n",
              "      <th>rank_change</th>\n",
              "      <th>cur_year_avg</th>\n",
              "      <th>cur_year_avg_weighted</th>\n",
              "      <th>last_year_avg</th>\n",
              "      <th>last_year_avg_weighted</th>\n",
              "      <th>two_year_ago_avg</th>\n",
              "      <th>two_year_ago_weighted</th>\n",
              "      <th>three_year_ago_avg</th>\n",
              "      <th>three_year_ago_weighted</th>\n",
              "      <th>confederation</th>\n",
              "      <th>rank_date</th>\n",
              "    </tr>\n",
              "  </thead>\n",
              "  <tbody>\n",
              "    <tr>\n",
              "      <th>33470</th>\n",
              "      <td>129</td>\n",
              "      <td>Singapore</td>\n",
              "      <td>SIN</td>\n",
              "      <td>0.0</td>\n",
              "      <td>232</td>\n",
              "      <td>-3</td>\n",
              "      <td>0.0</td>\n",
              "      <td>0.0</td>\n",
              "      <td>0.0</td>\n",
              "      <td>0.0</td>\n",
              "      <td>0.0</td>\n",
              "      <td>0.0</td>\n",
              "      <td>0.0</td>\n",
              "      <td>0.0</td>\n",
              "      <td>AFC</td>\n",
              "      <td>9/3/2008</td>\n",
              "    </tr>\n",
              "    <tr>\n",
              "      <th>30456</th>\n",
              "      <td>17</td>\n",
              "      <td>Ukraine</td>\n",
              "      <td>UKR</td>\n",
              "      <td>0.0</td>\n",
              "      <td>1044</td>\n",
              "      <td>-4</td>\n",
              "      <td>0.0</td>\n",
              "      <td>0.0</td>\n",
              "      <td>0.0</td>\n",
              "      <td>0.0</td>\n",
              "      <td>0.0</td>\n",
              "      <td>0.0</td>\n",
              "      <td>0.0</td>\n",
              "      <td>0.0</td>\n",
              "      <td>UEFA</td>\n",
              "      <td>7/18/2007</td>\n",
              "    </tr>\n",
              "    <tr>\n",
              "      <th>13328</th>\n",
              "      <td>47</td>\n",
              "      <td>Côte d'Ivoire</td>\n",
              "      <td>CIV</td>\n",
              "      <td>0.0</td>\n",
              "      <td>536</td>\n",
              "      <td>0</td>\n",
              "      <td>0.0</td>\n",
              "      <td>0.0</td>\n",
              "      <td>0.0</td>\n",
              "      <td>0.0</td>\n",
              "      <td>0.0</td>\n",
              "      <td>0.0</td>\n",
              "      <td>0.0</td>\n",
              "      <td>0.0</td>\n",
              "      <td>CAF</td>\n",
              "      <td>5/10/2000</td>\n",
              "    </tr>\n",
              "    <tr>\n",
              "      <th>17828</th>\n",
              "      <td>84</td>\n",
              "      <td>El Salvador</td>\n",
              "      <td>SLV</td>\n",
              "      <td>0.0</td>\n",
              "      <td>482</td>\n",
              "      <td>0</td>\n",
              "      <td>0.0</td>\n",
              "      <td>0.0</td>\n",
              "      <td>0.0</td>\n",
              "      <td>0.0</td>\n",
              "      <td>0.0</td>\n",
              "      <td>0.0</td>\n",
              "      <td>0.0</td>\n",
              "      <td>0.0</td>\n",
              "      <td>CONCACAF</td>\n",
              "      <td>3/20/2002</td>\n",
              "    </tr>\n",
              "  </tbody>\n",
              "</table>\n",
              "</div>"
            ],
            "text/plain": [
              "       rank   country_full  ... confederation  rank_date\n",
              "33470   129      Singapore  ...           AFC   9/3/2008\n",
              "30456    17        Ukraine  ...          UEFA  7/18/2007\n",
              "13328    47  Côte d'Ivoire  ...           CAF  5/10/2000\n",
              "17828    84    El Salvador  ...      CONCACAF  3/20/2002\n",
              "\n",
              "[4 rows x 16 columns]"
            ]
          },
          "metadata": {
            "tags": []
          },
          "execution_count": 3
        }
      ]
    },
    {
      "cell_type": "code",
      "metadata": {
        "id": "Zbp2YrDM8PzA",
        "colab_type": "code",
        "colab": {
          "base_uri": "https://localhost:8080/",
          "height": 224
        },
        "outputId": "6b2351fa-7787-42e2-fd48-1c1f0f7dea4c"
      },
      "source": [
        "# previewing the top 5 records\n",
        "\n",
        "fifa_ranking.head(5)"
      ],
      "execution_count": 4,
      "outputs": [
        {
          "output_type": "execute_result",
          "data": {
            "text/html": [
              "<div>\n",
              "<style scoped>\n",
              "    .dataframe tbody tr th:only-of-type {\n",
              "        vertical-align: middle;\n",
              "    }\n",
              "\n",
              "    .dataframe tbody tr th {\n",
              "        vertical-align: top;\n",
              "    }\n",
              "\n",
              "    .dataframe thead th {\n",
              "        text-align: right;\n",
              "    }\n",
              "</style>\n",
              "<table border=\"1\" class=\"dataframe\">\n",
              "  <thead>\n",
              "    <tr style=\"text-align: right;\">\n",
              "      <th></th>\n",
              "      <th>rank</th>\n",
              "      <th>country_full</th>\n",
              "      <th>country_abrv</th>\n",
              "      <th>total_points</th>\n",
              "      <th>previous_points</th>\n",
              "      <th>rank_change</th>\n",
              "      <th>cur_year_avg</th>\n",
              "      <th>cur_year_avg_weighted</th>\n",
              "      <th>last_year_avg</th>\n",
              "      <th>last_year_avg_weighted</th>\n",
              "      <th>two_year_ago_avg</th>\n",
              "      <th>two_year_ago_weighted</th>\n",
              "      <th>three_year_ago_avg</th>\n",
              "      <th>three_year_ago_weighted</th>\n",
              "      <th>confederation</th>\n",
              "      <th>rank_date</th>\n",
              "    </tr>\n",
              "  </thead>\n",
              "  <tbody>\n",
              "    <tr>\n",
              "      <th>0</th>\n",
              "      <td>1</td>\n",
              "      <td>Germany</td>\n",
              "      <td>GER</td>\n",
              "      <td>0.0</td>\n",
              "      <td>57</td>\n",
              "      <td>0</td>\n",
              "      <td>0.0</td>\n",
              "      <td>0.0</td>\n",
              "      <td>0.0</td>\n",
              "      <td>0.0</td>\n",
              "      <td>0.0</td>\n",
              "      <td>0.0</td>\n",
              "      <td>0.0</td>\n",
              "      <td>0.0</td>\n",
              "      <td>UEFA</td>\n",
              "      <td>8/8/1993</td>\n",
              "    </tr>\n",
              "    <tr>\n",
              "      <th>1</th>\n",
              "      <td>2</td>\n",
              "      <td>Italy</td>\n",
              "      <td>ITA</td>\n",
              "      <td>0.0</td>\n",
              "      <td>57</td>\n",
              "      <td>0</td>\n",
              "      <td>0.0</td>\n",
              "      <td>0.0</td>\n",
              "      <td>0.0</td>\n",
              "      <td>0.0</td>\n",
              "      <td>0.0</td>\n",
              "      <td>0.0</td>\n",
              "      <td>0.0</td>\n",
              "      <td>0.0</td>\n",
              "      <td>UEFA</td>\n",
              "      <td>8/8/1993</td>\n",
              "    </tr>\n",
              "    <tr>\n",
              "      <th>2</th>\n",
              "      <td>3</td>\n",
              "      <td>Switzerland</td>\n",
              "      <td>SUI</td>\n",
              "      <td>0.0</td>\n",
              "      <td>50</td>\n",
              "      <td>9</td>\n",
              "      <td>0.0</td>\n",
              "      <td>0.0</td>\n",
              "      <td>0.0</td>\n",
              "      <td>0.0</td>\n",
              "      <td>0.0</td>\n",
              "      <td>0.0</td>\n",
              "      <td>0.0</td>\n",
              "      <td>0.0</td>\n",
              "      <td>UEFA</td>\n",
              "      <td>8/8/1993</td>\n",
              "    </tr>\n",
              "    <tr>\n",
              "      <th>3</th>\n",
              "      <td>4</td>\n",
              "      <td>Sweden</td>\n",
              "      <td>SWE</td>\n",
              "      <td>0.0</td>\n",
              "      <td>55</td>\n",
              "      <td>0</td>\n",
              "      <td>0.0</td>\n",
              "      <td>0.0</td>\n",
              "      <td>0.0</td>\n",
              "      <td>0.0</td>\n",
              "      <td>0.0</td>\n",
              "      <td>0.0</td>\n",
              "      <td>0.0</td>\n",
              "      <td>0.0</td>\n",
              "      <td>UEFA</td>\n",
              "      <td>8/8/1993</td>\n",
              "    </tr>\n",
              "    <tr>\n",
              "      <th>4</th>\n",
              "      <td>5</td>\n",
              "      <td>Argentina</td>\n",
              "      <td>ARG</td>\n",
              "      <td>0.0</td>\n",
              "      <td>51</td>\n",
              "      <td>5</td>\n",
              "      <td>0.0</td>\n",
              "      <td>0.0</td>\n",
              "      <td>0.0</td>\n",
              "      <td>0.0</td>\n",
              "      <td>0.0</td>\n",
              "      <td>0.0</td>\n",
              "      <td>0.0</td>\n",
              "      <td>0.0</td>\n",
              "      <td>CONMEBOL</td>\n",
              "      <td>8/8/1993</td>\n",
              "    </tr>\n",
              "  </tbody>\n",
              "</table>\n",
              "</div>"
            ],
            "text/plain": [
              "   rank country_full  ... confederation  rank_date\n",
              "0     1      Germany  ...          UEFA   8/8/1993\n",
              "1     2        Italy  ...          UEFA   8/8/1993\n",
              "2     3  Switzerland  ...          UEFA   8/8/1993\n",
              "3     4       Sweden  ...          UEFA   8/8/1993\n",
              "4     5    Argentina  ...      CONMEBOL   8/8/1993\n",
              "\n",
              "[5 rows x 16 columns]"
            ]
          },
          "metadata": {
            "tags": []
          },
          "execution_count": 4
        }
      ]
    },
    {
      "cell_type": "code",
      "metadata": {
        "id": "Shx0apuxIFJG",
        "colab_type": "code",
        "colab": {
          "base_uri": "https://localhost:8080/",
          "height": 224
        },
        "outputId": "eb3c2733-a6e6-4707-9a1f-8366413c7f3f"
      },
      "source": [
        "# previewing the bottom 5 records \n",
        "\n",
        "fifa_ranking.tail(5)"
      ],
      "execution_count": 5,
      "outputs": [
        {
          "output_type": "execute_result",
          "data": {
            "text/html": [
              "<div>\n",
              "<style scoped>\n",
              "    .dataframe tbody tr th:only-of-type {\n",
              "        vertical-align: middle;\n",
              "    }\n",
              "\n",
              "    .dataframe tbody tr th {\n",
              "        vertical-align: top;\n",
              "    }\n",
              "\n",
              "    .dataframe thead th {\n",
              "        text-align: right;\n",
              "    }\n",
              "</style>\n",
              "<table border=\"1\" class=\"dataframe\">\n",
              "  <thead>\n",
              "    <tr style=\"text-align: right;\">\n",
              "      <th></th>\n",
              "      <th>rank</th>\n",
              "      <th>country_full</th>\n",
              "      <th>country_abrv</th>\n",
              "      <th>total_points</th>\n",
              "      <th>previous_points</th>\n",
              "      <th>rank_change</th>\n",
              "      <th>cur_year_avg</th>\n",
              "      <th>cur_year_avg_weighted</th>\n",
              "      <th>last_year_avg</th>\n",
              "      <th>last_year_avg_weighted</th>\n",
              "      <th>two_year_ago_avg</th>\n",
              "      <th>two_year_ago_weighted</th>\n",
              "      <th>three_year_ago_avg</th>\n",
              "      <th>three_year_ago_weighted</th>\n",
              "      <th>confederation</th>\n",
              "      <th>rank_date</th>\n",
              "    </tr>\n",
              "  </thead>\n",
              "  <tbody>\n",
              "    <tr>\n",
              "      <th>57788</th>\n",
              "      <td>206</td>\n",
              "      <td>Anguilla</td>\n",
              "      <td>AIA</td>\n",
              "      <td>0.0</td>\n",
              "      <td>0</td>\n",
              "      <td>1</td>\n",
              "      <td>0.0</td>\n",
              "      <td>0.0</td>\n",
              "      <td>0.0</td>\n",
              "      <td>0.0</td>\n",
              "      <td>0.0</td>\n",
              "      <td>0.0</td>\n",
              "      <td>0.0</td>\n",
              "      <td>0.0</td>\n",
              "      <td>CONCACAF</td>\n",
              "      <td>6/7/2018</td>\n",
              "    </tr>\n",
              "    <tr>\n",
              "      <th>57789</th>\n",
              "      <td>206</td>\n",
              "      <td>Bahamas</td>\n",
              "      <td>BAH</td>\n",
              "      <td>0.0</td>\n",
              "      <td>0</td>\n",
              "      <td>1</td>\n",
              "      <td>0.0</td>\n",
              "      <td>0.0</td>\n",
              "      <td>0.0</td>\n",
              "      <td>0.0</td>\n",
              "      <td>0.0</td>\n",
              "      <td>0.0</td>\n",
              "      <td>0.0</td>\n",
              "      <td>0.0</td>\n",
              "      <td>CONCACAF</td>\n",
              "      <td>6/7/2018</td>\n",
              "    </tr>\n",
              "    <tr>\n",
              "      <th>57790</th>\n",
              "      <td>206</td>\n",
              "      <td>Eritrea</td>\n",
              "      <td>ERI</td>\n",
              "      <td>0.0</td>\n",
              "      <td>0</td>\n",
              "      <td>1</td>\n",
              "      <td>0.0</td>\n",
              "      <td>0.0</td>\n",
              "      <td>0.0</td>\n",
              "      <td>0.0</td>\n",
              "      <td>0.0</td>\n",
              "      <td>0.0</td>\n",
              "      <td>0.0</td>\n",
              "      <td>0.0</td>\n",
              "      <td>CAF</td>\n",
              "      <td>6/7/2018</td>\n",
              "    </tr>\n",
              "    <tr>\n",
              "      <th>57791</th>\n",
              "      <td>206</td>\n",
              "      <td>Somalia</td>\n",
              "      <td>SOM</td>\n",
              "      <td>0.0</td>\n",
              "      <td>0</td>\n",
              "      <td>1</td>\n",
              "      <td>0.0</td>\n",
              "      <td>0.0</td>\n",
              "      <td>0.0</td>\n",
              "      <td>0.0</td>\n",
              "      <td>0.0</td>\n",
              "      <td>0.0</td>\n",
              "      <td>0.0</td>\n",
              "      <td>0.0</td>\n",
              "      <td>CAF</td>\n",
              "      <td>6/7/2018</td>\n",
              "    </tr>\n",
              "    <tr>\n",
              "      <th>57792</th>\n",
              "      <td>206</td>\n",
              "      <td>Tonga</td>\n",
              "      <td>TGA</td>\n",
              "      <td>0.0</td>\n",
              "      <td>0</td>\n",
              "      <td>1</td>\n",
              "      <td>0.0</td>\n",
              "      <td>0.0</td>\n",
              "      <td>0.0</td>\n",
              "      <td>0.0</td>\n",
              "      <td>0.0</td>\n",
              "      <td>0.0</td>\n",
              "      <td>0.0</td>\n",
              "      <td>0.0</td>\n",
              "      <td>OFC</td>\n",
              "      <td>6/7/2018</td>\n",
              "    </tr>\n",
              "  </tbody>\n",
              "</table>\n",
              "</div>"
            ],
            "text/plain": [
              "       rank country_full  ... confederation  rank_date\n",
              "57788   206     Anguilla  ...      CONCACAF   6/7/2018\n",
              "57789   206      Bahamas  ...      CONCACAF   6/7/2018\n",
              "57790   206      Eritrea  ...           CAF   6/7/2018\n",
              "57791   206      Somalia  ...           CAF   6/7/2018\n",
              "57792   206        Tonga  ...           OFC   6/7/2018\n",
              "\n",
              "[5 rows x 16 columns]"
            ]
          },
          "metadata": {
            "tags": []
          },
          "execution_count": 5
        }
      ]
    },
    {
      "cell_type": "code",
      "metadata": {
        "id": "KThVHttPKJaW",
        "colab_type": "code",
        "colab": {
          "base_uri": "https://localhost:8080/",
          "height": 34
        },
        "outputId": "58f9f033-1330-4556-b62f-ca9a317be3bd"
      },
      "source": [
        "# checking the number of rows and columns\n",
        "\n",
        "fifa_ranking.shape"
      ],
      "execution_count": 6,
      "outputs": [
        {
          "output_type": "execute_result",
          "data": {
            "text/plain": [
              "(57793, 16)"
            ]
          },
          "metadata": {
            "tags": []
          },
          "execution_count": 6
        }
      ]
    },
    {
      "cell_type": "code",
      "metadata": {
        "id": "K07ziRylKZYq",
        "colab_type": "code",
        "colab": {
          "base_uri": "https://localhost:8080/",
          "height": 408
        },
        "outputId": "49a75240-046c-44e4-a38d-030a92f49d23"
      },
      "source": [
        "# checking datatypes of each attribute and previewing the existense of null values\n",
        "\n",
        "fifa_ranking.info()"
      ],
      "execution_count": 7,
      "outputs": [
        {
          "output_type": "stream",
          "text": [
            "<class 'pandas.core.frame.DataFrame'>\n",
            "RangeIndex: 57793 entries, 0 to 57792\n",
            "Data columns (total 16 columns):\n",
            " #   Column                   Non-Null Count  Dtype  \n",
            "---  ------                   --------------  -----  \n",
            " 0   rank                     57793 non-null  int64  \n",
            " 1   country_full             57793 non-null  object \n",
            " 2   country_abrv             57793 non-null  object \n",
            " 3   total_points             57793 non-null  float64\n",
            " 4   previous_points          57793 non-null  int64  \n",
            " 5   rank_change              57793 non-null  int64  \n",
            " 6   cur_year_avg             57793 non-null  float64\n",
            " 7   cur_year_avg_weighted    57793 non-null  float64\n",
            " 8   last_year_avg            57793 non-null  float64\n",
            " 9   last_year_avg_weighted   57793 non-null  float64\n",
            " 10  two_year_ago_avg         57793 non-null  float64\n",
            " 11  two_year_ago_weighted    57793 non-null  float64\n",
            " 12  three_year_ago_avg       57793 non-null  float64\n",
            " 13  three_year_ago_weighted  57793 non-null  float64\n",
            " 14  confederation            57793 non-null  object \n",
            " 15  rank_date                57793 non-null  object \n",
            "dtypes: float64(9), int64(3), object(4)\n",
            "memory usage: 7.1+ MB\n"
          ],
          "name": "stdout"
        }
      ]
    },
    {
      "cell_type": "markdown",
      "metadata": {
        "id": "ZAZZuDM0DvwC",
        "colab_type": "text"
      },
      "source": [
        ">* The are no nulls in this dataframe. The rank_date column needs to be changed into a datetime type."
      ]
    },
    {
      "cell_type": "markdown",
      "metadata": {
        "id": "SqiGeAffK0aW",
        "colab_type": "text"
      },
      "source": [
        "> b) Match Results Dataset"
      ]
    },
    {
      "cell_type": "code",
      "metadata": {
        "id": "X3f1zCtmK7F_",
        "colab_type": "code",
        "colab": {
          "base_uri": "https://localhost:8080/",
          "height": 241
        },
        "outputId": "92334fba-5fbb-420a-b859-8171af7a9a85"
      },
      "source": [
        "# previewing a random sample of the second dataset\n",
        "\n",
        "match_results.sample(n=4)"
      ],
      "execution_count": 8,
      "outputs": [
        {
          "output_type": "execute_result",
          "data": {
            "text/html": [
              "<div>\n",
              "<style scoped>\n",
              "    .dataframe tbody tr th:only-of-type {\n",
              "        vertical-align: middle;\n",
              "    }\n",
              "\n",
              "    .dataframe tbody tr th {\n",
              "        vertical-align: top;\n",
              "    }\n",
              "\n",
              "    .dataframe thead th {\n",
              "        text-align: right;\n",
              "    }\n",
              "</style>\n",
              "<table border=\"1\" class=\"dataframe\">\n",
              "  <thead>\n",
              "    <tr style=\"text-align: right;\">\n",
              "      <th></th>\n",
              "      <th>date</th>\n",
              "      <th>home_team</th>\n",
              "      <th>away_team</th>\n",
              "      <th>home_score</th>\n",
              "      <th>away_score</th>\n",
              "      <th>tournament</th>\n",
              "      <th>city</th>\n",
              "      <th>country</th>\n",
              "      <th>neutral</th>\n",
              "    </tr>\n",
              "  </thead>\n",
              "  <tbody>\n",
              "    <tr>\n",
              "      <th>10170</th>\n",
              "      <td>6/30/1977</td>\n",
              "      <td>Brazil</td>\n",
              "      <td>France</td>\n",
              "      <td>2</td>\n",
              "      <td>2</td>\n",
              "      <td>Friendly</td>\n",
              "      <td>Rio de Janeiro</td>\n",
              "      <td>Brazil</td>\n",
              "      <td>False</td>\n",
              "    </tr>\n",
              "    <tr>\n",
              "      <th>29357</th>\n",
              "      <td>7/5/2007</td>\n",
              "      <td>Åland Islands</td>\n",
              "      <td>Frøya</td>\n",
              "      <td>3</td>\n",
              "      <td>1</td>\n",
              "      <td>Island Games</td>\n",
              "      <td>Rhodos</td>\n",
              "      <td>Greece</td>\n",
              "      <td>True</td>\n",
              "    </tr>\n",
              "    <tr>\n",
              "      <th>8584</th>\n",
              "      <td>5/23/1973</td>\n",
              "      <td>Thailand</td>\n",
              "      <td>Malaysia</td>\n",
              "      <td>0</td>\n",
              "      <td>2</td>\n",
              "      <td>FIFA World Cup qualification</td>\n",
              "      <td>Seoul</td>\n",
              "      <td>South Korea</td>\n",
              "      <td>True</td>\n",
              "    </tr>\n",
              "    <tr>\n",
              "      <th>9871</th>\n",
              "      <td>10/16/1976</td>\n",
              "      <td>Portugal</td>\n",
              "      <td>Poland</td>\n",
              "      <td>0</td>\n",
              "      <td>2</td>\n",
              "      <td>FIFA World Cup qualification</td>\n",
              "      <td>Porto</td>\n",
              "      <td>Portugal</td>\n",
              "      <td>False</td>\n",
              "    </tr>\n",
              "  </tbody>\n",
              "</table>\n",
              "</div>"
            ],
            "text/plain": [
              "             date      home_team  ...      country  neutral\n",
              "10170   6/30/1977         Brazil  ...       Brazil    False\n",
              "29357    7/5/2007  Åland Islands  ...       Greece     True\n",
              "8584    5/23/1973       Thailand  ...  South Korea     True\n",
              "9871   10/16/1976       Portugal  ...     Portugal    False\n",
              "\n",
              "[4 rows x 9 columns]"
            ]
          },
          "metadata": {
            "tags": []
          },
          "execution_count": 8
        }
      ]
    },
    {
      "cell_type": "code",
      "metadata": {
        "id": "3vAX10N1LCww",
        "colab_type": "code",
        "colab": {
          "base_uri": "https://localhost:8080/",
          "height": 204
        },
        "outputId": "90245a31-5435-42c7-f3da-94e145e93814"
      },
      "source": [
        "# previewing the top 5 records in the data\n",
        "\n",
        "match_results.head(5)"
      ],
      "execution_count": 9,
      "outputs": [
        {
          "output_type": "execute_result",
          "data": {
            "text/html": [
              "<div>\n",
              "<style scoped>\n",
              "    .dataframe tbody tr th:only-of-type {\n",
              "        vertical-align: middle;\n",
              "    }\n",
              "\n",
              "    .dataframe tbody tr th {\n",
              "        vertical-align: top;\n",
              "    }\n",
              "\n",
              "    .dataframe thead th {\n",
              "        text-align: right;\n",
              "    }\n",
              "</style>\n",
              "<table border=\"1\" class=\"dataframe\">\n",
              "  <thead>\n",
              "    <tr style=\"text-align: right;\">\n",
              "      <th></th>\n",
              "      <th>date</th>\n",
              "      <th>home_team</th>\n",
              "      <th>away_team</th>\n",
              "      <th>home_score</th>\n",
              "      <th>away_score</th>\n",
              "      <th>tournament</th>\n",
              "      <th>city</th>\n",
              "      <th>country</th>\n",
              "      <th>neutral</th>\n",
              "    </tr>\n",
              "  </thead>\n",
              "  <tbody>\n",
              "    <tr>\n",
              "      <th>0</th>\n",
              "      <td>1872-11-30</td>\n",
              "      <td>Scotland</td>\n",
              "      <td>England</td>\n",
              "      <td>0</td>\n",
              "      <td>0</td>\n",
              "      <td>Friendly</td>\n",
              "      <td>Glasgow</td>\n",
              "      <td>Scotland</td>\n",
              "      <td>False</td>\n",
              "    </tr>\n",
              "    <tr>\n",
              "      <th>1</th>\n",
              "      <td>1873-03-08</td>\n",
              "      <td>England</td>\n",
              "      <td>Scotland</td>\n",
              "      <td>4</td>\n",
              "      <td>2</td>\n",
              "      <td>Friendly</td>\n",
              "      <td>London</td>\n",
              "      <td>England</td>\n",
              "      <td>False</td>\n",
              "    </tr>\n",
              "    <tr>\n",
              "      <th>2</th>\n",
              "      <td>1874-03-07</td>\n",
              "      <td>Scotland</td>\n",
              "      <td>England</td>\n",
              "      <td>2</td>\n",
              "      <td>1</td>\n",
              "      <td>Friendly</td>\n",
              "      <td>Glasgow</td>\n",
              "      <td>Scotland</td>\n",
              "      <td>False</td>\n",
              "    </tr>\n",
              "    <tr>\n",
              "      <th>3</th>\n",
              "      <td>1875-03-06</td>\n",
              "      <td>England</td>\n",
              "      <td>Scotland</td>\n",
              "      <td>2</td>\n",
              "      <td>2</td>\n",
              "      <td>Friendly</td>\n",
              "      <td>London</td>\n",
              "      <td>England</td>\n",
              "      <td>False</td>\n",
              "    </tr>\n",
              "    <tr>\n",
              "      <th>4</th>\n",
              "      <td>1876-03-04</td>\n",
              "      <td>Scotland</td>\n",
              "      <td>England</td>\n",
              "      <td>3</td>\n",
              "      <td>0</td>\n",
              "      <td>Friendly</td>\n",
              "      <td>Glasgow</td>\n",
              "      <td>Scotland</td>\n",
              "      <td>False</td>\n",
              "    </tr>\n",
              "  </tbody>\n",
              "</table>\n",
              "</div>"
            ],
            "text/plain": [
              "         date home_team away_team  ...     city   country neutral\n",
              "0  1872-11-30  Scotland   England  ...  Glasgow  Scotland   False\n",
              "1  1873-03-08   England  Scotland  ...   London   England   False\n",
              "2  1874-03-07  Scotland   England  ...  Glasgow  Scotland   False\n",
              "3  1875-03-06   England  Scotland  ...   London   England   False\n",
              "4  1876-03-04  Scotland   England  ...  Glasgow  Scotland   False\n",
              "\n",
              "[5 rows x 9 columns]"
            ]
          },
          "metadata": {
            "tags": []
          },
          "execution_count": 9
        }
      ]
    },
    {
      "cell_type": "code",
      "metadata": {
        "id": "0if90HUgLD6O",
        "colab_type": "code",
        "colab": {
          "base_uri": "https://localhost:8080/",
          "height": 255
        },
        "outputId": "4681f415-27fa-4e56-b0c2-cced77b8f8ed"
      },
      "source": [
        "# previewing the bottom 5 records\n",
        "\n",
        "match_results.tail(5)"
      ],
      "execution_count": 10,
      "outputs": [
        {
          "output_type": "execute_result",
          "data": {
            "text/html": [
              "<div>\n",
              "<style scoped>\n",
              "    .dataframe tbody tr th:only-of-type {\n",
              "        vertical-align: middle;\n",
              "    }\n",
              "\n",
              "    .dataframe tbody tr th {\n",
              "        vertical-align: top;\n",
              "    }\n",
              "\n",
              "    .dataframe thead th {\n",
              "        text-align: right;\n",
              "    }\n",
              "</style>\n",
              "<table border=\"1\" class=\"dataframe\">\n",
              "  <thead>\n",
              "    <tr style=\"text-align: right;\">\n",
              "      <th></th>\n",
              "      <th>date</th>\n",
              "      <th>home_team</th>\n",
              "      <th>away_team</th>\n",
              "      <th>home_score</th>\n",
              "      <th>away_score</th>\n",
              "      <th>tournament</th>\n",
              "      <th>city</th>\n",
              "      <th>country</th>\n",
              "      <th>neutral</th>\n",
              "    </tr>\n",
              "  </thead>\n",
              "  <tbody>\n",
              "    <tr>\n",
              "      <th>40834</th>\n",
              "      <td>7/18/2019</td>\n",
              "      <td>American Samoa</td>\n",
              "      <td>Tahiti</td>\n",
              "      <td>8</td>\n",
              "      <td>1</td>\n",
              "      <td>Pacific Games</td>\n",
              "      <td>Apia</td>\n",
              "      <td>Samoa</td>\n",
              "      <td>True</td>\n",
              "    </tr>\n",
              "    <tr>\n",
              "      <th>40835</th>\n",
              "      <td>7/18/2019</td>\n",
              "      <td>Fiji</td>\n",
              "      <td>Solomon Islands</td>\n",
              "      <td>4</td>\n",
              "      <td>4</td>\n",
              "      <td>Pacific Games</td>\n",
              "      <td>Apia</td>\n",
              "      <td>Samoa</td>\n",
              "      <td>True</td>\n",
              "    </tr>\n",
              "    <tr>\n",
              "      <th>40836</th>\n",
              "      <td>7/19/2019</td>\n",
              "      <td>Senegal</td>\n",
              "      <td>Algeria</td>\n",
              "      <td>0</td>\n",
              "      <td>1</td>\n",
              "      <td>African Cup of Nations</td>\n",
              "      <td>Cairo</td>\n",
              "      <td>Egypt</td>\n",
              "      <td>True</td>\n",
              "    </tr>\n",
              "    <tr>\n",
              "      <th>40837</th>\n",
              "      <td>7/19/2019</td>\n",
              "      <td>Tajikistan</td>\n",
              "      <td>North Korea</td>\n",
              "      <td>0</td>\n",
              "      <td>1</td>\n",
              "      <td>Intercontinental Cup</td>\n",
              "      <td>Ahmedabad</td>\n",
              "      <td>India</td>\n",
              "      <td>True</td>\n",
              "    </tr>\n",
              "    <tr>\n",
              "      <th>40838</th>\n",
              "      <td>7/20/2019</td>\n",
              "      <td>Papua New Guinea</td>\n",
              "      <td>Fiji</td>\n",
              "      <td>1</td>\n",
              "      <td>1</td>\n",
              "      <td>Pacific Games</td>\n",
              "      <td>Apia</td>\n",
              "      <td>Samoa</td>\n",
              "      <td>True</td>\n",
              "    </tr>\n",
              "  </tbody>\n",
              "</table>\n",
              "</div>"
            ],
            "text/plain": [
              "            date         home_team        away_team  ...       city  country neutral\n",
              "40834  7/18/2019    American Samoa           Tahiti  ...       Apia    Samoa    True\n",
              "40835  7/18/2019              Fiji  Solomon Islands  ...       Apia    Samoa    True\n",
              "40836  7/19/2019           Senegal          Algeria  ...      Cairo    Egypt    True\n",
              "40837  7/19/2019        Tajikistan      North Korea  ...  Ahmedabad    India    True\n",
              "40838  7/20/2019  Papua New Guinea             Fiji  ...       Apia    Samoa    True\n",
              "\n",
              "[5 rows x 9 columns]"
            ]
          },
          "metadata": {
            "tags": []
          },
          "execution_count": 10
        }
      ]
    },
    {
      "cell_type": "code",
      "metadata": {
        "id": "mS-zt34BLFPs",
        "colab_type": "code",
        "colab": {
          "base_uri": "https://localhost:8080/",
          "height": 34
        },
        "outputId": "05f51ba3-df0a-46a6-bf97-12798e86527e"
      },
      "source": [
        "# checking the number of records and attributes \n",
        "\n",
        "match_results.shape"
      ],
      "execution_count": 11,
      "outputs": [
        {
          "output_type": "execute_result",
          "data": {
            "text/plain": [
              "(40839, 9)"
            ]
          },
          "metadata": {
            "tags": []
          },
          "execution_count": 11
        }
      ]
    },
    {
      "cell_type": "code",
      "metadata": {
        "id": "s9z5lowJLGcz",
        "colab_type": "code",
        "colab": {
          "base_uri": "https://localhost:8080/",
          "height": 289
        },
        "outputId": "10299457-ef85-4b0b-b3fd-be3178ed45cf"
      },
      "source": [
        "# checking datatypes of each attribute and previewing the existense of null values\n",
        "\n",
        "match_results.info()"
      ],
      "execution_count": 12,
      "outputs": [
        {
          "output_type": "stream",
          "text": [
            "<class 'pandas.core.frame.DataFrame'>\n",
            "RangeIndex: 40839 entries, 0 to 40838\n",
            "Data columns (total 9 columns):\n",
            " #   Column      Non-Null Count  Dtype \n",
            "---  ------      --------------  ----- \n",
            " 0   date        40839 non-null  object\n",
            " 1   home_team   40839 non-null  object\n",
            " 2   away_team   40839 non-null  object\n",
            " 3   home_score  40839 non-null  int64 \n",
            " 4   away_score  40839 non-null  int64 \n",
            " 5   tournament  40839 non-null  object\n",
            " 6   city        40839 non-null  object\n",
            " 7   country     40839 non-null  object\n",
            " 8   neutral     40839 non-null  bool  \n",
            "dtypes: bool(1), int64(2), object(6)\n",
            "memory usage: 2.5+ MB\n"
          ],
          "name": "stdout"
        }
      ]
    },
    {
      "cell_type": "markdown",
      "metadata": {
        "id": "dlar-cZHEIC9",
        "colab_type": "text"
      },
      "source": [
        ">* This second dataframe also has no missing values. Date column needs to be updated to appropriate data type.\n",
        ">* The neutral column should also be an object type and not a bool."
      ]
    },
    {
      "cell_type": "markdown",
      "metadata": {
        "id": "Id8doh1B3PB0",
        "colab_type": "text"
      },
      "source": [
        "# Data Cleaning"
      ]
    },
    {
      "cell_type": "markdown",
      "metadata": {
        "id": "PRsEBQLpPGZ9",
        "colab_type": "text"
      },
      "source": [
        "> We will perform some preliminary data cleaning on the two dataframes then merge the two datasets using an inner join so that we have all results of past matches as well as the national team rankings in one dataframe. We can then perform additional data cleaning procedures on the merged dataset."
      ]
    },
    {
      "cell_type": "code",
      "metadata": {
        "id": "jlxQJl5xPw5F",
        "colab_type": "code",
        "colab": {}
      },
      "source": [
        "# First, convert boolean type to string\n",
        "\n",
        "booleandf = match_results.select_dtypes(include=[bool])\n",
        "booleanDictionary = {True: 'TRUE', False: 'FALSE'}\n",
        "\n",
        "for column in booleandf:\n",
        "    match_results['neutral'] = match_results['neutral'].map(booleanDictionary)"
      ],
      "execution_count": 18,
      "outputs": []
    },
    {
      "cell_type": "markdown",
      "metadata": {
        "id": "qImX4y4JGD83",
        "colab_type": "text"
      },
      "source": [
        ">* We need to have records of matches where the teams are actually true home away teams by dropping the records where teams are playing in neutral grounds"
      ]
    },
    {
      "cell_type": "code",
      "metadata": {
        "id": "P0C9lUGKQLKu",
        "colab_type": "code",
        "colab": {
          "base_uri": "https://localhost:8080/",
          "height": 51
        },
        "outputId": "a1a9a50b-9f23-49be-a5fb-30d60bd2ba16"
      },
      "source": [
        "# Drop records where neutral is true\n",
        "\n",
        "match_results = match_results.drop(match_results[match_results.neutral == 'TRUE'].index)\n",
        "\n",
        "match_results.neutral.value_counts()"
      ],
      "execution_count": 20,
      "outputs": [
        {
          "output_type": "execute_result",
          "data": {
            "text/plain": [
              "FALSE    30680\n",
              "Name: neutral, dtype: int64"
            ]
          },
          "metadata": {
            "tags": []
          },
          "execution_count": 20
        }
      ]
    },
    {
      "cell_type": "code",
      "metadata": {
        "id": "yDrYEzlTPVAG",
        "colab_type": "code",
        "colab": {}
      },
      "source": [
        "# Need to convert date column from object to date type\n",
        "\n",
        "fifa_ranking['rank_date'] = pd.to_datetime(fifa_ranking['rank_date'])\n",
        "match_results['date'] = pd.to_datetime(match_results['date'])\n"
      ],
      "execution_count": 21,
      "outputs": []
    },
    {
      "cell_type": "code",
      "metadata": {
        "id": "MXpz1ywnyGfW",
        "colab_type": "code",
        "colab": {}
      },
      "source": [
        "# Combined month and year column\n",
        "\n",
        "fifa_ranking['month_year'] = pd.to_datetime(fifa_ranking['rank_date']).dt.to_period('M')\n",
        "match_results['month_year'] = pd.to_datetime(match_results['date']).dt.to_period('M')"
      ],
      "execution_count": 22,
      "outputs": []
    },
    {
      "cell_type": "code",
      "metadata": {
        "id": "rXsTzafL5X_Y",
        "colab_type": "code",
        "colab": {}
      },
      "source": [
        "# Dropping unneccessary columns from the fifa ranking dataset\n",
        "\n",
        "fifa_ranking = fifa_ranking.drop(columns=['country_abrv', 'total_points', 'previous_points','rank_change', 'cur_year_avg',\n",
        "       'cur_year_avg_weighted', 'last_year_avg', 'last_year_avg_weighted',\n",
        "       'two_year_ago_avg', 'two_year_ago_weighted', 'three_year_ago_avg',\n",
        "       'three_year_ago_weighted'])"
      ],
      "execution_count": 23,
      "outputs": []
    },
    {
      "cell_type": "code",
      "metadata": {
        "id": "wR8XciNS0p30",
        "colab_type": "code",
        "colab": {
          "base_uri": "https://localhost:8080/",
          "height": 694
        },
        "outputId": "09fdfab4-794d-49b4-f8c1-ab12b38a4cf1"
      },
      "source": [
        "# We can now use an inner join to merge the two datasets\n",
        "\n",
        "# First we merge on the home team to get the home team ranks\n",
        "\n",
        "home_team = pd.merge(match_results, fifa_ranking, left_on= ['home_team', 'month_year'], \n",
        "                     right_on= ['country_full', 'month_year'], how = 'inner')\n",
        "\n",
        "# renaming the rank colum to home_team_rank\n",
        "\n",
        "home_team.rename(columns={'rank' : 'home_team_rank'}, inplace=True)\n",
        "home_team"
      ],
      "execution_count": 24,
      "outputs": [
        {
          "output_type": "execute_result",
          "data": {
            "text/html": [
              "<div>\n",
              "<style scoped>\n",
              "    .dataframe tbody tr th:only-of-type {\n",
              "        vertical-align: middle;\n",
              "    }\n",
              "\n",
              "    .dataframe tbody tr th {\n",
              "        vertical-align: top;\n",
              "    }\n",
              "\n",
              "    .dataframe thead th {\n",
              "        text-align: right;\n",
              "    }\n",
              "</style>\n",
              "<table border=\"1\" class=\"dataframe\">\n",
              "  <thead>\n",
              "    <tr style=\"text-align: right;\">\n",
              "      <th></th>\n",
              "      <th>date</th>\n",
              "      <th>home_team</th>\n",
              "      <th>away_team</th>\n",
              "      <th>home_score</th>\n",
              "      <th>away_score</th>\n",
              "      <th>tournament</th>\n",
              "      <th>city</th>\n",
              "      <th>country</th>\n",
              "      <th>neutral</th>\n",
              "      <th>month_year</th>\n",
              "      <th>home_team_rank</th>\n",
              "      <th>country_full</th>\n",
              "      <th>confederation</th>\n",
              "      <th>rank_date</th>\n",
              "    </tr>\n",
              "  </thead>\n",
              "  <tbody>\n",
              "    <tr>\n",
              "      <th>0</th>\n",
              "      <td>1993-08-01</td>\n",
              "      <td>Colombia</td>\n",
              "      <td>Paraguay</td>\n",
              "      <td>0</td>\n",
              "      <td>0</td>\n",
              "      <td>FIFA World Cup qualification</td>\n",
              "      <td>Barranquilla</td>\n",
              "      <td>Colombia</td>\n",
              "      <td>FALSE</td>\n",
              "      <td>1993-08</td>\n",
              "      <td>19</td>\n",
              "      <td>Colombia</td>\n",
              "      <td>CONMEBOL</td>\n",
              "      <td>1993-08-08</td>\n",
              "    </tr>\n",
              "    <tr>\n",
              "      <th>1</th>\n",
              "      <td>1993-08-15</td>\n",
              "      <td>Colombia</td>\n",
              "      <td>Argentina</td>\n",
              "      <td>2</td>\n",
              "      <td>1</td>\n",
              "      <td>FIFA World Cup qualification</td>\n",
              "      <td>Barranquilla</td>\n",
              "      <td>Colombia</td>\n",
              "      <td>FALSE</td>\n",
              "      <td>1993-08</td>\n",
              "      <td>19</td>\n",
              "      <td>Colombia</td>\n",
              "      <td>CONMEBOL</td>\n",
              "      <td>1993-08-08</td>\n",
              "    </tr>\n",
              "    <tr>\n",
              "      <th>2</th>\n",
              "      <td>1993-08-29</td>\n",
              "      <td>Colombia</td>\n",
              "      <td>Peru</td>\n",
              "      <td>4</td>\n",
              "      <td>0</td>\n",
              "      <td>FIFA World Cup qualification</td>\n",
              "      <td>Barranquilla</td>\n",
              "      <td>Colombia</td>\n",
              "      <td>FALSE</td>\n",
              "      <td>1993-08</td>\n",
              "      <td>19</td>\n",
              "      <td>Colombia</td>\n",
              "      <td>CONMEBOL</td>\n",
              "      <td>1993-08-08</td>\n",
              "    </tr>\n",
              "    <tr>\n",
              "      <th>3</th>\n",
              "      <td>1993-08-01</td>\n",
              "      <td>Peru</td>\n",
              "      <td>Argentina</td>\n",
              "      <td>0</td>\n",
              "      <td>1</td>\n",
              "      <td>FIFA World Cup qualification</td>\n",
              "      <td>Lima</td>\n",
              "      <td>Peru</td>\n",
              "      <td>FALSE</td>\n",
              "      <td>1993-08</td>\n",
              "      <td>70</td>\n",
              "      <td>Peru</td>\n",
              "      <td>CONMEBOL</td>\n",
              "      <td>1993-08-08</td>\n",
              "    </tr>\n",
              "    <tr>\n",
              "      <th>4</th>\n",
              "      <td>1993-08-08</td>\n",
              "      <td>Peru</td>\n",
              "      <td>Colombia</td>\n",
              "      <td>0</td>\n",
              "      <td>1</td>\n",
              "      <td>FIFA World Cup qualification</td>\n",
              "      <td>Lima</td>\n",
              "      <td>Peru</td>\n",
              "      <td>FALSE</td>\n",
              "      <td>1993-08</td>\n",
              "      <td>70</td>\n",
              "      <td>Peru</td>\n",
              "      <td>CONMEBOL</td>\n",
              "      <td>1993-08-08</td>\n",
              "    </tr>\n",
              "    <tr>\n",
              "      <th>...</th>\n",
              "      <td>...</td>\n",
              "      <td>...</td>\n",
              "      <td>...</td>\n",
              "      <td>...</td>\n",
              "      <td>...</td>\n",
              "      <td>...</td>\n",
              "      <td>...</td>\n",
              "      <td>...</td>\n",
              "      <td>...</td>\n",
              "      <td>...</td>\n",
              "      <td>...</td>\n",
              "      <td>...</td>\n",
              "      <td>...</td>\n",
              "      <td>...</td>\n",
              "    </tr>\n",
              "    <tr>\n",
              "      <th>14043</th>\n",
              "      <td>2018-06-12</td>\n",
              "      <td>Poland</td>\n",
              "      <td>Lithuania</td>\n",
              "      <td>4</td>\n",
              "      <td>0</td>\n",
              "      <td>Friendly</td>\n",
              "      <td>Warsaw</td>\n",
              "      <td>Poland</td>\n",
              "      <td>FALSE</td>\n",
              "      <td>2018-06</td>\n",
              "      <td>8</td>\n",
              "      <td>Poland</td>\n",
              "      <td>UEFA</td>\n",
              "      <td>2018-06-07</td>\n",
              "    </tr>\n",
              "    <tr>\n",
              "      <th>14044</th>\n",
              "      <td>2018-06-09</td>\n",
              "      <td>Denmark</td>\n",
              "      <td>Mexico</td>\n",
              "      <td>2</td>\n",
              "      <td>0</td>\n",
              "      <td>Friendly</td>\n",
              "      <td>Brøndby</td>\n",
              "      <td>Denmark</td>\n",
              "      <td>FALSE</td>\n",
              "      <td>2018-06</td>\n",
              "      <td>12</td>\n",
              "      <td>Denmark</td>\n",
              "      <td>UEFA</td>\n",
              "      <td>2018-06-07</td>\n",
              "    </tr>\n",
              "    <tr>\n",
              "      <th>14045</th>\n",
              "      <td>2018-06-09</td>\n",
              "      <td>Hungary</td>\n",
              "      <td>Australia</td>\n",
              "      <td>1</td>\n",
              "      <td>2</td>\n",
              "      <td>Friendly</td>\n",
              "      <td>Budapest</td>\n",
              "      <td>Hungary</td>\n",
              "      <td>FALSE</td>\n",
              "      <td>2018-06</td>\n",
              "      <td>51</td>\n",
              "      <td>Hungary</td>\n",
              "      <td>UEFA</td>\n",
              "      <td>2018-06-07</td>\n",
              "    </tr>\n",
              "    <tr>\n",
              "      <th>14046</th>\n",
              "      <td>2018-06-09</td>\n",
              "      <td>Estonia</td>\n",
              "      <td>Morocco</td>\n",
              "      <td>1</td>\n",
              "      <td>3</td>\n",
              "      <td>Friendly</td>\n",
              "      <td>Tallinn</td>\n",
              "      <td>Estonia</td>\n",
              "      <td>FALSE</td>\n",
              "      <td>2018-06</td>\n",
              "      <td>94</td>\n",
              "      <td>Estonia</td>\n",
              "      <td>UEFA</td>\n",
              "      <td>2018-06-07</td>\n",
              "    </tr>\n",
              "    <tr>\n",
              "      <th>14047</th>\n",
              "      <td>2018-06-09</td>\n",
              "      <td>Finland</td>\n",
              "      <td>Belarus</td>\n",
              "      <td>2</td>\n",
              "      <td>0</td>\n",
              "      <td>Friendly</td>\n",
              "      <td>Tampere</td>\n",
              "      <td>Finland</td>\n",
              "      <td>FALSE</td>\n",
              "      <td>2018-06</td>\n",
              "      <td>63</td>\n",
              "      <td>Finland</td>\n",
              "      <td>UEFA</td>\n",
              "      <td>2018-06-07</td>\n",
              "    </tr>\n",
              "  </tbody>\n",
              "</table>\n",
              "<p>14048 rows × 14 columns</p>\n",
              "</div>"
            ],
            "text/plain": [
              "            date home_team  away_team  ...  country_full  confederation  rank_date\n",
              "0     1993-08-01  Colombia   Paraguay  ...      Colombia       CONMEBOL 1993-08-08\n",
              "1     1993-08-15  Colombia  Argentina  ...      Colombia       CONMEBOL 1993-08-08\n",
              "2     1993-08-29  Colombia       Peru  ...      Colombia       CONMEBOL 1993-08-08\n",
              "3     1993-08-01      Peru  Argentina  ...          Peru       CONMEBOL 1993-08-08\n",
              "4     1993-08-08      Peru   Colombia  ...          Peru       CONMEBOL 1993-08-08\n",
              "...          ...       ...        ...  ...           ...            ...        ...\n",
              "14043 2018-06-12    Poland  Lithuania  ...        Poland           UEFA 2018-06-07\n",
              "14044 2018-06-09   Denmark     Mexico  ...       Denmark           UEFA 2018-06-07\n",
              "14045 2018-06-09   Hungary  Australia  ...       Hungary           UEFA 2018-06-07\n",
              "14046 2018-06-09   Estonia    Morocco  ...       Estonia           UEFA 2018-06-07\n",
              "14047 2018-06-09   Finland    Belarus  ...       Finland           UEFA 2018-06-07\n",
              "\n",
              "[14048 rows x 14 columns]"
            ]
          },
          "metadata": {
            "tags": []
          },
          "execution_count": 24
        }
      ]
    },
    {
      "cell_type": "code",
      "metadata": {
        "id": "1qV4XqcA3xyd",
        "colab_type": "code",
        "colab": {
          "base_uri": "https://localhost:8080/",
          "height": 694
        },
        "outputId": "822bfbbc-9f36-42a8-970c-f4ca975c8ffe"
      },
      "source": [
        "# Next, we merge on the away team to get their ranks\n",
        "\n",
        "away_team = pd.merge(match_results, fifa_ranking, left_on=['away_team', 'month_year'],\n",
        "                     right_on= ['country_full', 'month_year'], how = 'inner')\n",
        "\n",
        "away_team.rename(columns={'rank' : 'away_team_rank'}, inplace=True)\n",
        "away_team"
      ],
      "execution_count": 25,
      "outputs": [
        {
          "output_type": "execute_result",
          "data": {
            "text/html": [
              "<div>\n",
              "<style scoped>\n",
              "    .dataframe tbody tr th:only-of-type {\n",
              "        vertical-align: middle;\n",
              "    }\n",
              "\n",
              "    .dataframe tbody tr th {\n",
              "        vertical-align: top;\n",
              "    }\n",
              "\n",
              "    .dataframe thead th {\n",
              "        text-align: right;\n",
              "    }\n",
              "</style>\n",
              "<table border=\"1\" class=\"dataframe\">\n",
              "  <thead>\n",
              "    <tr style=\"text-align: right;\">\n",
              "      <th></th>\n",
              "      <th>date</th>\n",
              "      <th>home_team</th>\n",
              "      <th>away_team</th>\n",
              "      <th>home_score</th>\n",
              "      <th>away_score</th>\n",
              "      <th>tournament</th>\n",
              "      <th>city</th>\n",
              "      <th>country</th>\n",
              "      <th>neutral</th>\n",
              "      <th>month_year</th>\n",
              "      <th>away_team_rank</th>\n",
              "      <th>country_full</th>\n",
              "      <th>confederation</th>\n",
              "      <th>rank_date</th>\n",
              "    </tr>\n",
              "  </thead>\n",
              "  <tbody>\n",
              "    <tr>\n",
              "      <th>0</th>\n",
              "      <td>1993-08-01</td>\n",
              "      <td>Colombia</td>\n",
              "      <td>Paraguay</td>\n",
              "      <td>0</td>\n",
              "      <td>0</td>\n",
              "      <td>FIFA World Cup qualification</td>\n",
              "      <td>Barranquilla</td>\n",
              "      <td>Colombia</td>\n",
              "      <td>FALSE</td>\n",
              "      <td>1993-08</td>\n",
              "      <td>67</td>\n",
              "      <td>Paraguay</td>\n",
              "      <td>CONMEBOL</td>\n",
              "      <td>1993-08-08</td>\n",
              "    </tr>\n",
              "    <tr>\n",
              "      <th>1</th>\n",
              "      <td>1993-08-29</td>\n",
              "      <td>Argentina</td>\n",
              "      <td>Paraguay</td>\n",
              "      <td>0</td>\n",
              "      <td>0</td>\n",
              "      <td>FIFA World Cup qualification</td>\n",
              "      <td>Buenos Aires</td>\n",
              "      <td>Argentina</td>\n",
              "      <td>FALSE</td>\n",
              "      <td>1993-08</td>\n",
              "      <td>67</td>\n",
              "      <td>Paraguay</td>\n",
              "      <td>CONMEBOL</td>\n",
              "      <td>1993-08-08</td>\n",
              "    </tr>\n",
              "    <tr>\n",
              "      <th>2</th>\n",
              "      <td>1993-08-01</td>\n",
              "      <td>Peru</td>\n",
              "      <td>Argentina</td>\n",
              "      <td>0</td>\n",
              "      <td>1</td>\n",
              "      <td>FIFA World Cup qualification</td>\n",
              "      <td>Lima</td>\n",
              "      <td>Peru</td>\n",
              "      <td>FALSE</td>\n",
              "      <td>1993-08</td>\n",
              "      <td>5</td>\n",
              "      <td>Argentina</td>\n",
              "      <td>CONMEBOL</td>\n",
              "      <td>1993-08-08</td>\n",
              "    </tr>\n",
              "    <tr>\n",
              "      <th>3</th>\n",
              "      <td>1993-08-08</td>\n",
              "      <td>Paraguay</td>\n",
              "      <td>Argentina</td>\n",
              "      <td>1</td>\n",
              "      <td>3</td>\n",
              "      <td>FIFA World Cup qualification</td>\n",
              "      <td>Asunción</td>\n",
              "      <td>Paraguay</td>\n",
              "      <td>FALSE</td>\n",
              "      <td>1993-08</td>\n",
              "      <td>5</td>\n",
              "      <td>Argentina</td>\n",
              "      <td>CONMEBOL</td>\n",
              "      <td>1993-08-08</td>\n",
              "    </tr>\n",
              "    <tr>\n",
              "      <th>4</th>\n",
              "      <td>1993-08-15</td>\n",
              "      <td>Colombia</td>\n",
              "      <td>Argentina</td>\n",
              "      <td>2</td>\n",
              "      <td>1</td>\n",
              "      <td>FIFA World Cup qualification</td>\n",
              "      <td>Barranquilla</td>\n",
              "      <td>Colombia</td>\n",
              "      <td>FALSE</td>\n",
              "      <td>1993-08</td>\n",
              "      <td>5</td>\n",
              "      <td>Argentina</td>\n",
              "      <td>CONMEBOL</td>\n",
              "      <td>1993-08-08</td>\n",
              "    </tr>\n",
              "    <tr>\n",
              "      <th>...</th>\n",
              "      <td>...</td>\n",
              "      <td>...</td>\n",
              "      <td>...</td>\n",
              "      <td>...</td>\n",
              "      <td>...</td>\n",
              "      <td>...</td>\n",
              "      <td>...</td>\n",
              "      <td>...</td>\n",
              "      <td>...</td>\n",
              "      <td>...</td>\n",
              "      <td>...</td>\n",
              "      <td>...</td>\n",
              "      <td>...</td>\n",
              "      <td>...</td>\n",
              "    </tr>\n",
              "    <tr>\n",
              "      <th>14035</th>\n",
              "      <td>2018-06-09</td>\n",
              "      <td>Estonia</td>\n",
              "      <td>Morocco</td>\n",
              "      <td>1</td>\n",
              "      <td>3</td>\n",
              "      <td>Friendly</td>\n",
              "      <td>Tallinn</td>\n",
              "      <td>Estonia</td>\n",
              "      <td>FALSE</td>\n",
              "      <td>2018-06</td>\n",
              "      <td>41</td>\n",
              "      <td>Morocco</td>\n",
              "      <td>CAF</td>\n",
              "      <td>2018-06-07</td>\n",
              "    </tr>\n",
              "    <tr>\n",
              "      <th>14036</th>\n",
              "      <td>2018-06-09</td>\n",
              "      <td>Finland</td>\n",
              "      <td>Belarus</td>\n",
              "      <td>2</td>\n",
              "      <td>0</td>\n",
              "      <td>Friendly</td>\n",
              "      <td>Tampere</td>\n",
              "      <td>Finland</td>\n",
              "      <td>FALSE</td>\n",
              "      <td>2018-06</td>\n",
              "      <td>78</td>\n",
              "      <td>Belarus</td>\n",
              "      <td>UEFA</td>\n",
              "      <td>2018-06-07</td>\n",
              "    </tr>\n",
              "    <tr>\n",
              "      <th>14037</th>\n",
              "      <td>2018-06-10</td>\n",
              "      <td>Austria</td>\n",
              "      <td>Brazil</td>\n",
              "      <td>0</td>\n",
              "      <td>3</td>\n",
              "      <td>Friendly</td>\n",
              "      <td>Vienna</td>\n",
              "      <td>Austria</td>\n",
              "      <td>FALSE</td>\n",
              "      <td>2018-06</td>\n",
              "      <td>2</td>\n",
              "      <td>Brazil</td>\n",
              "      <td>CONMEBOL</td>\n",
              "      <td>2018-06-07</td>\n",
              "    </tr>\n",
              "    <tr>\n",
              "      <th>14038</th>\n",
              "      <td>2018-06-12</td>\n",
              "      <td>Poland</td>\n",
              "      <td>Lithuania</td>\n",
              "      <td>4</td>\n",
              "      <td>0</td>\n",
              "      <td>Friendly</td>\n",
              "      <td>Warsaw</td>\n",
              "      <td>Poland</td>\n",
              "      <td>FALSE</td>\n",
              "      <td>2018-06</td>\n",
              "      <td>126</td>\n",
              "      <td>Lithuania</td>\n",
              "      <td>UEFA</td>\n",
              "      <td>2018-06-07</td>\n",
              "    </tr>\n",
              "    <tr>\n",
              "      <th>14039</th>\n",
              "      <td>2018-06-25</td>\n",
              "      <td>Russia</td>\n",
              "      <td>Uruguay</td>\n",
              "      <td>0</td>\n",
              "      <td>3</td>\n",
              "      <td>FIFA World Cup</td>\n",
              "      <td>Samara</td>\n",
              "      <td>Russia</td>\n",
              "      <td>FALSE</td>\n",
              "      <td>2018-06</td>\n",
              "      <td>14</td>\n",
              "      <td>Uruguay</td>\n",
              "      <td>CONMEBOL</td>\n",
              "      <td>2018-06-07</td>\n",
              "    </tr>\n",
              "  </tbody>\n",
              "</table>\n",
              "<p>14040 rows × 14 columns</p>\n",
              "</div>"
            ],
            "text/plain": [
              "            date  home_team  away_team  ...  country_full  confederation  rank_date\n",
              "0     1993-08-01   Colombia   Paraguay  ...      Paraguay       CONMEBOL 1993-08-08\n",
              "1     1993-08-29  Argentina   Paraguay  ...      Paraguay       CONMEBOL 1993-08-08\n",
              "2     1993-08-01       Peru  Argentina  ...     Argentina       CONMEBOL 1993-08-08\n",
              "3     1993-08-08   Paraguay  Argentina  ...     Argentina       CONMEBOL 1993-08-08\n",
              "4     1993-08-15   Colombia  Argentina  ...     Argentina       CONMEBOL 1993-08-08\n",
              "...          ...        ...        ...  ...           ...            ...        ...\n",
              "14035 2018-06-09    Estonia    Morocco  ...       Morocco            CAF 2018-06-07\n",
              "14036 2018-06-09    Finland    Belarus  ...       Belarus           UEFA 2018-06-07\n",
              "14037 2018-06-10    Austria     Brazil  ...        Brazil       CONMEBOL 2018-06-07\n",
              "14038 2018-06-12     Poland  Lithuania  ...     Lithuania           UEFA 2018-06-07\n",
              "14039 2018-06-25     Russia    Uruguay  ...       Uruguay       CONMEBOL 2018-06-07\n",
              "\n",
              "[14040 rows x 14 columns]"
            ]
          },
          "metadata": {
            "tags": []
          },
          "execution_count": 25
        }
      ]
    },
    {
      "cell_type": "markdown",
      "metadata": {
        "id": "4j2-wz0hDGBZ",
        "colab_type": "text"
      },
      "source": [
        ">* The away_team and home_team dataframe have similar columns so we can get only the unique column from the away_team to merge with full home_team dataframe in order to produce the final dataframe"
      ]
    },
    {
      "cell_type": "code",
      "metadata": {
        "id": "WAP8pUb9AORR",
        "colab_type": "code",
        "colab": {
          "base_uri": "https://localhost:8080/",
          "height": 419
        },
        "outputId": "bc19fc02-92f2-4dfa-8bfa-10bc0654d91a"
      },
      "source": [
        "# extract unique colums for away_team\n",
        "\n",
        "final_away_team = away_team[['date','home_team', 'away_team', 'away_team_rank']]\n",
        "final_away_team"
      ],
      "execution_count": 26,
      "outputs": [
        {
          "output_type": "execute_result",
          "data": {
            "text/html": [
              "<div>\n",
              "<style scoped>\n",
              "    .dataframe tbody tr th:only-of-type {\n",
              "        vertical-align: middle;\n",
              "    }\n",
              "\n",
              "    .dataframe tbody tr th {\n",
              "        vertical-align: top;\n",
              "    }\n",
              "\n",
              "    .dataframe thead th {\n",
              "        text-align: right;\n",
              "    }\n",
              "</style>\n",
              "<table border=\"1\" class=\"dataframe\">\n",
              "  <thead>\n",
              "    <tr style=\"text-align: right;\">\n",
              "      <th></th>\n",
              "      <th>date</th>\n",
              "      <th>home_team</th>\n",
              "      <th>away_team</th>\n",
              "      <th>away_team_rank</th>\n",
              "    </tr>\n",
              "  </thead>\n",
              "  <tbody>\n",
              "    <tr>\n",
              "      <th>0</th>\n",
              "      <td>1993-08-01</td>\n",
              "      <td>Colombia</td>\n",
              "      <td>Paraguay</td>\n",
              "      <td>67</td>\n",
              "    </tr>\n",
              "    <tr>\n",
              "      <th>1</th>\n",
              "      <td>1993-08-29</td>\n",
              "      <td>Argentina</td>\n",
              "      <td>Paraguay</td>\n",
              "      <td>67</td>\n",
              "    </tr>\n",
              "    <tr>\n",
              "      <th>2</th>\n",
              "      <td>1993-08-01</td>\n",
              "      <td>Peru</td>\n",
              "      <td>Argentina</td>\n",
              "      <td>5</td>\n",
              "    </tr>\n",
              "    <tr>\n",
              "      <th>3</th>\n",
              "      <td>1993-08-08</td>\n",
              "      <td>Paraguay</td>\n",
              "      <td>Argentina</td>\n",
              "      <td>5</td>\n",
              "    </tr>\n",
              "    <tr>\n",
              "      <th>4</th>\n",
              "      <td>1993-08-15</td>\n",
              "      <td>Colombia</td>\n",
              "      <td>Argentina</td>\n",
              "      <td>5</td>\n",
              "    </tr>\n",
              "    <tr>\n",
              "      <th>...</th>\n",
              "      <td>...</td>\n",
              "      <td>...</td>\n",
              "      <td>...</td>\n",
              "      <td>...</td>\n",
              "    </tr>\n",
              "    <tr>\n",
              "      <th>14035</th>\n",
              "      <td>2018-06-09</td>\n",
              "      <td>Estonia</td>\n",
              "      <td>Morocco</td>\n",
              "      <td>41</td>\n",
              "    </tr>\n",
              "    <tr>\n",
              "      <th>14036</th>\n",
              "      <td>2018-06-09</td>\n",
              "      <td>Finland</td>\n",
              "      <td>Belarus</td>\n",
              "      <td>78</td>\n",
              "    </tr>\n",
              "    <tr>\n",
              "      <th>14037</th>\n",
              "      <td>2018-06-10</td>\n",
              "      <td>Austria</td>\n",
              "      <td>Brazil</td>\n",
              "      <td>2</td>\n",
              "    </tr>\n",
              "    <tr>\n",
              "      <th>14038</th>\n",
              "      <td>2018-06-12</td>\n",
              "      <td>Poland</td>\n",
              "      <td>Lithuania</td>\n",
              "      <td>126</td>\n",
              "    </tr>\n",
              "    <tr>\n",
              "      <th>14039</th>\n",
              "      <td>2018-06-25</td>\n",
              "      <td>Russia</td>\n",
              "      <td>Uruguay</td>\n",
              "      <td>14</td>\n",
              "    </tr>\n",
              "  </tbody>\n",
              "</table>\n",
              "<p>14040 rows × 4 columns</p>\n",
              "</div>"
            ],
            "text/plain": [
              "            date  home_team  away_team  away_team_rank\n",
              "0     1993-08-01   Colombia   Paraguay              67\n",
              "1     1993-08-29  Argentina   Paraguay              67\n",
              "2     1993-08-01       Peru  Argentina               5\n",
              "3     1993-08-08   Paraguay  Argentina               5\n",
              "4     1993-08-15   Colombia  Argentina               5\n",
              "...          ...        ...        ...             ...\n",
              "14035 2018-06-09    Estonia    Morocco              41\n",
              "14036 2018-06-09    Finland    Belarus              78\n",
              "14037 2018-06-10    Austria     Brazil               2\n",
              "14038 2018-06-12     Poland  Lithuania             126\n",
              "14039 2018-06-25     Russia    Uruguay              14\n",
              "\n",
              "[14040 rows x 4 columns]"
            ]
          },
          "metadata": {
            "tags": []
          },
          "execution_count": 26
        }
      ]
    },
    {
      "cell_type": "code",
      "metadata": {
        "id": "kxgROAro9AON",
        "colab_type": "code",
        "colab": {
          "base_uri": "https://localhost:8080/",
          "height": 694
        },
        "outputId": "f3acedd0-7e7b-404e-9cc3-0250a3a95d0a"
      },
      "source": [
        "# Merge home team dataframe and final away team dataframe\n",
        "\n",
        "final = pd.merge(home_team, final_away_team, left_on = ['home_team', 'away_team', 'date'],\n",
        "                 right_on = ['home_team', 'away_team', 'date'], how = 'inner')\n",
        "\n",
        "final"
      ],
      "execution_count": 27,
      "outputs": [
        {
          "output_type": "execute_result",
          "data": {
            "text/html": [
              "<div>\n",
              "<style scoped>\n",
              "    .dataframe tbody tr th:only-of-type {\n",
              "        vertical-align: middle;\n",
              "    }\n",
              "\n",
              "    .dataframe tbody tr th {\n",
              "        vertical-align: top;\n",
              "    }\n",
              "\n",
              "    .dataframe thead th {\n",
              "        text-align: right;\n",
              "    }\n",
              "</style>\n",
              "<table border=\"1\" class=\"dataframe\">\n",
              "  <thead>\n",
              "    <tr style=\"text-align: right;\">\n",
              "      <th></th>\n",
              "      <th>date</th>\n",
              "      <th>home_team</th>\n",
              "      <th>away_team</th>\n",
              "      <th>home_score</th>\n",
              "      <th>away_score</th>\n",
              "      <th>tournament</th>\n",
              "      <th>city</th>\n",
              "      <th>country</th>\n",
              "      <th>neutral</th>\n",
              "      <th>month_year</th>\n",
              "      <th>home_team_rank</th>\n",
              "      <th>country_full</th>\n",
              "      <th>confederation</th>\n",
              "      <th>rank_date</th>\n",
              "      <th>away_team_rank</th>\n",
              "    </tr>\n",
              "  </thead>\n",
              "  <tbody>\n",
              "    <tr>\n",
              "      <th>0</th>\n",
              "      <td>1993-08-01</td>\n",
              "      <td>Colombia</td>\n",
              "      <td>Paraguay</td>\n",
              "      <td>0</td>\n",
              "      <td>0</td>\n",
              "      <td>FIFA World Cup qualification</td>\n",
              "      <td>Barranquilla</td>\n",
              "      <td>Colombia</td>\n",
              "      <td>FALSE</td>\n",
              "      <td>1993-08</td>\n",
              "      <td>19</td>\n",
              "      <td>Colombia</td>\n",
              "      <td>CONMEBOL</td>\n",
              "      <td>1993-08-08</td>\n",
              "      <td>67</td>\n",
              "    </tr>\n",
              "    <tr>\n",
              "      <th>1</th>\n",
              "      <td>1993-08-15</td>\n",
              "      <td>Colombia</td>\n",
              "      <td>Argentina</td>\n",
              "      <td>2</td>\n",
              "      <td>1</td>\n",
              "      <td>FIFA World Cup qualification</td>\n",
              "      <td>Barranquilla</td>\n",
              "      <td>Colombia</td>\n",
              "      <td>FALSE</td>\n",
              "      <td>1993-08</td>\n",
              "      <td>19</td>\n",
              "      <td>Colombia</td>\n",
              "      <td>CONMEBOL</td>\n",
              "      <td>1993-08-08</td>\n",
              "      <td>5</td>\n",
              "    </tr>\n",
              "    <tr>\n",
              "      <th>2</th>\n",
              "      <td>1993-08-29</td>\n",
              "      <td>Colombia</td>\n",
              "      <td>Peru</td>\n",
              "      <td>4</td>\n",
              "      <td>0</td>\n",
              "      <td>FIFA World Cup qualification</td>\n",
              "      <td>Barranquilla</td>\n",
              "      <td>Colombia</td>\n",
              "      <td>FALSE</td>\n",
              "      <td>1993-08</td>\n",
              "      <td>19</td>\n",
              "      <td>Colombia</td>\n",
              "      <td>CONMEBOL</td>\n",
              "      <td>1993-08-08</td>\n",
              "      <td>70</td>\n",
              "    </tr>\n",
              "    <tr>\n",
              "      <th>3</th>\n",
              "      <td>1993-08-01</td>\n",
              "      <td>Peru</td>\n",
              "      <td>Argentina</td>\n",
              "      <td>0</td>\n",
              "      <td>1</td>\n",
              "      <td>FIFA World Cup qualification</td>\n",
              "      <td>Lima</td>\n",
              "      <td>Peru</td>\n",
              "      <td>FALSE</td>\n",
              "      <td>1993-08</td>\n",
              "      <td>70</td>\n",
              "      <td>Peru</td>\n",
              "      <td>CONMEBOL</td>\n",
              "      <td>1993-08-08</td>\n",
              "      <td>5</td>\n",
              "    </tr>\n",
              "    <tr>\n",
              "      <th>4</th>\n",
              "      <td>1993-08-08</td>\n",
              "      <td>Peru</td>\n",
              "      <td>Colombia</td>\n",
              "      <td>0</td>\n",
              "      <td>1</td>\n",
              "      <td>FIFA World Cup qualification</td>\n",
              "      <td>Lima</td>\n",
              "      <td>Peru</td>\n",
              "      <td>FALSE</td>\n",
              "      <td>1993-08</td>\n",
              "      <td>70</td>\n",
              "      <td>Peru</td>\n",
              "      <td>CONMEBOL</td>\n",
              "      <td>1993-08-08</td>\n",
              "      <td>19</td>\n",
              "    </tr>\n",
              "    <tr>\n",
              "      <th>...</th>\n",
              "      <td>...</td>\n",
              "      <td>...</td>\n",
              "      <td>...</td>\n",
              "      <td>...</td>\n",
              "      <td>...</td>\n",
              "      <td>...</td>\n",
              "      <td>...</td>\n",
              "      <td>...</td>\n",
              "      <td>...</td>\n",
              "      <td>...</td>\n",
              "      <td>...</td>\n",
              "      <td>...</td>\n",
              "      <td>...</td>\n",
              "      <td>...</td>\n",
              "      <td>...</td>\n",
              "    </tr>\n",
              "    <tr>\n",
              "      <th>12945</th>\n",
              "      <td>2018-06-12</td>\n",
              "      <td>Poland</td>\n",
              "      <td>Lithuania</td>\n",
              "      <td>4</td>\n",
              "      <td>0</td>\n",
              "      <td>Friendly</td>\n",
              "      <td>Warsaw</td>\n",
              "      <td>Poland</td>\n",
              "      <td>FALSE</td>\n",
              "      <td>2018-06</td>\n",
              "      <td>8</td>\n",
              "      <td>Poland</td>\n",
              "      <td>UEFA</td>\n",
              "      <td>2018-06-07</td>\n",
              "      <td>126</td>\n",
              "    </tr>\n",
              "    <tr>\n",
              "      <th>12946</th>\n",
              "      <td>2018-06-09</td>\n",
              "      <td>Denmark</td>\n",
              "      <td>Mexico</td>\n",
              "      <td>2</td>\n",
              "      <td>0</td>\n",
              "      <td>Friendly</td>\n",
              "      <td>Brøndby</td>\n",
              "      <td>Denmark</td>\n",
              "      <td>FALSE</td>\n",
              "      <td>2018-06</td>\n",
              "      <td>12</td>\n",
              "      <td>Denmark</td>\n",
              "      <td>UEFA</td>\n",
              "      <td>2018-06-07</td>\n",
              "      <td>15</td>\n",
              "    </tr>\n",
              "    <tr>\n",
              "      <th>12947</th>\n",
              "      <td>2018-06-09</td>\n",
              "      <td>Hungary</td>\n",
              "      <td>Australia</td>\n",
              "      <td>1</td>\n",
              "      <td>2</td>\n",
              "      <td>Friendly</td>\n",
              "      <td>Budapest</td>\n",
              "      <td>Hungary</td>\n",
              "      <td>FALSE</td>\n",
              "      <td>2018-06</td>\n",
              "      <td>51</td>\n",
              "      <td>Hungary</td>\n",
              "      <td>UEFA</td>\n",
              "      <td>2018-06-07</td>\n",
              "      <td>36</td>\n",
              "    </tr>\n",
              "    <tr>\n",
              "      <th>12948</th>\n",
              "      <td>2018-06-09</td>\n",
              "      <td>Estonia</td>\n",
              "      <td>Morocco</td>\n",
              "      <td>1</td>\n",
              "      <td>3</td>\n",
              "      <td>Friendly</td>\n",
              "      <td>Tallinn</td>\n",
              "      <td>Estonia</td>\n",
              "      <td>FALSE</td>\n",
              "      <td>2018-06</td>\n",
              "      <td>94</td>\n",
              "      <td>Estonia</td>\n",
              "      <td>UEFA</td>\n",
              "      <td>2018-06-07</td>\n",
              "      <td>41</td>\n",
              "    </tr>\n",
              "    <tr>\n",
              "      <th>12949</th>\n",
              "      <td>2018-06-09</td>\n",
              "      <td>Finland</td>\n",
              "      <td>Belarus</td>\n",
              "      <td>2</td>\n",
              "      <td>0</td>\n",
              "      <td>Friendly</td>\n",
              "      <td>Tampere</td>\n",
              "      <td>Finland</td>\n",
              "      <td>FALSE</td>\n",
              "      <td>2018-06</td>\n",
              "      <td>63</td>\n",
              "      <td>Finland</td>\n",
              "      <td>UEFA</td>\n",
              "      <td>2018-06-07</td>\n",
              "      <td>78</td>\n",
              "    </tr>\n",
              "  </tbody>\n",
              "</table>\n",
              "<p>12950 rows × 15 columns</p>\n",
              "</div>"
            ],
            "text/plain": [
              "            date home_team  away_team  ...  confederation  rank_date away_team_rank\n",
              "0     1993-08-01  Colombia   Paraguay  ...       CONMEBOL 1993-08-08             67\n",
              "1     1993-08-15  Colombia  Argentina  ...       CONMEBOL 1993-08-08              5\n",
              "2     1993-08-29  Colombia       Peru  ...       CONMEBOL 1993-08-08             70\n",
              "3     1993-08-01      Peru  Argentina  ...       CONMEBOL 1993-08-08              5\n",
              "4     1993-08-08      Peru   Colombia  ...       CONMEBOL 1993-08-08             19\n",
              "...          ...       ...        ...  ...            ...        ...            ...\n",
              "12945 2018-06-12    Poland  Lithuania  ...           UEFA 2018-06-07            126\n",
              "12946 2018-06-09   Denmark     Mexico  ...           UEFA 2018-06-07             15\n",
              "12947 2018-06-09   Hungary  Australia  ...           UEFA 2018-06-07             36\n",
              "12948 2018-06-09   Estonia    Morocco  ...           UEFA 2018-06-07             41\n",
              "12949 2018-06-09   Finland    Belarus  ...           UEFA 2018-06-07             78\n",
              "\n",
              "[12950 rows x 15 columns]"
            ]
          },
          "metadata": {
            "tags": []
          },
          "execution_count": 27
        }
      ]
    },
    {
      "cell_type": "code",
      "metadata": {
        "id": "6zm2O6ozGgRo",
        "colab_type": "code",
        "colab": {
          "base_uri": "https://localhost:8080/",
          "height": 589
        },
        "outputId": "440e8335-38d2-4a46-d19b-7d3cc1499437"
      },
      "source": [
        "# Drop unnecessary columns in the final dataframe\n",
        "\n",
        "final = final.drop(columns=['country_full', 'confederation', 'rank_date', 'month_year', 'city',\n",
        "                            'country'])\n",
        "final"
      ],
      "execution_count": 28,
      "outputs": [
        {
          "output_type": "execute_result",
          "data": {
            "text/html": [
              "<div>\n",
              "<style scoped>\n",
              "    .dataframe tbody tr th:only-of-type {\n",
              "        vertical-align: middle;\n",
              "    }\n",
              "\n",
              "    .dataframe tbody tr th {\n",
              "        vertical-align: top;\n",
              "    }\n",
              "\n",
              "    .dataframe thead th {\n",
              "        text-align: right;\n",
              "    }\n",
              "</style>\n",
              "<table border=\"1\" class=\"dataframe\">\n",
              "  <thead>\n",
              "    <tr style=\"text-align: right;\">\n",
              "      <th></th>\n",
              "      <th>date</th>\n",
              "      <th>home_team</th>\n",
              "      <th>away_team</th>\n",
              "      <th>home_score</th>\n",
              "      <th>away_score</th>\n",
              "      <th>tournament</th>\n",
              "      <th>neutral</th>\n",
              "      <th>home_team_rank</th>\n",
              "      <th>away_team_rank</th>\n",
              "    </tr>\n",
              "  </thead>\n",
              "  <tbody>\n",
              "    <tr>\n",
              "      <th>0</th>\n",
              "      <td>1993-08-01</td>\n",
              "      <td>Colombia</td>\n",
              "      <td>Paraguay</td>\n",
              "      <td>0</td>\n",
              "      <td>0</td>\n",
              "      <td>FIFA World Cup qualification</td>\n",
              "      <td>FALSE</td>\n",
              "      <td>19</td>\n",
              "      <td>67</td>\n",
              "    </tr>\n",
              "    <tr>\n",
              "      <th>1</th>\n",
              "      <td>1993-08-15</td>\n",
              "      <td>Colombia</td>\n",
              "      <td>Argentina</td>\n",
              "      <td>2</td>\n",
              "      <td>1</td>\n",
              "      <td>FIFA World Cup qualification</td>\n",
              "      <td>FALSE</td>\n",
              "      <td>19</td>\n",
              "      <td>5</td>\n",
              "    </tr>\n",
              "    <tr>\n",
              "      <th>2</th>\n",
              "      <td>1993-08-29</td>\n",
              "      <td>Colombia</td>\n",
              "      <td>Peru</td>\n",
              "      <td>4</td>\n",
              "      <td>0</td>\n",
              "      <td>FIFA World Cup qualification</td>\n",
              "      <td>FALSE</td>\n",
              "      <td>19</td>\n",
              "      <td>70</td>\n",
              "    </tr>\n",
              "    <tr>\n",
              "      <th>3</th>\n",
              "      <td>1993-08-01</td>\n",
              "      <td>Peru</td>\n",
              "      <td>Argentina</td>\n",
              "      <td>0</td>\n",
              "      <td>1</td>\n",
              "      <td>FIFA World Cup qualification</td>\n",
              "      <td>FALSE</td>\n",
              "      <td>70</td>\n",
              "      <td>5</td>\n",
              "    </tr>\n",
              "    <tr>\n",
              "      <th>4</th>\n",
              "      <td>1993-08-08</td>\n",
              "      <td>Peru</td>\n",
              "      <td>Colombia</td>\n",
              "      <td>0</td>\n",
              "      <td>1</td>\n",
              "      <td>FIFA World Cup qualification</td>\n",
              "      <td>FALSE</td>\n",
              "      <td>70</td>\n",
              "      <td>19</td>\n",
              "    </tr>\n",
              "    <tr>\n",
              "      <th>...</th>\n",
              "      <td>...</td>\n",
              "      <td>...</td>\n",
              "      <td>...</td>\n",
              "      <td>...</td>\n",
              "      <td>...</td>\n",
              "      <td>...</td>\n",
              "      <td>...</td>\n",
              "      <td>...</td>\n",
              "      <td>...</td>\n",
              "    </tr>\n",
              "    <tr>\n",
              "      <th>12945</th>\n",
              "      <td>2018-06-12</td>\n",
              "      <td>Poland</td>\n",
              "      <td>Lithuania</td>\n",
              "      <td>4</td>\n",
              "      <td>0</td>\n",
              "      <td>Friendly</td>\n",
              "      <td>FALSE</td>\n",
              "      <td>8</td>\n",
              "      <td>126</td>\n",
              "    </tr>\n",
              "    <tr>\n",
              "      <th>12946</th>\n",
              "      <td>2018-06-09</td>\n",
              "      <td>Denmark</td>\n",
              "      <td>Mexico</td>\n",
              "      <td>2</td>\n",
              "      <td>0</td>\n",
              "      <td>Friendly</td>\n",
              "      <td>FALSE</td>\n",
              "      <td>12</td>\n",
              "      <td>15</td>\n",
              "    </tr>\n",
              "    <tr>\n",
              "      <th>12947</th>\n",
              "      <td>2018-06-09</td>\n",
              "      <td>Hungary</td>\n",
              "      <td>Australia</td>\n",
              "      <td>1</td>\n",
              "      <td>2</td>\n",
              "      <td>Friendly</td>\n",
              "      <td>FALSE</td>\n",
              "      <td>51</td>\n",
              "      <td>36</td>\n",
              "    </tr>\n",
              "    <tr>\n",
              "      <th>12948</th>\n",
              "      <td>2018-06-09</td>\n",
              "      <td>Estonia</td>\n",
              "      <td>Morocco</td>\n",
              "      <td>1</td>\n",
              "      <td>3</td>\n",
              "      <td>Friendly</td>\n",
              "      <td>FALSE</td>\n",
              "      <td>94</td>\n",
              "      <td>41</td>\n",
              "    </tr>\n",
              "    <tr>\n",
              "      <th>12949</th>\n",
              "      <td>2018-06-09</td>\n",
              "      <td>Finland</td>\n",
              "      <td>Belarus</td>\n",
              "      <td>2</td>\n",
              "      <td>0</td>\n",
              "      <td>Friendly</td>\n",
              "      <td>FALSE</td>\n",
              "      <td>63</td>\n",
              "      <td>78</td>\n",
              "    </tr>\n",
              "  </tbody>\n",
              "</table>\n",
              "<p>12950 rows × 9 columns</p>\n",
              "</div>"
            ],
            "text/plain": [
              "            date home_team  away_team  ...  neutral  home_team_rank away_team_rank\n",
              "0     1993-08-01  Colombia   Paraguay  ...    FALSE              19             67\n",
              "1     1993-08-15  Colombia  Argentina  ...    FALSE              19              5\n",
              "2     1993-08-29  Colombia       Peru  ...    FALSE              19             70\n",
              "3     1993-08-01      Peru  Argentina  ...    FALSE              70              5\n",
              "4     1993-08-08      Peru   Colombia  ...    FALSE              70             19\n",
              "...          ...       ...        ...  ...      ...             ...            ...\n",
              "12945 2018-06-12    Poland  Lithuania  ...    FALSE               8            126\n",
              "12946 2018-06-09   Denmark     Mexico  ...    FALSE              12             15\n",
              "12947 2018-06-09   Hungary  Australia  ...    FALSE              51             36\n",
              "12948 2018-06-09   Estonia    Morocco  ...    FALSE              94             41\n",
              "12949 2018-06-09   Finland    Belarus  ...    FALSE              63             78\n",
              "\n",
              "[12950 rows x 9 columns]"
            ]
          },
          "metadata": {
            "tags": []
          },
          "execution_count": 28
        }
      ]
    },
    {
      "cell_type": "code",
      "metadata": {
        "id": "Q1ad6hKe7p8-",
        "colab_type": "code",
        "colab": {
          "base_uri": "https://localhost:8080/",
          "height": 34
        },
        "outputId": "7ffe8004-8949-469d-e3a0-c71082b2c89f"
      },
      "source": [
        "# Checking for duplicate records\n",
        "\n",
        "final.duplicated().any()"
      ],
      "execution_count": 29,
      "outputs": [
        {
          "output_type": "execute_result",
          "data": {
            "text/plain": [
              "True"
            ]
          },
          "metadata": {
            "tags": []
          },
          "execution_count": 29
        }
      ]
    },
    {
      "cell_type": "code",
      "metadata": {
        "id": "B5cgKF-S_3Wy",
        "colab_type": "code",
        "colab": {}
      },
      "source": [
        "# Drop duplicates \n",
        "\n",
        "final.drop_duplicates(keep = 'first', inplace=True)"
      ],
      "execution_count": 30,
      "outputs": []
    },
    {
      "cell_type": "code",
      "metadata": {
        "id": "ZZvGcEGcAF2E",
        "colab_type": "code",
        "colab": {
          "base_uri": "https://localhost:8080/",
          "height": 34
        },
        "outputId": "0e5ec7e1-13d5-47f5-f666-fc13ed60efe8"
      },
      "source": [
        "# Verify there are no more duplicates\n",
        "\n",
        "final.duplicated().any()"
      ],
      "execution_count": 31,
      "outputs": [
        {
          "output_type": "execute_result",
          "data": {
            "text/plain": [
              "False"
            ]
          },
          "metadata": {
            "tags": []
          },
          "execution_count": 31
        }
      ]
    },
    {
      "cell_type": "code",
      "metadata": {
        "id": "ptk1HoBnB0SX",
        "colab_type": "code",
        "colab": {
          "base_uri": "https://localhost:8080/",
          "height": 34
        },
        "outputId": "f94372b3-e6d1-440d-a614-991400d517e5"
      },
      "source": [
        "# Number of records after dropping duplicates\n",
        "\n",
        "final.shape"
      ],
      "execution_count": 32,
      "outputs": [
        {
          "output_type": "execute_result",
          "data": {
            "text/plain": [
              "(12916, 9)"
            ]
          },
          "metadata": {
            "tags": []
          },
          "execution_count": 32
        }
      ]
    },
    {
      "cell_type": "markdown",
      "metadata": {
        "id": "ZszAWZHCAU3S",
        "colab_type": "text"
      },
      "source": [
        "> Outliers"
      ]
    },
    {
      "cell_type": "code",
      "metadata": {
        "id": "RkZ9vF03AZJK",
        "colab_type": "code",
        "colab": {
          "base_uri": "https://localhost:8080/",
          "height": 430
        },
        "outputId": "0b447247-d13d-4ebb-993e-29af039fa1d6"
      },
      "source": [
        "# Checking for outliers using boxplots\n",
        "\n",
        "fig, ax = plt.subplots(1,2, figsize=(20,8))\n",
        "fig.suptitle('Boxplots')\n",
        "sns.boxplot(data=final, y = \"home_score\", ax=ax[0])\n",
        "ax[0].set_title('Box Plot of Home Team Scores')\n",
        "sns.boxplot(data=final, y = \"away_score\", ax=ax[1])\n",
        "ax[1].set_title('Box Plot of Away Team Scores')\n",
        "\n",
        "plt.show()"
      ],
      "execution_count": 33,
      "outputs": [
        {
          "output_type": "display_data",
          "data": {
            "image/png": "[encoded data removed]",
            "text/plain": [
              "<Figure size 1440x576 with 2 Axes>"
            ]
          },
          "metadata": {
            "tags": [],
            "needs_background": "light"
          }
        }
      ]
    },
    {
      "cell_type": "markdown",
      "metadata": {
        "id": "9lB7GCY8JhC6",
        "colab_type": "text"
      },
      "source": [
        ">* Since the above outliers could be valid observations, we will not remove them."
      ]
    },
    {
      "cell_type": "code",
      "metadata": {
        "id": "MeqNfrIiBwcP",
        "colab_type": "code",
        "colab": {
          "base_uri": "https://localhost:8080/",
          "height": 428
        },
        "outputId": "63421b96-87fd-4176-d483-6d60aaa58b70"
      },
      "source": [
        "# boxplot for rank attribute\n",
        "\n",
        "fig, ax = plt.subplots(1,2, figsize=(20,8))\n",
        "fig.suptitle('Boxplots')\n",
        "sns.boxplot(data=final, y = \"home_team_rank\", ax=ax[0])\n",
        "ax[0].set_title('Box Plot of Home Team Scores')\n",
        "sns.boxplot(data=final, y = \"away_team_rank\", ax=ax[1])\n",
        "ax[1].set_title('Box Plot of Away Team Scores')\n",
        "\n",
        "plt.show()"
      ],
      "execution_count": 39,
      "outputs": [
        {
          "output_type": "display_data",
          "data": {
            "image/png": "[encoded data removed]",
            "text/plain": [
              "<Figure size 1440x576 with 2 Axes>"
            ]
          },
          "metadata": {
            "tags": [],
            "needs_background": "light"
          }
        }
      ]
    },
    {
      "cell_type": "code",
      "metadata": {
        "id": "oXD_-YhWFKV-",
        "colab_type": "code",
        "colab": {
          "base_uri": "https://localhost:8080/",
          "height": 187
        },
        "outputId": "774ca888-7661-440f-d455-ec723047c033"
      },
      "source": [
        "# Checking for missing values\n",
        "\n",
        "final.isnull().sum()"
      ],
      "execution_count": 40,
      "outputs": [
        {
          "output_type": "execute_result",
          "data": {
            "text/plain": [
              "date              0\n",
              "home_team         0\n",
              "away_team         0\n",
              "home_score        0\n",
              "away_score        0\n",
              "tournament        0\n",
              "neutral           0\n",
              "home_team_rank    0\n",
              "away_team_rank    0\n",
              "dtype: int64"
            ]
          },
          "metadata": {
            "tags": []
          },
          "execution_count": 40
        }
      ]
    },
    {
      "cell_type": "code",
      "metadata": {
        "id": "do7Mm2mzQZxi",
        "colab_type": "code",
        "colab": {}
      },
      "source": [
        "# extracting year column from the final dataframe\n",
        "\n",
        "final['year'] = final['date'].dt.year\n"
      ],
      "execution_count": 41,
      "outputs": []
    },
    {
      "cell_type": "markdown",
      "metadata": {
        "id": "dF7qBsSy3SK5",
        "colab_type": "text"
      },
      "source": [
        "# Exploratory Data Analysis"
      ]
    },
    {
      "cell_type": "markdown",
      "metadata": {
        "id": "uvPQfIbt3VER",
        "colab_type": "text"
      },
      "source": [
        "## Univariate Analysis"
      ]
    },
    {
      "cell_type": "code",
      "metadata": {
        "id": "5BidQl2EGSsk",
        "colab_type": "code",
        "colab": {
          "base_uri": "https://localhost:8080/",
          "height": 221
        },
        "outputId": "2b30e7dd-ecbe-4dee-9f98-320351575f57"
      },
      "source": [
        "# frequency table for home teams\n",
        "\n",
        "final.home_team.value_counts()"
      ],
      "execution_count": 43,
      "outputs": [
        {
          "output_type": "execute_result",
          "data": {
            "text/plain": [
              "Japan                       164\n",
              "Oman                        159\n",
              "Saudi Arabia                158\n",
              "Qatar                       157\n",
              "France                      155\n",
              "                           ... \n",
              "Afghanistan                   2\n",
              "Montserrat                    2\n",
              "Turks and Caicos Islands      1\n",
              "Gibraltar                     1\n",
              "Kosovo                        1\n",
              "Name: home_team, Length: 191, dtype: int64"
            ]
          },
          "metadata": {
            "tags": []
          },
          "execution_count": 43
        }
      ]
    },
    {
      "cell_type": "code",
      "metadata": {
        "id": "Rsc3FhDBGar5",
        "colab_type": "code",
        "colab": {
          "base_uri": "https://localhost:8080/",
          "height": 221
        },
        "outputId": "bc225f07-bfdb-44c5-f56d-ec2d9a4933c4"
      },
      "source": [
        "# frequency table for away_team\n",
        "\n",
        "final.away_team.value_counts()"
      ],
      "execution_count": 44,
      "outputs": [
        {
          "output_type": "execute_result",
          "data": {
            "text/plain": [
              "Finland                     146\n",
              "Zambia                      140\n",
              "Estonia                     138\n",
              "Sweden                      129\n",
              "Norway                      125\n",
              "                           ... \n",
              "Samoa                         7\n",
              "Gibraltar                     6\n",
              "Turks and Caicos Islands      5\n",
              "Kosovo                        4\n",
              "Montserrat                    3\n",
              "Name: away_team, Length: 193, dtype: int64"
            ]
          },
          "metadata": {
            "tags": []
          },
          "execution_count": 44
        }
      ]
    },
    {
      "cell_type": "code",
      "metadata": {
        "id": "E9eH0q-_Golq",
        "colab_type": "code",
        "colab": {
          "base_uri": "https://localhost:8080/",
          "height": 221
        },
        "outputId": "cb82bec0-2337-4a06-a8ba-658659d5b378"
      },
      "source": [
        "# frequency table for tournament type\n",
        "\n",
        "final.tournament.value_counts()"
      ],
      "execution_count": 45,
      "outputs": [
        {
          "output_type": "execute_result",
          "data": {
            "text/plain": [
              "Friendly                                5263\n",
              "FIFA World Cup qualification            3760\n",
              "UEFA Euro qualification                 1366\n",
              "African Cup of Nations qualification     858\n",
              "AFC Asian Cup qualification              312\n",
              "                                        ... \n",
              "Nations Cup                                3\n",
              "Lunar New Year Cup                         2\n",
              "OSN Cup                                    2\n",
              "Millennium Cup                             1\n",
              "Copa América qualification                 1\n",
              "Name: tournament, Length: 61, dtype: int64"
            ]
          },
          "metadata": {
            "tags": []
          },
          "execution_count": 45
        }
      ]
    },
    {
      "cell_type": "code",
      "metadata": {
        "id": "yYudz9c2G0g1",
        "colab_type": "code",
        "colab": {
          "base_uri": "https://localhost:8080/",
          "height": 488
        },
        "outputId": "07016df9-e9da-43e9-8fce-9cb5524c388c"
      },
      "source": [
        "# histograms to show distribution of goals scores\n",
        "\n",
        "fig, ax=plt.subplots(1,2, figsize=(20,10))\n",
        "final['away_score'].plot.hist(ax=ax[0], bins=10, edgecolor='black', color='darkorange')\n",
        "ax[0].set_title('Distribution of Scores by Away Teams')\n",
        "\n",
        "final['home_score'].plot.hist(ax=ax[1], bins=10, edgecolor='royalblue')\n",
        "ax[1].set_title('Distribution of Scores by Home Teams')\n",
        "\n",
        "\n",
        "plt.show()"
      ],
      "execution_count": 47,
      "outputs": [
        {
          "output_type": "display_data",
          "data": {
            "image/png": "[encoded data removed]",
            "text/plain": [
              "<Figure size 1440x720 with 2 Axes>"
            ]
          },
          "metadata": {
            "tags": [],
            "needs_background": "light"
          }
        }
      ]
    },
    {
      "cell_type": "code",
      "metadata": {
        "id": "irXddGxqIkaX",
        "colab_type": "code",
        "colab": {
          "base_uri": "https://localhost:8080/",
          "height": 1000
        },
        "outputId": "c66729e8-763f-4fc0-e055-47ae8ba798bc"
      },
      "source": [
        "# Frequency distribution plots\n",
        "\n",
        "col_names = ['home_team_rank','away_team_rank']\n",
        "fig, ax = plt.subplots(len(col_names), figsize=(10,20))\n",
        "\n",
        "for i, col_val in enumerate(col_names):\n",
        "\n",
        "    sns.distplot(final[col_val], hist=True, ax=ax[i])\n",
        "    ax[i].set_title('Frequency distribution of '+col_val, fontsize=10)\n",
        "    ax[i].set_xlabel(col_val, fontsize=8)\n",
        "    ax[i].set_ylabel('Count', fontsize=8)\n",
        "\n",
        "plt.show()"
      ],
      "execution_count": 48,
      "outputs": [
        {
          "output_type": "display_data",
          "data": {
            "image/png": "[encoded data removed]",
            "text/plain": [
              "<Figure size 720x1440 with 2 Axes>"
            ]
          },
          "metadata": {
            "tags": [],
            "needs_background": "light"
          }
        }
      ]
    },
    {
      "cell_type": "markdown",
      "metadata": {
        "id": "EXbR-opeLd_o",
        "colab_type": "text"
      },
      "source": [
        "> Measures of Central Tendency\n"
      ]
    },
    {
      "cell_type": "code",
      "metadata": {
        "id": "lHoGyj1NLhtB",
        "colab_type": "code",
        "colab": {
          "base_uri": "https://localhost:8080/",
          "height": 85
        },
        "outputId": "204a4849-b0f7-4c98-8acc-efceee5d9647"
      },
      "source": [
        "# mean, mode and median of home scores\n",
        "\n",
        "print('Mean score by home team is ' + str(round(final.home_score.mean(),0)))\n",
        "print('Median score by home team is ' + str(final.home_score.median()))\n",
        "print('Mode score by home team is ' + str(final.home_score.mode()))"
      ],
      "execution_count": 55,
      "outputs": [
        {
          "output_type": "stream",
          "text": [
            "Mean score by home team is 2.0\n",
            "Median score by home team is 1.0\n",
            "Mode score by home team is 0    1\n",
            "dtype: int64\n"
          ],
          "name": "stdout"
        }
      ]
    },
    {
      "cell_type": "code",
      "metadata": {
        "id": "Nt_yQVqFL5TD",
        "colab_type": "code",
        "colab": {
          "base_uri": "https://localhost:8080/",
          "height": 85
        },
        "outputId": "09d1148f-c8db-4448-e503-c57e1eb8a3b9"
      },
      "source": [
        "# mean, mode and median of away scores\n",
        "\n",
        "print('Mean score by away team is ' + str(round(final.away_score.mean(),0)))\n",
        "print('Median score by away team is ' + str(final.away_score.median()))\n",
        "print('Mode score by away team is ' + str(final.away_score.mode()))"
      ],
      "execution_count": 54,
      "outputs": [
        {
          "output_type": "stream",
          "text": [
            "Mean score by away team is 1.0\n",
            "Median score by away team is 1.0\n",
            "Mode score by away team is 0    0\n",
            "dtype: int64\n"
          ],
          "name": "stdout"
        }
      ]
    },
    {
      "cell_type": "markdown",
      "metadata": {
        "id": "OyLoLpVELZyL",
        "colab_type": "text"
      },
      "source": [
        ">* The most occuring score for home teams is 1 while the most occuring score for away teams is 0. In addition, the average score for home teams is 2 while the average score for away teams is 1. These two observations 'loosely' point towards a likely advantage for teams playing at home.\n"
      ]
    },
    {
      "cell_type": "markdown",
      "metadata": {
        "id": "Gk6zEAbfMq7p",
        "colab_type": "text"
      },
      "source": [
        "> Measures of Dispersion"
      ]
    },
    {
      "cell_type": "code",
      "metadata": {
        "id": "1plE1TjyMtGl",
        "colab_type": "code",
        "colab": {
          "base_uri": "https://localhost:8080/",
          "height": 297
        },
        "outputId": "8e87892d-f799-4831-8371-bf6f6c122604"
      },
      "source": [
        "# summary of standard deviation, range, and interquatile range\n",
        "\n",
        "final.describe()"
      ],
      "execution_count": 56,
      "outputs": [
        {
          "output_type": "execute_result",
          "data": {
            "text/html": [
              "<div>\n",
              "<style scoped>\n",
              "    .dataframe tbody tr th:only-of-type {\n",
              "        vertical-align: middle;\n",
              "    }\n",
              "\n",
              "    .dataframe tbody tr th {\n",
              "        vertical-align: top;\n",
              "    }\n",
              "\n",
              "    .dataframe thead th {\n",
              "        text-align: right;\n",
              "    }\n",
              "</style>\n",
              "<table border=\"1\" class=\"dataframe\">\n",
              "  <thead>\n",
              "    <tr style=\"text-align: right;\">\n",
              "      <th></th>\n",
              "      <th>home_score</th>\n",
              "      <th>away_score</th>\n",
              "      <th>home_team_rank</th>\n",
              "      <th>away_team_rank</th>\n",
              "      <th>year</th>\n",
              "    </tr>\n",
              "  </thead>\n",
              "  <tbody>\n",
              "    <tr>\n",
              "      <th>count</th>\n",
              "      <td>12916.000000</td>\n",
              "      <td>12916.000000</td>\n",
              "      <td>12916.000000</td>\n",
              "      <td>12916.000000</td>\n",
              "      <td>12916.000000</td>\n",
              "    </tr>\n",
              "    <tr>\n",
              "      <th>mean</th>\n",
              "      <td>1.641375</td>\n",
              "      <td>0.998761</td>\n",
              "      <td>75.007433</td>\n",
              "      <td>77.558145</td>\n",
              "      <td>2006.326339</td>\n",
              "    </tr>\n",
              "    <tr>\n",
              "      <th>std</th>\n",
              "      <td>1.616620</td>\n",
              "      <td>1.164050</td>\n",
              "      <td>49.486915</td>\n",
              "      <td>51.147970</td>\n",
              "      <td>6.761678</td>\n",
              "    </tr>\n",
              "    <tr>\n",
              "      <th>min</th>\n",
              "      <td>0.000000</td>\n",
              "      <td>0.000000</td>\n",
              "      <td>1.000000</td>\n",
              "      <td>1.000000</td>\n",
              "      <td>1993.000000</td>\n",
              "    </tr>\n",
              "    <tr>\n",
              "      <th>25%</th>\n",
              "      <td>1.000000</td>\n",
              "      <td>0.000000</td>\n",
              "      <td>33.000000</td>\n",
              "      <td>35.000000</td>\n",
              "      <td>2001.000000</td>\n",
              "    </tr>\n",
              "    <tr>\n",
              "      <th>50%</th>\n",
              "      <td>1.000000</td>\n",
              "      <td>1.000000</td>\n",
              "      <td>70.000000</td>\n",
              "      <td>71.000000</td>\n",
              "      <td>2007.000000</td>\n",
              "    </tr>\n",
              "    <tr>\n",
              "      <th>75%</th>\n",
              "      <td>2.000000</td>\n",
              "      <td>2.000000</td>\n",
              "      <td>110.000000</td>\n",
              "      <td>114.000000</td>\n",
              "      <td>2012.000000</td>\n",
              "    </tr>\n",
              "    <tr>\n",
              "      <th>max</th>\n",
              "      <td>31.000000</td>\n",
              "      <td>13.000000</td>\n",
              "      <td>209.000000</td>\n",
              "      <td>209.000000</td>\n",
              "      <td>2018.000000</td>\n",
              "    </tr>\n",
              "  </tbody>\n",
              "</table>\n",
              "</div>"
            ],
            "text/plain": [
              "         home_score    away_score  home_team_rank  away_team_rank          year\n",
              "count  12916.000000  12916.000000    12916.000000    12916.000000  12916.000000\n",
              "mean       1.641375      0.998761       75.007433       77.558145   2006.326339\n",
              "std        1.616620      1.164050       49.486915       51.147970      6.761678\n",
              "min        0.000000      0.000000        1.000000        1.000000   1993.000000\n",
              "25%        1.000000      0.000000       33.000000       35.000000   2001.000000\n",
              "50%        1.000000      1.000000       70.000000       71.000000   2007.000000\n",
              "75%        2.000000      2.000000      110.000000      114.000000   2012.000000\n",
              "max       31.000000     13.000000      209.000000      209.000000   2018.000000"
            ]
          },
          "metadata": {
            "tags": []
          },
          "execution_count": 56
        }
      ]
    },
    {
      "cell_type": "markdown",
      "metadata": {
        "id": "Sv5eQw6M3XZl",
        "colab_type": "text"
      },
      "source": [
        "## Bivariate Analysis"
      ]
    },
    {
      "cell_type": "code",
      "metadata": {
        "id": "IAIDJv3QN-Lb",
        "colab_type": "code",
        "colab": {
          "base_uri": "https://localhost:8080/",
          "height": 346
        },
        "outputId": "fdb0a949-5f21-4785-f3ac-5f5c01cd6693"
      },
      "source": [
        "# Checking the pearson correlation coefficient \n",
        "\n",
        "sns.heatmap(final.corr(),annot=True)\n",
        "plt.show()"
      ],
      "execution_count": 57,
      "outputs": [
        {
          "output_type": "display_data",
          "data": {
            "image/png": "[encoded data removed]",
            "text/plain": [
              "<Figure size 432x288 with 2 Axes>"
            ]
          },
          "metadata": {
            "tags": [],
            "needs_background": "light"
          }
        }
      ]
    },
    {
      "cell_type": "markdown",
      "metadata": {
        "id": "cTGcCnHBMdvN",
        "colab_type": "text"
      },
      "source": [
        ">* The home team rank has a slight positive correlation with the away team rank. \n",
        "\n",
        ">* It is also the case that as the opponent team ranks poorly (in this case a larger rank number) the likelihood of a team scoring more goes up slightly. This is the case for both home and away teams."
      ]
    },
    {
      "cell_type": "code",
      "metadata": {
        "id": "foApw2K1QMSc",
        "colab_type": "code",
        "colab": {
          "base_uri": "https://localhost:8080/",
          "height": 604
        },
        "outputId": "fedd5ce7-c5eb-40e5-9bfb-771fd0456732"
      },
      "source": [
        "# Checking the total number of matches played by year\n",
        "\n",
        "final['year'].value_counts().plot.bar(figsize=(20,12))"
      ],
      "execution_count": 58,
      "outputs": [
        {
          "output_type": "execute_result",
          "data": {
            "text/plain": [
              "<matplotlib.axes._subplots.AxesSubplot at 0x7f0cd8d10e10>"
            ]
          },
          "metadata": {
            "tags": []
          },
          "execution_count": 58
        },
        {
          "output_type": "display_data",
          "data": {
            "image/png": "[encoded data removed]",
            "text/plain": [
              "<Figure size 1440x864 with 1 Axes>"
            ]
          },
          "metadata": {
            "tags": [],
            "needs_background": "light"
          }
        }
      ]
    },
    {
      "cell_type": "code",
      "metadata": {
        "id": "v-vLxvCQ2HTA",
        "colab_type": "code",
        "colab": {
          "base_uri": "https://localhost:8080/",
          "height": 497
        },
        "outputId": "bdd67201-a742-4cc9-8c4c-7b777e74d280"
      },
      "source": [
        "# Bar chart showing the top 10 highest ranking home teams by total scores\n",
        "\n",
        "total_home_score = final.groupby('home_team')['home_score'].sum().reset_index()\n",
        "total_home_score.columns = ['team', 'scores'] \n",
        "total_home_goals = total_home_score.sort_values('scores', ascending=False)\n",
        "\n",
        "plt.figure(figsize=(12,8))\n",
        "ax= sns.barplot(\"scores\",\"team\",data=total_home_goals[:10])"
      ],
      "execution_count": 74,
      "outputs": [
        {
          "output_type": "display_data",
          "data": {
            "image/png": "[encoded data removed]",
            "text/plain": [
              "<Figure size 864x576 with 1 Axes>"
            ]
          },
          "metadata": {
            "tags": [],
            "needs_background": "light"
          }
        }
      ]
    },
    {
      "cell_type": "code",
      "metadata": {
        "id": "zm8jO17UQV9y",
        "colab_type": "code",
        "colab": {
          "base_uri": "https://localhost:8080/",
          "height": 497
        },
        "outputId": "a1813231-2a65-4b59-d804-dd835f0f5550"
      },
      "source": [
        "# Bar chart showing the top 10 highest ranking away teams by total scores\n",
        "\n",
        "total_away_score = final.groupby('away_team')['away_score'].sum().reset_index()\n",
        "total_away_score.columns = ['team', 'scores'] \n",
        "total_away_goals = total_away_score.sort_values('scores', ascending=False)\n",
        "\n",
        "plt.figure(figsize=(12,8))\n",
        "ax= sns.barplot(\"scores\",\"team\",data=total_away_goals[:10])"
      ],
      "execution_count": 75,
      "outputs": [
        {
          "output_type": "display_data",
          "data": {
            "image/png": "[encoded data removed]",
            "text/plain": [
              "<Figure size 864x576 with 1 Axes>"
            ]
          },
          "metadata": {
            "tags": [],
            "needs_background": "light"
          }
        }
      ]
    },
    {
      "cell_type": "markdown",
      "metadata": {
        "id": "Xum1Cf7x8zQ-",
        "colab_type": "text"
      },
      "source": [
        "# Implementing the Solution"
      ]
    },
    {
      "cell_type": "markdown",
      "metadata": {
        "id": "YRtBWhFHGVoj",
        "colab_type": "text"
      },
      "source": [
        "> Below are the steps I follow in this section of the analysis:\n",
        "\n",
        ">* Perform any necessary feature engineering\n",
        ">* Check for multicollinearity\n",
        ">* Develop model\n",
        ">* Cross-validate the model\n",
        ">* Compute RMSE\n",
        ">* Create residual plots for your models, and assess their heteroscedasticity using Bartlett’s test"
      ]
    },
    {
      "cell_type": "markdown",
      "metadata": {
        "id": "wkzaLVCn4sgH",
        "colab_type": "text"
      },
      "source": [
        "## Feature Engineering"
      ]
    },
    {
      "cell_type": "markdown",
      "metadata": {
        "id": "J2ihiP7a5A-S",
        "colab_type": "text"
      },
      "source": [
        "> Before we begin regression analysis, we first need to create an additional column showing whether a match was a win, loss or draw from the home team's perspective."
      ]
    },
    {
      "cell_type": "code",
      "metadata": {
        "id": "s6EiPcb158-P",
        "colab_type": "code",
        "colab": {
          "base_uri": "https://localhost:8080/",
          "height": 374
        },
        "outputId": "7e5d9ac1-4f2b-4ec0-d1dc-3b2a80cf9f6b"
      },
      "source": [
        "# creating a list of our conditions\n",
        "\n",
        "conditions = [final['home_score'] > final['away_score'],\n",
        "              final['home_score'] < final['away_score'],\n",
        "              final['home_score'] == final['away_score']]\n",
        "\n",
        "# create a list of the values to assign each condition\n",
        "\n",
        "values = ['Win', 'Loss', 'Draw']\n",
        "\n",
        "# creating a new columnn status column using the conditions and values above\n",
        "\n",
        "final['status'] = np.select(conditions, values)\n",
        "\n",
        "final.head()"
      ],
      "execution_count": 76,
      "outputs": [
        {
          "output_type": "execute_result",
          "data": {
            "text/html": [
              "<div>\n",
              "<style scoped>\n",
              "    .dataframe tbody tr th:only-of-type {\n",
              "        vertical-align: middle;\n",
              "    }\n",
              "\n",
              "    .dataframe tbody tr th {\n",
              "        vertical-align: top;\n",
              "    }\n",
              "\n",
              "    .dataframe thead th {\n",
              "        text-align: right;\n",
              "    }\n",
              "</style>\n",
              "<table border=\"1\" class=\"dataframe\">\n",
              "  <thead>\n",
              "    <tr style=\"text-align: right;\">\n",
              "      <th></th>\n",
              "      <th>date</th>\n",
              "      <th>home_team</th>\n",
              "      <th>away_team</th>\n",
              "      <th>home_score</th>\n",
              "      <th>away_score</th>\n",
              "      <th>tournament</th>\n",
              "      <th>neutral</th>\n",
              "      <th>home_team_rank</th>\n",
              "      <th>away_team_rank</th>\n",
              "      <th>year</th>\n",
              "      <th>status</th>\n",
              "    </tr>\n",
              "  </thead>\n",
              "  <tbody>\n",
              "    <tr>\n",
              "      <th>0</th>\n",
              "      <td>1993-08-01</td>\n",
              "      <td>Colombia</td>\n",
              "      <td>Paraguay</td>\n",
              "      <td>0</td>\n",
              "      <td>0</td>\n",
              "      <td>FIFA World Cup qualification</td>\n",
              "      <td>FALSE</td>\n",
              "      <td>19</td>\n",
              "      <td>67</td>\n",
              "      <td>1993</td>\n",
              "      <td>Draw</td>\n",
              "    </tr>\n",
              "    <tr>\n",
              "      <th>1</th>\n",
              "      <td>1993-08-15</td>\n",
              "      <td>Colombia</td>\n",
              "      <td>Argentina</td>\n",
              "      <td>2</td>\n",
              "      <td>1</td>\n",
              "      <td>FIFA World Cup qualification</td>\n",
              "      <td>FALSE</td>\n",
              "      <td>19</td>\n",
              "      <td>5</td>\n",
              "      <td>1993</td>\n",
              "      <td>Win</td>\n",
              "    </tr>\n",
              "    <tr>\n",
              "      <th>2</th>\n",
              "      <td>1993-08-29</td>\n",
              "      <td>Colombia</td>\n",
              "      <td>Peru</td>\n",
              "      <td>4</td>\n",
              "      <td>0</td>\n",
              "      <td>FIFA World Cup qualification</td>\n",
              "      <td>FALSE</td>\n",
              "      <td>19</td>\n",
              "      <td>70</td>\n",
              "      <td>1993</td>\n",
              "      <td>Win</td>\n",
              "    </tr>\n",
              "    <tr>\n",
              "      <th>3</th>\n",
              "      <td>1993-08-01</td>\n",
              "      <td>Peru</td>\n",
              "      <td>Argentina</td>\n",
              "      <td>0</td>\n",
              "      <td>1</td>\n",
              "      <td>FIFA World Cup qualification</td>\n",
              "      <td>FALSE</td>\n",
              "      <td>70</td>\n",
              "      <td>5</td>\n",
              "      <td>1993</td>\n",
              "      <td>Loss</td>\n",
              "    </tr>\n",
              "    <tr>\n",
              "      <th>4</th>\n",
              "      <td>1993-08-08</td>\n",
              "      <td>Peru</td>\n",
              "      <td>Colombia</td>\n",
              "      <td>0</td>\n",
              "      <td>1</td>\n",
              "      <td>FIFA World Cup qualification</td>\n",
              "      <td>FALSE</td>\n",
              "      <td>70</td>\n",
              "      <td>19</td>\n",
              "      <td>1993</td>\n",
              "      <td>Loss</td>\n",
              "    </tr>\n",
              "  </tbody>\n",
              "</table>\n",
              "</div>"
            ],
            "text/plain": [
              "        date home_team  away_team  ...  away_team_rank  year status\n",
              "0 1993-08-01  Colombia   Paraguay  ...              67  1993   Draw\n",
              "1 1993-08-15  Colombia  Argentina  ...               5  1993    Win\n",
              "2 1993-08-29  Colombia       Peru  ...              70  1993    Win\n",
              "3 1993-08-01      Peru  Argentina  ...               5  1993   Loss\n",
              "4 1993-08-08      Peru   Colombia  ...              19  1993   Loss\n",
              "\n",
              "[5 rows x 11 columns]"
            ]
          },
          "metadata": {
            "tags": []
          },
          "execution_count": 76
        }
      ]
    },
    {
      "cell_type": "markdown",
      "metadata": {
        "id": "5yThtCha5rSu",
        "colab_type": "text"
      },
      "source": [
        "## Approach 1: Polynomial Regression"
      ]
    },
    {
      "cell_type": "code",
      "metadata": {
        "id": "sYP7Fq8uRwGg",
        "colab_type": "code",
        "colab": {
          "base_uri": "https://localhost:8080/",
          "height": 204
        },
        "outputId": "3e740530-374d-4359-fbe3-665bd98ec2af"
      },
      "source": [
        "# Dropping all columns that are no longer needed for the polynomial regression analysis\n",
        "\n",
        "poly_final = final.drop(columns=['date', 'neutral', 'home_team','away_team', 'status', 'year'])\n",
        "\n",
        "poly_final.head()"
      ],
      "execution_count": 77,
      "outputs": [
        {
          "output_type": "execute_result",
          "data": {
            "text/html": [
              "<div>\n",
              "<style scoped>\n",
              "    .dataframe tbody tr th:only-of-type {\n",
              "        vertical-align: middle;\n",
              "    }\n",
              "\n",
              "    .dataframe tbody tr th {\n",
              "        vertical-align: top;\n",
              "    }\n",
              "\n",
              "    .dataframe thead th {\n",
              "        text-align: right;\n",
              "    }\n",
              "</style>\n",
              "<table border=\"1\" class=\"dataframe\">\n",
              "  <thead>\n",
              "    <tr style=\"text-align: right;\">\n",
              "      <th></th>\n",
              "      <th>home_score</th>\n",
              "      <th>away_score</th>\n",
              "      <th>tournament</th>\n",
              "      <th>home_team_rank</th>\n",
              "      <th>away_team_rank</th>\n",
              "    </tr>\n",
              "  </thead>\n",
              "  <tbody>\n",
              "    <tr>\n",
              "      <th>0</th>\n",
              "      <td>0</td>\n",
              "      <td>0</td>\n",
              "      <td>FIFA World Cup qualification</td>\n",
              "      <td>19</td>\n",
              "      <td>67</td>\n",
              "    </tr>\n",
              "    <tr>\n",
              "      <th>1</th>\n",
              "      <td>2</td>\n",
              "      <td>1</td>\n",
              "      <td>FIFA World Cup qualification</td>\n",
              "      <td>19</td>\n",
              "      <td>5</td>\n",
              "    </tr>\n",
              "    <tr>\n",
              "      <th>2</th>\n",
              "      <td>4</td>\n",
              "      <td>0</td>\n",
              "      <td>FIFA World Cup qualification</td>\n",
              "      <td>19</td>\n",
              "      <td>70</td>\n",
              "    </tr>\n",
              "    <tr>\n",
              "      <th>3</th>\n",
              "      <td>0</td>\n",
              "      <td>1</td>\n",
              "      <td>FIFA World Cup qualification</td>\n",
              "      <td>70</td>\n",
              "      <td>5</td>\n",
              "    </tr>\n",
              "    <tr>\n",
              "      <th>4</th>\n",
              "      <td>0</td>\n",
              "      <td>1</td>\n",
              "      <td>FIFA World Cup qualification</td>\n",
              "      <td>70</td>\n",
              "      <td>19</td>\n",
              "    </tr>\n",
              "  </tbody>\n",
              "</table>\n",
              "</div>"
            ],
            "text/plain": [
              "   home_score  away_score  ... home_team_rank  away_team_rank\n",
              "0           0           0  ...             19              67\n",
              "1           2           1  ...             19               5\n",
              "2           4           0  ...             19              70\n",
              "3           0           1  ...             70               5\n",
              "4           0           1  ...             70              19\n",
              "\n",
              "[5 rows x 5 columns]"
            ]
          },
          "metadata": {
            "tags": []
          },
          "execution_count": 77
        }
      ]
    },
    {
      "cell_type": "code",
      "metadata": {
        "id": "WFyxy5wwIbKS",
        "colab_type": "code",
        "colab": {
          "base_uri": "https://localhost:8080/",
          "height": 204
        },
        "outputId": "70f9b376-3d24-4a0f-eca7-1272ead4f32f"
      },
      "source": [
        "# encoding the tournament column with numeric codes\n",
        "\n",
        "# import labelencoder\n",
        "from sklearn.preprocessing import LabelEncoder\n",
        "\n",
        "# apply label encoder to appropriate column\n",
        "\n",
        "le = LabelEncoder()\n",
        "poly_final['tournament'] = le.fit_transform(poly_final['tournament'])\n",
        "\n",
        "poly_final.head()"
      ],
      "execution_count": 78,
      "outputs": [
        {
          "output_type": "execute_result",
          "data": {
            "text/html": [
              "<div>\n",
              "<style scoped>\n",
              "    .dataframe tbody tr th:only-of-type {\n",
              "        vertical-align: middle;\n",
              "    }\n",
              "\n",
              "    .dataframe tbody tr th {\n",
              "        vertical-align: top;\n",
              "    }\n",
              "\n",
              "    .dataframe thead th {\n",
              "        text-align: right;\n",
              "    }\n",
              "</style>\n",
              "<table border=\"1\" class=\"dataframe\">\n",
              "  <thead>\n",
              "    <tr style=\"text-align: right;\">\n",
              "      <th></th>\n",
              "      <th>home_score</th>\n",
              "      <th>away_score</th>\n",
              "      <th>tournament</th>\n",
              "      <th>home_team_rank</th>\n",
              "      <th>away_team_rank</th>\n",
              "    </tr>\n",
              "  </thead>\n",
              "  <tbody>\n",
              "    <tr>\n",
              "      <th>0</th>\n",
              "      <td>0</td>\n",
              "      <td>0</td>\n",
              "      <td>25</td>\n",
              "      <td>19</td>\n",
              "      <td>67</td>\n",
              "    </tr>\n",
              "    <tr>\n",
              "      <th>1</th>\n",
              "      <td>2</td>\n",
              "      <td>1</td>\n",
              "      <td>25</td>\n",
              "      <td>19</td>\n",
              "      <td>5</td>\n",
              "    </tr>\n",
              "    <tr>\n",
              "      <th>2</th>\n",
              "      <td>4</td>\n",
              "      <td>0</td>\n",
              "      <td>25</td>\n",
              "      <td>19</td>\n",
              "      <td>70</td>\n",
              "    </tr>\n",
              "    <tr>\n",
              "      <th>3</th>\n",
              "      <td>0</td>\n",
              "      <td>1</td>\n",
              "      <td>25</td>\n",
              "      <td>70</td>\n",
              "      <td>5</td>\n",
              "    </tr>\n",
              "    <tr>\n",
              "      <th>4</th>\n",
              "      <td>0</td>\n",
              "      <td>1</td>\n",
              "      <td>25</td>\n",
              "      <td>70</td>\n",
              "      <td>19</td>\n",
              "    </tr>\n",
              "  </tbody>\n",
              "</table>\n",
              "</div>"
            ],
            "text/plain": [
              "   home_score  away_score  tournament  home_team_rank  away_team_rank\n",
              "0           0           0          25              19              67\n",
              "1           2           1          25              19               5\n",
              "2           4           0          25              19              70\n",
              "3           0           1          25              70               5\n",
              "4           0           1          25              70              19"
            ]
          },
          "metadata": {
            "tags": []
          },
          "execution_count": 78
        }
      ]
    },
    {
      "cell_type": "markdown",
      "metadata": {
        "id": "rPU7IhxcX_Bs",
        "colab_type": "text"
      },
      "source": [
        "> Checking for multicollinearity"
      ]
    },
    {
      "cell_type": "code",
      "metadata": {
        "id": "xUFpbeHjYC3W",
        "colab_type": "code",
        "colab": {
          "base_uri": "https://localhost:8080/",
          "height": 142
        },
        "outputId": "27db3a07-a4b3-4338-9eb6-07157f503f30"
      },
      "source": [
        "# Remove the dependent columns so as to focus on independent variables only.\n",
        "\n",
        "independent_only = poly_final.drop(columns=['home_score', 'away_score'])\n",
        "\n",
        "# Display the correlations between the independent variables\n",
        "\n",
        "correlations = independent_only.corr()\n",
        "\n",
        "correlations"
      ],
      "execution_count": 79,
      "outputs": [
        {
          "output_type": "execute_result",
          "data": {
            "text/html": [
              "<div>\n",
              "<style scoped>\n",
              "    .dataframe tbody tr th:only-of-type {\n",
              "        vertical-align: middle;\n",
              "    }\n",
              "\n",
              "    .dataframe tbody tr th {\n",
              "        vertical-align: top;\n",
              "    }\n",
              "\n",
              "    .dataframe thead th {\n",
              "        text-align: right;\n",
              "    }\n",
              "</style>\n",
              "<table border=\"1\" class=\"dataframe\">\n",
              "  <thead>\n",
              "    <tr style=\"text-align: right;\">\n",
              "      <th></th>\n",
              "      <th>tournament</th>\n",
              "      <th>home_team_rank</th>\n",
              "      <th>away_team_rank</th>\n",
              "    </tr>\n",
              "  </thead>\n",
              "  <tbody>\n",
              "    <tr>\n",
              "      <th>tournament</th>\n",
              "      <td>1.000000</td>\n",
              "      <td>-0.180785</td>\n",
              "      <td>-0.190754</td>\n",
              "    </tr>\n",
              "    <tr>\n",
              "      <th>home_team_rank</th>\n",
              "      <td>-0.180785</td>\n",
              "      <td>1.000000</td>\n",
              "      <td>0.398187</td>\n",
              "    </tr>\n",
              "    <tr>\n",
              "      <th>away_team_rank</th>\n",
              "      <td>-0.190754</td>\n",
              "      <td>0.398187</td>\n",
              "      <td>1.000000</td>\n",
              "    </tr>\n",
              "  </tbody>\n",
              "</table>\n",
              "</div>"
            ],
            "text/plain": [
              "                tournament  home_team_rank  away_team_rank\n",
              "tournament        1.000000       -0.180785       -0.190754\n",
              "home_team_rank   -0.180785        1.000000        0.398187\n",
              "away_team_rank   -0.190754        0.398187        1.000000"
            ]
          },
          "metadata": {
            "tags": []
          },
          "execution_count": 79
        }
      ]
    },
    {
      "cell_type": "code",
      "metadata": {
        "id": "l2rhs_iramSP",
        "colab_type": "code",
        "colab": {
          "base_uri": "https://localhost:8080/",
          "height": 142
        },
        "outputId": "597a3b55-aafe-4fe8-ea1a-11c2b2a7ca83"
      },
      "source": [
        "# Use calculated correlations to compute the VIF score for each variable\n",
        "\n",
        "pd.DataFrame(np.linalg.inv(correlations.values), index = correlations.index, columns=correlations.columns)\n"
      ],
      "execution_count": 80,
      "outputs": [
        {
          "output_type": "execute_result",
          "data": {
            "text/html": [
              "<div>\n",
              "<style scoped>\n",
              "    .dataframe tbody tr th:only-of-type {\n",
              "        vertical-align: middle;\n",
              "    }\n",
              "\n",
              "    .dataframe tbody tr th {\n",
              "        vertical-align: top;\n",
              "    }\n",
              "\n",
              "    .dataframe thead th {\n",
              "        text-align: right;\n",
              "    }\n",
              "</style>\n",
              "<table border=\"1\" class=\"dataframe\">\n",
              "  <thead>\n",
              "    <tr style=\"text-align: right;\">\n",
              "      <th></th>\n",
              "      <th>tournament</th>\n",
              "      <th>home_team_rank</th>\n",
              "      <th>away_team_rank</th>\n",
              "    </tr>\n",
              "  </thead>\n",
              "  <tbody>\n",
              "    <tr>\n",
              "      <th>tournament</th>\n",
              "      <td>1.052019</td>\n",
              "      <td>0.131064</td>\n",
              "      <td>0.148489</td>\n",
              "    </tr>\n",
              "    <tr>\n",
              "      <th>home_team_rank</th>\n",
              "      <td>0.131064</td>\n",
              "      <td>1.204757</td>\n",
              "      <td>-0.454717</td>\n",
              "    </tr>\n",
              "    <tr>\n",
              "      <th>away_team_rank</th>\n",
              "      <td>0.148489</td>\n",
              "      <td>-0.454717</td>\n",
              "      <td>1.209387</td>\n",
              "    </tr>\n",
              "  </tbody>\n",
              "</table>\n",
              "</div>"
            ],
            "text/plain": [
              "                tournament  home_team_rank  away_team_rank\n",
              "tournament        1.052019        0.131064        0.148489\n",
              "home_team_rank    0.131064        1.204757       -0.454717\n",
              "away_team_rank    0.148489       -0.454717        1.209387"
            ]
          },
          "metadata": {
            "tags": []
          },
          "execution_count": 80
        }
      ]
    },
    {
      "cell_type": "markdown",
      "metadata": {
        "id": "BWJnuho5bViB",
        "colab_type": "text"
      },
      "source": [
        ">* From the result above, the VIF score for the tournament type is 1.05 and that for home team rank and away team rank are 1.20 and 1.21 respectively. (The VIF score is found along the diagonal from top left to bottom left). \n",
        "\n",
        ">* Since all the VIF scores are below 5, we can say that there is no multicollinearity thus no correlation between the independent variables.\n"
      ]
    },
    {
      "cell_type": "markdown",
      "metadata": {
        "id": "GUGBxGwcxfaX",
        "colab_type": "text"
      },
      "source": [
        "### Model 1: Predict home team goals"
      ]
    },
    {
      "cell_type": "code",
      "metadata": {
        "id": "bnJkdBYadJEB",
        "colab_type": "code",
        "colab": {}
      },
      "source": [
        "# define the target variable and features\n",
        "mycols = [col for col in poly_final.columns if col not in ['home_score', 'away_score']]\n",
        "\n",
        "x = poly_final[mycols]\n",
        "y = poly_final['home_score']\n",
        "\n",
        "# splitting the dataset into train and test sets\n",
        "x_train, x_test, y_train, y_test = train_test_split(x, y, random_state = 13, test_size = 0.3)\n",
        "\n",
        "# scaling the train and test sets\n",
        "sc = StandardScaler()\n",
        "x_train = sc.fit_transform(x_train)\n",
        "x_test = sc.transform(x_test)\n",
        "\n",
        "# fitting the polynomial regression to the dataset\n",
        "poly_features = PolynomialFeatures(degree = 2,include_bias = False)\n",
        "x_train = poly_features.fit_transform(x_train)\n",
        "x_test = poly_features.fit_transform(x_test)\n",
        "\n",
        "# training the model\n",
        "regressor = LinearRegression()\n",
        "regressor.fit(x_train, y_train)\n",
        "\n",
        "# making predictions\n",
        "y_pred = regressor.predict(x_test)"
      ],
      "execution_count": 91,
      "outputs": []
    },
    {
      "cell_type": "code",
      "metadata": {
        "id": "XHFTubHRwH1z",
        "colab_type": "code",
        "colab": {
          "base_uri": "https://localhost:8080/",
          "height": 204
        },
        "outputId": "d3667706-f6c1-4e5c-f27c-368eb269b0f6"
      },
      "source": [
        "# checking a sample of the predictions \n",
        "df_pred = pd.DataFrame({'y_predicted': y_pred, 'y_test': y_test})\n",
        "df_pred.sample(5)"
      ],
      "execution_count": 92,
      "outputs": [
        {
          "output_type": "execute_result",
          "data": {
            "text/html": [
              "<div>\n",
              "<style scoped>\n",
              "    .dataframe tbody tr th:only-of-type {\n",
              "        vertical-align: middle;\n",
              "    }\n",
              "\n",
              "    .dataframe tbody tr th {\n",
              "        vertical-align: top;\n",
              "    }\n",
              "\n",
              "    .dataframe thead th {\n",
              "        text-align: right;\n",
              "    }\n",
              "</style>\n",
              "<table border=\"1\" class=\"dataframe\">\n",
              "  <thead>\n",
              "    <tr style=\"text-align: right;\">\n",
              "      <th></th>\n",
              "      <th>y_predicted</th>\n",
              "      <th>y_test</th>\n",
              "    </tr>\n",
              "  </thead>\n",
              "  <tbody>\n",
              "    <tr>\n",
              "      <th>8374</th>\n",
              "      <td>0.912851</td>\n",
              "      <td>2</td>\n",
              "    </tr>\n",
              "    <tr>\n",
              "      <th>12862</th>\n",
              "      <td>3.029735</td>\n",
              "      <td>1</td>\n",
              "    </tr>\n",
              "    <tr>\n",
              "      <th>10195</th>\n",
              "      <td>1.783955</td>\n",
              "      <td>2</td>\n",
              "    </tr>\n",
              "    <tr>\n",
              "      <th>9284</th>\n",
              "      <td>2.809588</td>\n",
              "      <td>4</td>\n",
              "    </tr>\n",
              "    <tr>\n",
              "      <th>8586</th>\n",
              "      <td>0.653462</td>\n",
              "      <td>0</td>\n",
              "    </tr>\n",
              "  </tbody>\n",
              "</table>\n",
              "</div>"
            ],
            "text/plain": [
              "       y_predicted  y_test\n",
              "8374      0.912851       2\n",
              "12862     3.029735       1\n",
              "10195     1.783955       2\n",
              "9284      2.809588       4\n",
              "8586      0.653462       0"
            ]
          },
          "metadata": {
            "tags": []
          },
          "execution_count": 92
        }
      ]
    },
    {
      "cell_type": "code",
      "metadata": {
        "id": "Dz2eGWlYxpJk",
        "colab_type": "code",
        "colab": {
          "base_uri": "https://localhost:8080/",
          "height": 68
        },
        "outputId": "26312e4c-c73f-44f8-cf8b-96d5c27e3b2c"
      },
      "source": [
        "# assess the accuraccy of the model\n",
        "\n",
        "print('Mean Absolute Error:', metrics.mean_absolute_error(y_test, y_pred))  \n",
        "print('Mean Squared Error:', metrics.mean_squared_error(y_test, y_pred))  \n",
        "print('Root Mean Squared Error:', np.sqrt(metrics.mean_squared_error(y_test, y_pred)))\n"
      ],
      "execution_count": 93,
      "outputs": [
        {
          "output_type": "stream",
          "text": [
            "Mean Absolute Error: 1.0280736713667429\n",
            "Mean Squared Error: 1.8727988557485344\n",
            "Root Mean Squared Error: 1.368502413497519\n"
          ],
          "name": "stdout"
        }
      ]
    },
    {
      "cell_type": "markdown",
      "metadata": {
        "id": "fTxpF-SKVR-f",
        "colab_type": "text"
      },
      "source": [
        ">* The RMSE score is 1.36 which is quite high considering that the mean score by home teams is 2. We need to cross validate the model to identify potential biases."
      ]
    },
    {
      "cell_type": "markdown",
      "metadata": {
        "id": "epPzeE3V0x35",
        "colab_type": "text"
      },
      "source": [
        "> Cross Validation using LeaveOneOut K-fold Cross-Validation Method"
      ]
    },
    {
      "cell_type": "code",
      "metadata": {
        "id": "HzTUkyt4yDdK",
        "colab_type": "code",
        "colab": {
          "base_uri": "https://localhost:8080/",
          "height": 51
        },
        "outputId": "e0ba37a0-7763-41b8-ee16-29e5c997bda6"
      },
      "source": [
        "# define the features and target\n",
        "x = poly_final[[\"tournament\", \"home_team_rank\", \"away_team_rank\"]].values\n",
        "y = poly_final[\"home_score\"].values\n",
        "\n",
        "# define the k-fold cross validation method\n",
        "folds = LeaveOneOut()\n",
        "\n",
        "#assess cross validation model\n",
        "RMSES = []\n",
        "count = 0\n",
        "for train_index, test_index in folds.split(x):\n",
        "  # set up train and test based on split determined by k-fold\n",
        "  x_train, x_test = x[train_index], x[test_index]\n",
        "  y_train, y_test = y[train_index], y[test_index]\n",
        "\n",
        "  # fitting the polynomial regression model\n",
        "  poly_regressor = PolynomialFeatures(degree = 1)    \n",
        "  x_reg = poly_regressor.fit_transform(x_train)      \n",
        "\n",
        "  #applying polynomial feature to linear regression\n",
        "  pol_reg = LinearRegression()                          \n",
        "  pol_reg.fit(x_reg, y_train)\n",
        "\n",
        "  # making predictions\n",
        "  y_pred = pol_reg.predict(poly_regressor.fit_transform(x_test))\n",
        "\n",
        "  # assessing the accuracy of the model\n",
        "  rmse_value = np.sqrt(metrics.mean_squared_error(y_test, y_pred))\n",
        "  RMSES.append (rmse_value)\n",
        "\n",
        "  count = count + 1\n",
        "\n",
        "print('Trained '+str(count) + ' models')\n",
        "print('The Mean of the RMSES is: ' + str (np.mean(RMSES)))\n"
      ],
      "execution_count": 95,
      "outputs": [
        {
          "output_type": "stream",
          "text": [
            "Trained 12916 models\n",
            "The Mean of the RMSES is: 1.0438161606444116\n"
          ],
          "name": "stdout"
        }
      ]
    },
    {
      "cell_type": "markdown",
      "metadata": {
        "id": "7C5ckik8XSYy",
        "colab_type": "text"
      },
      "source": [
        ">* We get a slightly lower RMSE here which means that this is a better model to use given our current data set."
      ]
    },
    {
      "cell_type": "markdown",
      "metadata": {
        "id": "oIVsy9B74dh9",
        "colab_type": "text"
      },
      "source": [
        "> Residuals and Heteroskedasticity testing"
      ]
    },
    {
      "cell_type": "code",
      "metadata": {
        "id": "-kTkL69p4rh6",
        "colab_type": "code",
        "colab": {
          "base_uri": "https://localhost:8080/",
          "height": 297
        },
        "outputId": "84531a1c-6089-4534-ac1d-0f90d76cc3aa"
      },
      "source": [
        "# Create the residuals\n",
        "\n",
        "residuals = np.subtract(y_pred, y_test)\n",
        "\n",
        "# Describe the residuals\n",
        "\n",
        "pd.DataFrame(residuals).describe()\n"
      ],
      "execution_count": 96,
      "outputs": [
        {
          "output_type": "execute_result",
          "data": {
            "text/html": [
              "<div>\n",
              "<style scoped>\n",
              "    .dataframe tbody tr th:only-of-type {\n",
              "        vertical-align: middle;\n",
              "    }\n",
              "\n",
              "    .dataframe tbody tr th {\n",
              "        vertical-align: top;\n",
              "    }\n",
              "\n",
              "    .dataframe thead th {\n",
              "        text-align: right;\n",
              "    }\n",
              "</style>\n",
              "<table border=\"1\" class=\"dataframe\">\n",
              "  <thead>\n",
              "    <tr style=\"text-align: right;\">\n",
              "      <th></th>\n",
              "      <th>0</th>\n",
              "    </tr>\n",
              "  </thead>\n",
              "  <tbody>\n",
              "    <tr>\n",
              "      <th>count</th>\n",
              "      <td>1.000000</td>\n",
              "    </tr>\n",
              "    <tr>\n",
              "      <th>mean</th>\n",
              "      <td>-0.212566</td>\n",
              "    </tr>\n",
              "    <tr>\n",
              "      <th>std</th>\n",
              "      <td>NaN</td>\n",
              "    </tr>\n",
              "    <tr>\n",
              "      <th>min</th>\n",
              "      <td>-0.212566</td>\n",
              "    </tr>\n",
              "    <tr>\n",
              "      <th>25%</th>\n",
              "      <td>-0.212566</td>\n",
              "    </tr>\n",
              "    <tr>\n",
              "      <th>50%</th>\n",
              "      <td>-0.212566</td>\n",
              "    </tr>\n",
              "    <tr>\n",
              "      <th>75%</th>\n",
              "      <td>-0.212566</td>\n",
              "    </tr>\n",
              "    <tr>\n",
              "      <th>max</th>\n",
              "      <td>-0.212566</td>\n",
              "    </tr>\n",
              "  </tbody>\n",
              "</table>\n",
              "</div>"
            ],
            "text/plain": [
              "              0\n",
              "count  1.000000\n",
              "mean  -0.212566\n",
              "std         NaN\n",
              "min   -0.212566\n",
              "25%   -0.212566\n",
              "50%   -0.212566\n",
              "75%   -0.212566\n",
              "max   -0.212566"
            ]
          },
          "metadata": {
            "tags": []
          },
          "execution_count": 96
        }
      ]
    },
    {
      "cell_type": "markdown",
      "metadata": {
        "id": "2AfKLQHpZUBO",
        "colab_type": "text"
      },
      "source": [
        ">* The results above show that the residuals are centered around the mean."
      ]
    },
    {
      "cell_type": "code",
      "metadata": {
        "id": "J9RYyn8h5pXS",
        "colab_type": "code",
        "colab": {
          "base_uri": "https://localhost:8080/",
          "height": 258
        },
        "outputId": "b8397496-7da0-47ce-8d63-614ecb711afc"
      },
      "source": [
        "# Heteroskedasticity test\n",
        "\n",
        "test_result, p_value = sp.stats.bartlett(y_pred, residuals)\n",
        "\n",
        "# Computing a critical value of the chi squared distribution\n",
        "\n",
        "degree_of_freedom = len(y_pred)-1\n",
        "probability = 1 - p_value\n",
        "\n",
        "critical_value = sp.stats.chi2.ppf(probability, degree_of_freedom)\n",
        "print(critical_value)\n",
        "print(test_result)\n",
        "\n",
        "\n",
        "if (test_result > critical_value):\n",
        "  print('the variances are unequal, and the model should be reassessed')\n",
        "else:\n",
        "  print('the variances are homogeneous!')\n"
      ],
      "execution_count": 98,
      "outputs": [
        {
          "output_type": "stream",
          "text": [
            "nan\n",
            "nan\n",
            "the variances are homogeneous!\n"
          ],
          "name": "stdout"
        },
        {
          "output_type": "stream",
          "text": [
            "/usr/local/lib/python3.6/dist-packages/numpy/core/fromnumeric.py:3584: RuntimeWarning: Degrees of freedom <= 0 for slice\n",
            "  **kwargs)\n",
            "/usr/local/lib/python3.6/dist-packages/numpy/core/_methods.py:209: RuntimeWarning: invalid value encountered in double_scalars\n",
            "  ret = ret.dtype.type(ret / rcount)\n",
            "/usr/local/lib/python3.6/dist-packages/scipy/stats/morestats.py:2242: RuntimeWarning: divide by zero encountered in true_divide\n",
            "  denom = 1.0 + 1.0/(3*(k - 1)) * ((np.sum(1.0/(Ni - 1.0), axis=0)) -\n",
            "/usr/local/lib/python3.6/dist-packages/scipy/stats/morestats.py:2243: RuntimeWarning: divide by zero encountered in double_scalars\n",
            "  1.0/(Ntot - k))\n",
            "/usr/local/lib/python3.6/dist-packages/scipy/stats/morestats.py:2243: RuntimeWarning: invalid value encountered in double_scalars\n",
            "  1.0/(Ntot - k))\n"
          ],
          "name": "stderr"
        }
      ]
    },
    {
      "cell_type": "markdown",
      "metadata": {
        "id": "Muulhccd63ur",
        "colab_type": "text"
      },
      "source": [
        "### Model 2: Predict away team goals"
      ]
    },
    {
      "cell_type": "code",
      "metadata": {
        "id": "1xe0RKSH68WC",
        "colab_type": "code",
        "colab": {}
      },
      "source": [
        "# define the target variable and features\n",
        "mycols = [col for col in poly_final.columns if col not in ['home_score', 'away_score']]\n",
        "\n",
        "x = poly_final[mycols]\n",
        "y = poly_final['away_score']\n",
        "\n",
        "\n",
        "# splitting the dataset into train and test sets\n",
        "x_train, x_test, y_train, y_test = train_test_split(x, y, random_state = 13, test_size = 0.3)\n",
        "\n",
        "\n",
        "# scaling the train and test sets\n",
        "sc = StandardScaler()\n",
        "x_train = sc.fit_transform(x_train)\n",
        "x_test = sc.transform(x_test)\n",
        "\n",
        "# fitting the polynomial regression to the dataset\n",
        "poly_features = PolynomialFeatures(degree = 1,include_bias = False)\n",
        "x_train = poly_features.fit_transform(x_train)\n",
        "x_test = poly_features.fit_transform(x_test)\n",
        "\n",
        "# training the model\n",
        "regressor = LinearRegression()\n",
        "regressor.fit(x_train, y_train)\n",
        "\n",
        "# making predictions\n",
        "y_pred = regressor.predict(x_test)"
      ],
      "execution_count": 99,
      "outputs": []
    },
    {
      "cell_type": "code",
      "metadata": {
        "id": "aBOMjSS37GM6",
        "colab_type": "code",
        "colab": {
          "base_uri": "https://localhost:8080/",
          "height": 204
        },
        "outputId": "d2bee2e4-d2cf-4ef0-b02d-2b97f6999950"
      },
      "source": [
        "# checking a sample of the predictions \n",
        "df_pred = pd.DataFrame({'y_predicted': y_pred, 'y_test': y_test})\n",
        "df_pred.sample(5)"
      ],
      "execution_count": 100,
      "outputs": [
        {
          "output_type": "execute_result",
          "data": {
            "text/html": [
              "<div>\n",
              "<style scoped>\n",
              "    .dataframe tbody tr th:only-of-type {\n",
              "        vertical-align: middle;\n",
              "    }\n",
              "\n",
              "    .dataframe tbody tr th {\n",
              "        vertical-align: top;\n",
              "    }\n",
              "\n",
              "    .dataframe thead th {\n",
              "        text-align: right;\n",
              "    }\n",
              "</style>\n",
              "<table border=\"1\" class=\"dataframe\">\n",
              "  <thead>\n",
              "    <tr style=\"text-align: right;\">\n",
              "      <th></th>\n",
              "      <th>y_predicted</th>\n",
              "      <th>y_test</th>\n",
              "    </tr>\n",
              "  </thead>\n",
              "  <tbody>\n",
              "    <tr>\n",
              "      <th>4332</th>\n",
              "      <td>1.361834</td>\n",
              "      <td>1</td>\n",
              "    </tr>\n",
              "    <tr>\n",
              "      <th>3469</th>\n",
              "      <td>0.458329</td>\n",
              "      <td>0</td>\n",
              "    </tr>\n",
              "    <tr>\n",
              "      <th>3660</th>\n",
              "      <td>0.598888</td>\n",
              "      <td>1</td>\n",
              "    </tr>\n",
              "    <tr>\n",
              "      <th>11931</th>\n",
              "      <td>0.942682</td>\n",
              "      <td>0</td>\n",
              "    </tr>\n",
              "    <tr>\n",
              "      <th>11394</th>\n",
              "      <td>1.156363</td>\n",
              "      <td>0</td>\n",
              "    </tr>\n",
              "  </tbody>\n",
              "</table>\n",
              "</div>"
            ],
            "text/plain": [
              "       y_predicted  y_test\n",
              "4332      1.361834       1\n",
              "3469      0.458329       0\n",
              "3660      0.598888       1\n",
              "11931     0.942682       0\n",
              "11394     1.156363       0"
            ]
          },
          "metadata": {
            "tags": []
          },
          "execution_count": 100
        }
      ]
    },
    {
      "cell_type": "code",
      "metadata": {
        "id": "VXSElvdM7OsT",
        "colab_type": "code",
        "colab": {
          "base_uri": "https://localhost:8080/",
          "height": 68
        },
        "outputId": "d527dce8-20a2-4dd8-f00f-75a59786fa2d"
      },
      "source": [
        "# assess the accuraccy of the model\n",
        "\n",
        "print('Mean Absolute Error:', metrics.mean_absolute_error(y_test, y_pred))  \n",
        "print('Mean Squared Error:', metrics.mean_squared_error(y_test, y_pred))  \n",
        "print('Root Mean Squared Error:', np.sqrt(metrics.mean_squared_error(y_test, y_pred)))"
      ],
      "execution_count": 101,
      "outputs": [
        {
          "output_type": "stream",
          "text": [
            "Mean Absolute Error: 0.7985568191516141\n",
            "Mean Squared Error: 1.0827411947997405\n",
            "Root Mean Squared Error: 1.0405485067019895\n"
          ],
          "name": "stdout"
        }
      ]
    },
    {
      "cell_type": "markdown",
      "metadata": {
        "id": "wPLmcP63aljj",
        "colab_type": "text"
      },
      "source": [
        ">* The RMSE score is 1.04 which is high considering that the mean score by away teams is 1. This means we need to cross validate the model to identify potential biases."
      ]
    },
    {
      "cell_type": "markdown",
      "metadata": {
        "id": "g3_8ey-S7Wt5",
        "colab_type": "text"
      },
      "source": [
        "> Cross Validation using LeaveOneOut Method"
      ]
    },
    {
      "cell_type": "code",
      "metadata": {
        "id": "sHA648tZ7YS9",
        "colab_type": "code",
        "colab": {
          "base_uri": "https://localhost:8080/",
          "height": 51
        },
        "outputId": "d952b744-a6a9-4dd5-ae1d-26c22ea3cf1e"
      },
      "source": [
        "# define the features and target\n",
        "x = poly_final[[\"tournament\", \"home_team_rank\", \"away_team_rank\"]].values\n",
        "y = poly_final[\"away_score\"].values\n",
        "\n",
        "# define the k-fold cross validation method\n",
        "folds = LeaveOneOut()\n",
        "\n",
        "#assess cross validation model\n",
        "RMSES = []\n",
        "count = 0\n",
        "for train_index, test_index in folds.split(x):\n",
        "  # set up train and test based on split determined by k-fold\n",
        "  x_train, x_test = x[train_index], x[test_index]\n",
        "  y_train, y_test = y[train_index], y[test_index]\n",
        "\n",
        "  # fitting the polynomial regression model\n",
        "  poly_regressor = PolynomialFeatures(degree = 1)    \n",
        "  x_reg = poly_regressor.fit_transform(x_train)      \n",
        "\n",
        "  #applying polynomial feature to linear regression\n",
        "  pol_reg = LinearRegression()                          \n",
        "  pol_reg.fit(x_reg, y_train)\n",
        "\n",
        "  # making predictions\n",
        "  y_pred = pol_reg.predict(poly_regressor.fit_transform(x_test))\n",
        "\n",
        "  # assessing the accuracy of the model\n",
        "  rmse_value = np.sqrt(metrics.mean_squared_error(y_test, y_pred))\n",
        "  RMSES.append (rmse_value)\n",
        "\n",
        "  count = count + 1\n",
        "\n",
        "print('Trained '+str(count) + ' models')\n",
        "print('The mean of the RMSES is: ' + str (np.mean(RMSES)))"
      ],
      "execution_count": 102,
      "outputs": [
        {
          "output_type": "stream",
          "text": [
            "Trained 12916 models\n",
            "The mean of the RMSES is: 0.8061536906156043\n"
          ],
          "name": "stdout"
        }
      ]
    },
    {
      "cell_type": "markdown",
      "metadata": {
        "id": "L1h5fBYq8idL",
        "colab_type": "text"
      },
      "source": [
        "> Residual plots and Heteroskedasticity testing"
      ]
    },
    {
      "cell_type": "code",
      "metadata": {
        "id": "Tv-RiSgJ8mKv",
        "colab_type": "code",
        "colab": {
          "base_uri": "https://localhost:8080/",
          "height": 297
        },
        "outputId": "2b374222-43c4-445c-e834-0d13420ef621"
      },
      "source": [
        "# Calculate the residuals\n",
        "\n",
        "residuals2 = np.subtract(y_pred, y_test)\n",
        "\n",
        "# Let's describe our residual:\n",
        "pd.DataFrame(residuals).describe()"
      ],
      "execution_count": 103,
      "outputs": [
        {
          "output_type": "execute_result",
          "data": {
            "text/html": [
              "<div>\n",
              "<style scoped>\n",
              "    .dataframe tbody tr th:only-of-type {\n",
              "        vertical-align: middle;\n",
              "    }\n",
              "\n",
              "    .dataframe tbody tr th {\n",
              "        vertical-align: top;\n",
              "    }\n",
              "\n",
              "    .dataframe thead th {\n",
              "        text-align: right;\n",
              "    }\n",
              "</style>\n",
              "<table border=\"1\" class=\"dataframe\">\n",
              "  <thead>\n",
              "    <tr style=\"text-align: right;\">\n",
              "      <th></th>\n",
              "      <th>0</th>\n",
              "    </tr>\n",
              "  </thead>\n",
              "  <tbody>\n",
              "    <tr>\n",
              "      <th>count</th>\n",
              "      <td>1.000000</td>\n",
              "    </tr>\n",
              "    <tr>\n",
              "      <th>mean</th>\n",
              "      <td>-0.212566</td>\n",
              "    </tr>\n",
              "    <tr>\n",
              "      <th>std</th>\n",
              "      <td>NaN</td>\n",
              "    </tr>\n",
              "    <tr>\n",
              "      <th>min</th>\n",
              "      <td>-0.212566</td>\n",
              "    </tr>\n",
              "    <tr>\n",
              "      <th>25%</th>\n",
              "      <td>-0.212566</td>\n",
              "    </tr>\n",
              "    <tr>\n",
              "      <th>50%</th>\n",
              "      <td>-0.212566</td>\n",
              "    </tr>\n",
              "    <tr>\n",
              "      <th>75%</th>\n",
              "      <td>-0.212566</td>\n",
              "    </tr>\n",
              "    <tr>\n",
              "      <th>max</th>\n",
              "      <td>-0.212566</td>\n",
              "    </tr>\n",
              "  </tbody>\n",
              "</table>\n",
              "</div>"
            ],
            "text/plain": [
              "              0\n",
              "count  1.000000\n",
              "mean  -0.212566\n",
              "std         NaN\n",
              "min   -0.212566\n",
              "25%   -0.212566\n",
              "50%   -0.212566\n",
              "75%   -0.212566\n",
              "max   -0.212566"
            ]
          },
          "metadata": {
            "tags": []
          },
          "execution_count": 103
        }
      ]
    },
    {
      "cell_type": "markdown",
      "metadata": {
        "id": "xQGv-UK6bkML",
        "colab_type": "text"
      },
      "source": [
        ">* The results above show that the residuals are centered around the mean."
      ]
    },
    {
      "cell_type": "code",
      "metadata": {
        "id": "_y7Iftd388il",
        "colab_type": "code",
        "colab": {
          "base_uri": "https://localhost:8080/",
          "height": 258
        },
        "outputId": "6799f6fc-3da7-49b7-f64a-e1a1234f46e8"
      },
      "source": [
        "# Heteroskedasticity test\n",
        "\n",
        "test_result, p_value = sp.stats.bartlett(y_pred, residuals)\n",
        "\n",
        "# To interpret the results we must also compute a critical value of the chi squared distribution\n",
        "degree_of_freedom = len(y_pred)-1\n",
        "probability = 1 - p_value\n",
        "\n",
        "critical_value = sp.stats.chi2.ppf(probability, degree_of_freedom)\n",
        "print(critical_value)\n",
        "print(test_result)\n",
        "\n",
        "\n",
        "if (test_result > critical_value):\n",
        "  print('the variances are unequal, and the model should be reassessed')\n",
        "else:\n",
        "  print('the variances are homogeneous!')"
      ],
      "execution_count": 104,
      "outputs": [
        {
          "output_type": "stream",
          "text": [
            "nan\n",
            "nan\n",
            "the variances are homogeneous!\n"
          ],
          "name": "stdout"
        },
        {
          "output_type": "stream",
          "text": [
            "/usr/local/lib/python3.6/dist-packages/numpy/core/fromnumeric.py:3584: RuntimeWarning: Degrees of freedom <= 0 for slice\n",
            "  **kwargs)\n",
            "/usr/local/lib/python3.6/dist-packages/numpy/core/_methods.py:209: RuntimeWarning: invalid value encountered in double_scalars\n",
            "  ret = ret.dtype.type(ret / rcount)\n",
            "/usr/local/lib/python3.6/dist-packages/scipy/stats/morestats.py:2242: RuntimeWarning: divide by zero encountered in true_divide\n",
            "  denom = 1.0 + 1.0/(3*(k - 1)) * ((np.sum(1.0/(Ni - 1.0), axis=0)) -\n",
            "/usr/local/lib/python3.6/dist-packages/scipy/stats/morestats.py:2243: RuntimeWarning: divide by zero encountered in double_scalars\n",
            "  1.0/(Ntot - k))\n",
            "/usr/local/lib/python3.6/dist-packages/scipy/stats/morestats.py:2243: RuntimeWarning: invalid value encountered in double_scalars\n",
            "  1.0/(Ntot - k))\n"
          ],
          "name": "stderr"
        }
      ]
    },
    {
      "cell_type": "markdown",
      "metadata": {
        "id": "MfFIw7-U5wgm",
        "colab_type": "text"
      },
      "source": [
        "## Approach 2: Logistic Regression"
      ]
    },
    {
      "cell_type": "code",
      "metadata": {
        "id": "mu8blXDA-9RC",
        "colab_type": "code",
        "colab": {
          "base_uri": "https://localhost:8080/",
          "height": 419
        },
        "outputId": "c613cbf9-6ee1-4594-8bc7-a79ba4b587fc"
      },
      "source": [
        "# Creating dataframe to use for this regression analysis\n",
        "log_final =final.drop(columns=['date', 'home_team', 'away_team', 'year', 'neutral'])\n",
        "log_final"
      ],
      "execution_count": 105,
      "outputs": [
        {
          "output_type": "execute_result",
          "data": {
            "text/html": [
              "<div>\n",
              "<style scoped>\n",
              "    .dataframe tbody tr th:only-of-type {\n",
              "        vertical-align: middle;\n",
              "    }\n",
              "\n",
              "    .dataframe tbody tr th {\n",
              "        vertical-align: top;\n",
              "    }\n",
              "\n",
              "    .dataframe thead th {\n",
              "        text-align: right;\n",
              "    }\n",
              "</style>\n",
              "<table border=\"1\" class=\"dataframe\">\n",
              "  <thead>\n",
              "    <tr style=\"text-align: right;\">\n",
              "      <th></th>\n",
              "      <th>home_score</th>\n",
              "      <th>away_score</th>\n",
              "      <th>tournament</th>\n",
              "      <th>home_team_rank</th>\n",
              "      <th>away_team_rank</th>\n",
              "      <th>status</th>\n",
              "    </tr>\n",
              "  </thead>\n",
              "  <tbody>\n",
              "    <tr>\n",
              "      <th>0</th>\n",
              "      <td>0</td>\n",
              "      <td>0</td>\n",
              "      <td>FIFA World Cup qualification</td>\n",
              "      <td>19</td>\n",
              "      <td>67</td>\n",
              "      <td>Draw</td>\n",
              "    </tr>\n",
              "    <tr>\n",
              "      <th>1</th>\n",
              "      <td>2</td>\n",
              "      <td>1</td>\n",
              "      <td>FIFA World Cup qualification</td>\n",
              "      <td>19</td>\n",
              "      <td>5</td>\n",
              "      <td>Win</td>\n",
              "    </tr>\n",
              "    <tr>\n",
              "      <th>2</th>\n",
              "      <td>4</td>\n",
              "      <td>0</td>\n",
              "      <td>FIFA World Cup qualification</td>\n",
              "      <td>19</td>\n",
              "      <td>70</td>\n",
              "      <td>Win</td>\n",
              "    </tr>\n",
              "    <tr>\n",
              "      <th>3</th>\n",
              "      <td>0</td>\n",
              "      <td>1</td>\n",
              "      <td>FIFA World Cup qualification</td>\n",
              "      <td>70</td>\n",
              "      <td>5</td>\n",
              "      <td>Loss</td>\n",
              "    </tr>\n",
              "    <tr>\n",
              "      <th>4</th>\n",
              "      <td>0</td>\n",
              "      <td>1</td>\n",
              "      <td>FIFA World Cup qualification</td>\n",
              "      <td>70</td>\n",
              "      <td>19</td>\n",
              "      <td>Loss</td>\n",
              "    </tr>\n",
              "    <tr>\n",
              "      <th>...</th>\n",
              "      <td>...</td>\n",
              "      <td>...</td>\n",
              "      <td>...</td>\n",
              "      <td>...</td>\n",
              "      <td>...</td>\n",
              "      <td>...</td>\n",
              "    </tr>\n",
              "    <tr>\n",
              "      <th>12945</th>\n",
              "      <td>4</td>\n",
              "      <td>0</td>\n",
              "      <td>Friendly</td>\n",
              "      <td>8</td>\n",
              "      <td>126</td>\n",
              "      <td>Win</td>\n",
              "    </tr>\n",
              "    <tr>\n",
              "      <th>12946</th>\n",
              "      <td>2</td>\n",
              "      <td>0</td>\n",
              "      <td>Friendly</td>\n",
              "      <td>12</td>\n",
              "      <td>15</td>\n",
              "      <td>Win</td>\n",
              "    </tr>\n",
              "    <tr>\n",
              "      <th>12947</th>\n",
              "      <td>1</td>\n",
              "      <td>2</td>\n",
              "      <td>Friendly</td>\n",
              "      <td>51</td>\n",
              "      <td>36</td>\n",
              "      <td>Loss</td>\n",
              "    </tr>\n",
              "    <tr>\n",
              "      <th>12948</th>\n",
              "      <td>1</td>\n",
              "      <td>3</td>\n",
              "      <td>Friendly</td>\n",
              "      <td>94</td>\n",
              "      <td>41</td>\n",
              "      <td>Loss</td>\n",
              "    </tr>\n",
              "    <tr>\n",
              "      <th>12949</th>\n",
              "      <td>2</td>\n",
              "      <td>0</td>\n",
              "      <td>Friendly</td>\n",
              "      <td>63</td>\n",
              "      <td>78</td>\n",
              "      <td>Win</td>\n",
              "    </tr>\n",
              "  </tbody>\n",
              "</table>\n",
              "<p>12916 rows × 6 columns</p>\n",
              "</div>"
            ],
            "text/plain": [
              "       home_score  away_score  ... away_team_rank  status\n",
              "0               0           0  ...             67    Draw\n",
              "1               2           1  ...              5     Win\n",
              "2               4           0  ...             70     Win\n",
              "3               0           1  ...              5    Loss\n",
              "4               0           1  ...             19    Loss\n",
              "...           ...         ...  ...            ...     ...\n",
              "12945           4           0  ...            126     Win\n",
              "12946           2           0  ...             15     Win\n",
              "12947           1           2  ...             36    Loss\n",
              "12948           1           3  ...             41    Loss\n",
              "12949           2           0  ...             78     Win\n",
              "\n",
              "[12916 rows x 6 columns]"
            ]
          },
          "metadata": {
            "tags": []
          },
          "execution_count": 105
        }
      ]
    },
    {
      "cell_type": "code",
      "metadata": {
        "id": "NmgLgKkNAim6",
        "colab_type": "code",
        "colab": {
          "base_uri": "https://localhost:8080/",
          "height": 204
        },
        "outputId": "aa516d9f-5faa-43dc-baf2-b1b90ec235c3"
      },
      "source": [
        "# encoding the tournament column with numeric codes\n",
        "\n",
        "le = LabelEncoder()\n",
        "log_final['tournament'] = le.fit_transform(log_final['tournament'])\n",
        "\n",
        "log_final.head()"
      ],
      "execution_count": 106,
      "outputs": [
        {
          "output_type": "execute_result",
          "data": {
            "text/html": [
              "<div>\n",
              "<style scoped>\n",
              "    .dataframe tbody tr th:only-of-type {\n",
              "        vertical-align: middle;\n",
              "    }\n",
              "\n",
              "    .dataframe tbody tr th {\n",
              "        vertical-align: top;\n",
              "    }\n",
              "\n",
              "    .dataframe thead th {\n",
              "        text-align: right;\n",
              "    }\n",
              "</style>\n",
              "<table border=\"1\" class=\"dataframe\">\n",
              "  <thead>\n",
              "    <tr style=\"text-align: right;\">\n",
              "      <th></th>\n",
              "      <th>home_score</th>\n",
              "      <th>away_score</th>\n",
              "      <th>tournament</th>\n",
              "      <th>home_team_rank</th>\n",
              "      <th>away_team_rank</th>\n",
              "      <th>status</th>\n",
              "    </tr>\n",
              "  </thead>\n",
              "  <tbody>\n",
              "    <tr>\n",
              "      <th>0</th>\n",
              "      <td>0</td>\n",
              "      <td>0</td>\n",
              "      <td>25</td>\n",
              "      <td>19</td>\n",
              "      <td>67</td>\n",
              "      <td>Draw</td>\n",
              "    </tr>\n",
              "    <tr>\n",
              "      <th>1</th>\n",
              "      <td>2</td>\n",
              "      <td>1</td>\n",
              "      <td>25</td>\n",
              "      <td>19</td>\n",
              "      <td>5</td>\n",
              "      <td>Win</td>\n",
              "    </tr>\n",
              "    <tr>\n",
              "      <th>2</th>\n",
              "      <td>4</td>\n",
              "      <td>0</td>\n",
              "      <td>25</td>\n",
              "      <td>19</td>\n",
              "      <td>70</td>\n",
              "      <td>Win</td>\n",
              "    </tr>\n",
              "    <tr>\n",
              "      <th>3</th>\n",
              "      <td>0</td>\n",
              "      <td>1</td>\n",
              "      <td>25</td>\n",
              "      <td>70</td>\n",
              "      <td>5</td>\n",
              "      <td>Loss</td>\n",
              "    </tr>\n",
              "    <tr>\n",
              "      <th>4</th>\n",
              "      <td>0</td>\n",
              "      <td>1</td>\n",
              "      <td>25</td>\n",
              "      <td>70</td>\n",
              "      <td>19</td>\n",
              "      <td>Loss</td>\n",
              "    </tr>\n",
              "  </tbody>\n",
              "</table>\n",
              "</div>"
            ],
            "text/plain": [
              "   home_score  away_score  tournament  home_team_rank  away_team_rank status\n",
              "0           0           0          25              19              67   Draw\n",
              "1           2           1          25              19               5    Win\n",
              "2           4           0          25              19              70    Win\n",
              "3           0           1          25              70               5   Loss\n",
              "4           0           1          25              70              19   Loss"
            ]
          },
          "metadata": {
            "tags": []
          },
          "execution_count": 106
        }
      ]
    },
    {
      "cell_type": "code",
      "metadata": {
        "id": "35x62u8NMsUm",
        "colab_type": "code",
        "colab": {
          "base_uri": "https://localhost:8080/",
          "height": 296
        },
        "outputId": "8ed3f838-e424-4dd0-a0b1-d475461651ac"
      },
      "source": [
        "# Checking the distribution of the target variable\n",
        "\n",
        "sns.countplot(x='status',data=log_final, palette='hls')"
      ],
      "execution_count": 107,
      "outputs": [
        {
          "output_type": "execute_result",
          "data": {
            "text/plain": [
              "<matplotlib.axes._subplots.AxesSubplot at 0x7f0cd48af198>"
            ]
          },
          "metadata": {
            "tags": []
          },
          "execution_count": 107
        },
        {
          "output_type": "display_data",
          "data": {
            "image/png": "[encoded data removed]",
            "text/plain": [
              "<Figure size 432x288 with 1 Axes>"
            ]
          },
          "metadata": {
            "tags": [],
            "needs_background": "light"
          }
        }
      ]
    },
    {
      "cell_type": "code",
      "metadata": {
        "id": "EVo1XJ0LAvp-",
        "colab_type": "code",
        "colab": {
          "base_uri": "https://localhost:8080/",
          "height": 204
        },
        "outputId": "e1a9011d-c618-4576-f6ac-e92d2675bd06"
      },
      "source": [
        "# encoding the status column with numeric codes\n",
        "\n",
        "log_final['status'] = le.fit_transform(log_final['status'])\n",
        "\n",
        "log_final.head()"
      ],
      "execution_count": 109,
      "outputs": [
        {
          "output_type": "execute_result",
          "data": {
            "text/html": [
              "<div>\n",
              "<style scoped>\n",
              "    .dataframe tbody tr th:only-of-type {\n",
              "        vertical-align: middle;\n",
              "    }\n",
              "\n",
              "    .dataframe tbody tr th {\n",
              "        vertical-align: top;\n",
              "    }\n",
              "\n",
              "    .dataframe thead th {\n",
              "        text-align: right;\n",
              "    }\n",
              "</style>\n",
              "<table border=\"1\" class=\"dataframe\">\n",
              "  <thead>\n",
              "    <tr style=\"text-align: right;\">\n",
              "      <th></th>\n",
              "      <th>home_score</th>\n",
              "      <th>away_score</th>\n",
              "      <th>tournament</th>\n",
              "      <th>home_team_rank</th>\n",
              "      <th>away_team_rank</th>\n",
              "      <th>status</th>\n",
              "    </tr>\n",
              "  </thead>\n",
              "  <tbody>\n",
              "    <tr>\n",
              "      <th>0</th>\n",
              "      <td>0</td>\n",
              "      <td>0</td>\n",
              "      <td>25</td>\n",
              "      <td>19</td>\n",
              "      <td>67</td>\n",
              "      <td>0</td>\n",
              "    </tr>\n",
              "    <tr>\n",
              "      <th>1</th>\n",
              "      <td>2</td>\n",
              "      <td>1</td>\n",
              "      <td>25</td>\n",
              "      <td>19</td>\n",
              "      <td>5</td>\n",
              "      <td>2</td>\n",
              "    </tr>\n",
              "    <tr>\n",
              "      <th>2</th>\n",
              "      <td>4</td>\n",
              "      <td>0</td>\n",
              "      <td>25</td>\n",
              "      <td>19</td>\n",
              "      <td>70</td>\n",
              "      <td>2</td>\n",
              "    </tr>\n",
              "    <tr>\n",
              "      <th>3</th>\n",
              "      <td>0</td>\n",
              "      <td>1</td>\n",
              "      <td>25</td>\n",
              "      <td>70</td>\n",
              "      <td>5</td>\n",
              "      <td>1</td>\n",
              "    </tr>\n",
              "    <tr>\n",
              "      <th>4</th>\n",
              "      <td>0</td>\n",
              "      <td>1</td>\n",
              "      <td>25</td>\n",
              "      <td>70</td>\n",
              "      <td>19</td>\n",
              "      <td>1</td>\n",
              "    </tr>\n",
              "  </tbody>\n",
              "</table>\n",
              "</div>"
            ],
            "text/plain": [
              "   home_score  away_score  tournament  home_team_rank  away_team_rank  status\n",
              "0           0           0          25              19              67       0\n",
              "1           2           1          25              19               5       2\n",
              "2           4           0          25              19              70       2\n",
              "3           0           1          25              70               5       1\n",
              "4           0           1          25              70              19       1"
            ]
          },
          "metadata": {
            "tags": []
          },
          "execution_count": 109
        }
      ]
    },
    {
      "cell_type": "code",
      "metadata": {
        "id": "nPkGtZRmP96O",
        "colab_type": "code",
        "colab": {
          "base_uri": "https://localhost:8080/",
          "height": 173
        },
        "outputId": "91192eda-595c-45b3-db04-7e2a918751ca"
      },
      "source": [
        "# Declaring the features and target\n",
        "x = log_final.drop(\"status\",axis=1)\n",
        "y = log_final[\"status\"]\n",
        "\n",
        "# creating the training and test sets\n",
        "x_train, x_test, y_train, y_test = train_test_split(x, y, test_size = .3, random_state=25)\n",
        "\n",
        "# fitting the model\n",
        "LogReg = LogisticRegression()\n",
        "LogReg.fit(x_train, y_train)\n",
        "\n",
        "# Using our model to make a prediction\n",
        "y_predicted = LogReg.predict(x_test)"
      ],
      "execution_count": 110,
      "outputs": [
        {
          "output_type": "stream",
          "text": [
            "/usr/local/lib/python3.6/dist-packages/sklearn/linear_model/_logistic.py:940: ConvergenceWarning: lbfgs failed to converge (status=1):\n",
            "STOP: TOTAL NO. of ITERATIONS REACHED LIMIT.\n",
            "\n",
            "Increase the number of iterations (max_iter) or scale the data as shown in:\n",
            "    https://scikit-learn.org/stable/modules/preprocessing.html\n",
            "Please also refer to the documentation for alternative solver options:\n",
            "    https://scikit-learn.org/stable/modules/linear_model.html#logistic-regression\n",
            "  extra_warning_msg=_LOGISTIC_SOLVER_CONVERGENCE_MSG)\n"
          ],
          "name": "stderr"
        }
      ]
    },
    {
      "cell_type": "code",
      "metadata": {
        "id": "riCvXXJGRPMK",
        "colab_type": "code",
        "colab": {
          "base_uri": "https://localhost:8080/",
          "height": 204
        },
        "outputId": "5733b6d1-323a-4577-bda1-c9ac17973f6c"
      },
      "source": [
        "# checking a sample of the predictions \n",
        "df_predicted = pd.DataFrame({'y_predicted': y_predicted, 'y_test': y_test})\n",
        "df_predicted.sample(5)"
      ],
      "execution_count": 111,
      "outputs": [
        {
          "output_type": "execute_result",
          "data": {
            "text/html": [
              "<div>\n",
              "<style scoped>\n",
              "    .dataframe tbody tr th:only-of-type {\n",
              "        vertical-align: middle;\n",
              "    }\n",
              "\n",
              "    .dataframe tbody tr th {\n",
              "        vertical-align: top;\n",
              "    }\n",
              "\n",
              "    .dataframe thead th {\n",
              "        text-align: right;\n",
              "    }\n",
              "</style>\n",
              "<table border=\"1\" class=\"dataframe\">\n",
              "  <thead>\n",
              "    <tr style=\"text-align: right;\">\n",
              "      <th></th>\n",
              "      <th>y_predicted</th>\n",
              "      <th>y_test</th>\n",
              "    </tr>\n",
              "  </thead>\n",
              "  <tbody>\n",
              "    <tr>\n",
              "      <th>5242</th>\n",
              "      <td>0</td>\n",
              "      <td>0</td>\n",
              "    </tr>\n",
              "    <tr>\n",
              "      <th>5939</th>\n",
              "      <td>2</td>\n",
              "      <td>2</td>\n",
              "    </tr>\n",
              "    <tr>\n",
              "      <th>2215</th>\n",
              "      <td>0</td>\n",
              "      <td>0</td>\n",
              "    </tr>\n",
              "    <tr>\n",
              "      <th>2185</th>\n",
              "      <td>1</td>\n",
              "      <td>1</td>\n",
              "    </tr>\n",
              "    <tr>\n",
              "      <th>2953</th>\n",
              "      <td>2</td>\n",
              "      <td>2</td>\n",
              "    </tr>\n",
              "  </tbody>\n",
              "</table>\n",
              "</div>"
            ],
            "text/plain": [
              "      y_predicted  y_test\n",
              "5242            0       0\n",
              "5939            2       2\n",
              "2215            0       0\n",
              "2185            1       1\n",
              "2953            2       2"
            ]
          },
          "metadata": {
            "tags": []
          },
          "execution_count": 111
        }
      ]
    },
    {
      "cell_type": "code",
      "metadata": {
        "id": "0lOCfUqbRh_0",
        "colab_type": "code",
        "colab": {
          "base_uri": "https://localhost:8080/",
          "height": 85
        },
        "outputId": "1c052310-6e8f-4655-ca47-0ecbd09a8fb8"
      },
      "source": [
        "# Evaluating the model\n",
        "\n",
        "confusion_matrix = confusion_matrix(y_test, y_predicted)\n",
        "print(confusion_matrix)\n",
        "\n",
        "# Checking the model accuracy\n",
        "\n",
        "accuracy = accuracy_score(y_test, y_predicted)\n",
        "print('The accuracy of the model is', accuracy)\n"
      ],
      "execution_count": 112,
      "outputs": [
        {
          "output_type": "stream",
          "text": [
            "[[ 929    0    0]\n",
            " [   0 1000    0]\n",
            " [   0    0 1946]]\n",
            "The accuracy of the model is 1.0\n"
          ],
          "name": "stdout"
        }
      ]
    },
    {
      "cell_type": "markdown",
      "metadata": {
        "id": "kSATDkAVb8l3",
        "colab_type": "text"
      },
      "source": [
        ">* The results from the confusion matrix tell us that 929, 1000 and 1946 are the correct predictions. There are no incorrect predictions as confirmed by the accuracy model of 1.\n",
        "\n",
        ">* This is a clear case of overfitting in the model. We can perform hyperparameter tuning to assess the model further."
      ]
    },
    {
      "cell_type": "markdown",
      "metadata": {
        "id": "64nbfdQAT-9v",
        "colab_type": "text"
      },
      "source": [
        "> Hyperparameter tuning\n"
      ]
    },
    {
      "cell_type": "code",
      "metadata": {
        "id": "CVReuw-qVytb",
        "colab_type": "code",
        "colab": {
          "base_uri": "https://localhost:8080/",
          "height": 1000
        },
        "outputId": "20aff845-7ec1-4aa3-8e73-75223422142d"
      },
      "source": [
        "# Method 1: Grid Search\n",
        "\n",
        "# Declaring the features and target\n",
        "x = log_final.drop(\"status\",axis=1)\n",
        "y = log_final[\"status\"]\n",
        "\n",
        "# Creating the logistic regression\n",
        "logistic = linear_model.LogisticRegression()\n",
        "\n",
        "# Creating regularization penalty space\n",
        "penalty = ['l1', 'l2']\n",
        "\n",
        "# Creating regularization hyperparameter space\n",
        "C = np.logspace(0, 4, 10)\n",
        "\n",
        "# Creating hyperparameter options\n",
        "hyperparameters = dict(C=C, penalty=penalty)\n",
        "\n",
        "# Creating grid search using 5-fold cross validation\n",
        "clf = GridSearchCV(logistic, hyperparameters, cv=3, verbose=0)\n",
        "\n",
        "# Fitting grid search\n",
        "best_model = clf.fit(x, y)"
      ],
      "execution_count": 114,
      "outputs": [
        {
          "output_type": "stream",
          "text": [
            "/usr/local/lib/python3.6/dist-packages/sklearn/model_selection/_validation.py:536: FitFailedWarning: Estimator fit failed. The score on this train-test partition for these parameters will be set to nan. Details: \n",
            "ValueError: Solver lbfgs supports only 'l2' or 'none' penalties, got l1 penalty.\n",
            "\n",
            "  FitFailedWarning)\n",
            "/usr/local/lib/python3.6/dist-packages/sklearn/linear_model/_logistic.py:940: ConvergenceWarning: lbfgs failed to converge (status=1):\n",
            "STOP: TOTAL NO. of ITERATIONS REACHED LIMIT.\n",
            "\n",
            "Increase the number of iterations (max_iter) or scale the data as shown in:\n",
            "    https://scikit-learn.org/stable/modules/preprocessing.html\n",
            "Please also refer to the documentation for alternative solver options:\n",
            "    https://scikit-learn.org/stable/modules/linear_model.html#logistic-regression\n",
            "  extra_warning_msg=_LOGISTIC_SOLVER_CONVERGENCE_MSG)\n",
            "/usr/local/lib/python3.6/dist-packages/sklearn/linear_model/_logistic.py:940: ConvergenceWarning: lbfgs failed to converge (status=1):\n",
            "STOP: TOTAL NO. of ITERATIONS REACHED LIMIT.\n",
            "\n",
            "Increase the number of iterations (max_iter) or scale the data as shown in:\n",
            "    https://scikit-learn.org/stable/modules/preprocessing.html\n",
            "Please also refer to the documentation for alternative solver options:\n",
            "    https://scikit-learn.org/stable/modules/linear_model.html#logistic-regression\n",
            "  extra_warning_msg=_LOGISTIC_SOLVER_CONVERGENCE_MSG)\n",
            "/usr/local/lib/python3.6/dist-packages/sklearn/linear_model/_logistic.py:940: ConvergenceWarning: lbfgs failed to converge (status=1):\n",
            "STOP: TOTAL NO. of ITERATIONS REACHED LIMIT.\n",
            "\n",
            "Increase the number of iterations (max_iter) or scale the data as shown in:\n",
            "    https://scikit-learn.org/stable/modules/preprocessing.html\n",
            "Please also refer to the documentation for alternative solver options:\n",
            "    https://scikit-learn.org/stable/modules/linear_model.html#logistic-regression\n",
            "  extra_warning_msg=_LOGISTIC_SOLVER_CONVERGENCE_MSG)\n",
            "/usr/local/lib/python3.6/dist-packages/sklearn/model_selection/_validation.py:536: FitFailedWarning: Estimator fit failed. The score on this train-test partition for these parameters will be set to nan. Details: \n",
            "ValueError: Solver lbfgs supports only 'l2' or 'none' penalties, got l1 penalty.\n",
            "\n",
            "  FitFailedWarning)\n",
            "/usr/local/lib/python3.6/dist-packages/sklearn/linear_model/_logistic.py:940: ConvergenceWarning: lbfgs failed to converge (status=1):\n",
            "STOP: TOTAL NO. of ITERATIONS REACHED LIMIT.\n",
            "\n",
            "Increase the number of iterations (max_iter) or scale the data as shown in:\n",
            "    https://scikit-learn.org/stable/modules/preprocessing.html\n",
            "Please also refer to the documentation for alternative solver options:\n",
            "    https://scikit-learn.org/stable/modules/linear_model.html#logistic-regression\n",
            "  extra_warning_msg=_LOGISTIC_SOLVER_CONVERGENCE_MSG)\n",
            "/usr/local/lib/python3.6/dist-packages/sklearn/linear_model/_logistic.py:940: ConvergenceWarning: lbfgs failed to converge (status=1):\n",
            "STOP: TOTAL NO. of ITERATIONS REACHED LIMIT.\n",
            "\n",
            "Increase the number of iterations (max_iter) or scale the data as shown in:\n",
            "    https://scikit-learn.org/stable/modules/preprocessing.html\n",
            "Please also refer to the documentation for alternative solver options:\n",
            "    https://scikit-learn.org/stable/modules/linear_model.html#logistic-regression\n",
            "  extra_warning_msg=_LOGISTIC_SOLVER_CONVERGENCE_MSG)\n",
            "/usr/local/lib/python3.6/dist-packages/sklearn/linear_model/_logistic.py:940: ConvergenceWarning: lbfgs failed to converge (status=1):\n",
            "STOP: TOTAL NO. of ITERATIONS REACHED LIMIT.\n",
            "\n",
            "Increase the number of iterations (max_iter) or scale the data as shown in:\n",
            "    https://scikit-learn.org/stable/modules/preprocessing.html\n",
            "Please also refer to the documentation for alternative solver options:\n",
            "    https://scikit-learn.org/stable/modules/linear_model.html#logistic-regression\n",
            "  extra_warning_msg=_LOGISTIC_SOLVER_CONVERGENCE_MSG)\n",
            "/usr/local/lib/python3.6/dist-packages/sklearn/model_selection/_validation.py:536: FitFailedWarning: Estimator fit failed. The score on this train-test partition for these parameters will be set to nan. Details: \n",
            "ValueError: Solver lbfgs supports only 'l2' or 'none' penalties, got l1 penalty.\n",
            "\n",
            "  FitFailedWarning)\n",
            "/usr/local/lib/python3.6/dist-packages/sklearn/linear_model/_logistic.py:940: ConvergenceWarning: lbfgs failed to converge (status=1):\n",
            "STOP: TOTAL NO. of ITERATIONS REACHED LIMIT.\n",
            "\n",
            "Increase the number of iterations (max_iter) or scale the data as shown in:\n",
            "    https://scikit-learn.org/stable/modules/preprocessing.html\n",
            "Please also refer to the documentation for alternative solver options:\n",
            "    https://scikit-learn.org/stable/modules/linear_model.html#logistic-regression\n",
            "  extra_warning_msg=_LOGISTIC_SOLVER_CONVERGENCE_MSG)\n",
            "/usr/local/lib/python3.6/dist-packages/sklearn/linear_model/_logistic.py:940: ConvergenceWarning: lbfgs failed to converge (status=1):\n",
            "STOP: TOTAL NO. of ITERATIONS REACHED LIMIT.\n",
            "\n",
            "Increase the number of iterations (max_iter) or scale the data as shown in:\n",
            "    https://scikit-learn.org/stable/modules/preprocessing.html\n",
            "Please also refer to the documentation for alternative solver options:\n",
            "    https://scikit-learn.org/stable/modules/linear_model.html#logistic-regression\n",
            "  extra_warning_msg=_LOGISTIC_SOLVER_CONVERGENCE_MSG)\n",
            "/usr/local/lib/python3.6/dist-packages/sklearn/linear_model/_logistic.py:940: ConvergenceWarning: lbfgs failed to converge (status=1):\n",
            "STOP: TOTAL NO. of ITERATIONS REACHED LIMIT.\n",
            "\n",
            "Increase the number of iterations (max_iter) or scale the data as shown in:\n",
            "    https://scikit-learn.org/stable/modules/preprocessing.html\n",
            "Please also refer to the documentation for alternative solver options:\n",
            "    https://scikit-learn.org/stable/modules/linear_model.html#logistic-regression\n",
            "  extra_warning_msg=_LOGISTIC_SOLVER_CONVERGENCE_MSG)\n",
            "/usr/local/lib/python3.6/dist-packages/sklearn/model_selection/_validation.py:536: FitFailedWarning: Estimator fit failed. The score on this train-test partition for these parameters will be set to nan. Details: \n",
            "ValueError: Solver lbfgs supports only 'l2' or 'none' penalties, got l1 penalty.\n",
            "\n",
            "  FitFailedWarning)\n",
            "/usr/local/lib/python3.6/dist-packages/sklearn/linear_model/_logistic.py:940: ConvergenceWarning: lbfgs failed to converge (status=1):\n",
            "STOP: TOTAL NO. of ITERATIONS REACHED LIMIT.\n",
            "\n",
            "Increase the number of iterations (max_iter) or scale the data as shown in:\n",
            "    https://scikit-learn.org/stable/modules/preprocessing.html\n",
            "Please also refer to the documentation for alternative solver options:\n",
            "    https://scikit-learn.org/stable/modules/linear_model.html#logistic-regression\n",
            "  extra_warning_msg=_LOGISTIC_SOLVER_CONVERGENCE_MSG)\n",
            "/usr/local/lib/python3.6/dist-packages/sklearn/linear_model/_logistic.py:940: ConvergenceWarning: lbfgs failed to converge (status=1):\n",
            "STOP: TOTAL NO. of ITERATIONS REACHED LIMIT.\n",
            "\n",
            "Increase the number of iterations (max_iter) or scale the data as shown in:\n",
            "    https://scikit-learn.org/stable/modules/preprocessing.html\n",
            "Please also refer to the documentation for alternative solver options:\n",
            "    https://scikit-learn.org/stable/modules/linear_model.html#logistic-regression\n",
            "  extra_warning_msg=_LOGISTIC_SOLVER_CONVERGENCE_MSG)\n",
            "/usr/local/lib/python3.6/dist-packages/sklearn/linear_model/_logistic.py:940: ConvergenceWarning: lbfgs failed to converge (status=1):\n",
            "STOP: TOTAL NO. of ITERATIONS REACHED LIMIT.\n",
            "\n",
            "Increase the number of iterations (max_iter) or scale the data as shown in:\n",
            "    https://scikit-learn.org/stable/modules/preprocessing.html\n",
            "Please also refer to the documentation for alternative solver options:\n",
            "    https://scikit-learn.org/stable/modules/linear_model.html#logistic-regression\n",
            "  extra_warning_msg=_LOGISTIC_SOLVER_CONVERGENCE_MSG)\n",
            "/usr/local/lib/python3.6/dist-packages/sklearn/model_selection/_validation.py:536: FitFailedWarning: Estimator fit failed. The score on this train-test partition for these parameters will be set to nan. Details: \n",
            "ValueError: Solver lbfgs supports only 'l2' or 'none' penalties, got l1 penalty.\n",
            "\n",
            "  FitFailedWarning)\n",
            "/usr/local/lib/python3.6/dist-packages/sklearn/linear_model/_logistic.py:940: ConvergenceWarning: lbfgs failed to converge (status=1):\n",
            "STOP: TOTAL NO. of ITERATIONS REACHED LIMIT.\n",
            "\n",
            "Increase the number of iterations (max_iter) or scale the data as shown in:\n",
            "    https://scikit-learn.org/stable/modules/preprocessing.html\n",
            "Please also refer to the documentation for alternative solver options:\n",
            "    https://scikit-learn.org/stable/modules/linear_model.html#logistic-regression\n",
            "  extra_warning_msg=_LOGISTIC_SOLVER_CONVERGENCE_MSG)\n",
            "/usr/local/lib/python3.6/dist-packages/sklearn/linear_model/_logistic.py:940: ConvergenceWarning: lbfgs failed to converge (status=1):\n",
            "STOP: TOTAL NO. of ITERATIONS REACHED LIMIT.\n",
            "\n",
            "Increase the number of iterations (max_iter) or scale the data as shown in:\n",
            "    https://scikit-learn.org/stable/modules/preprocessing.html\n",
            "Please also refer to the documentation for alternative solver options:\n",
            "    https://scikit-learn.org/stable/modules/linear_model.html#logistic-regression\n",
            "  extra_warning_msg=_LOGISTIC_SOLVER_CONVERGENCE_MSG)\n",
            "/usr/local/lib/python3.6/dist-packages/sklearn/linear_model/_logistic.py:940: ConvergenceWarning: lbfgs failed to converge (status=1):\n",
            "STOP: TOTAL NO. of ITERATIONS REACHED LIMIT.\n",
            "\n",
            "Increase the number of iterations (max_iter) or scale the data as shown in:\n",
            "    https://scikit-learn.org/stable/modules/preprocessing.html\n",
            "Please also refer to the documentation for alternative solver options:\n",
            "    https://scikit-learn.org/stable/modules/linear_model.html#logistic-regression\n",
            "  extra_warning_msg=_LOGISTIC_SOLVER_CONVERGENCE_MSG)\n",
            "/usr/local/lib/python3.6/dist-packages/sklearn/model_selection/_validation.py:536: FitFailedWarning: Estimator fit failed. The score on this train-test partition for these parameters will be set to nan. Details: \n",
            "ValueError: Solver lbfgs supports only 'l2' or 'none' penalties, got l1 penalty.\n",
            "\n",
            "  FitFailedWarning)\n",
            "/usr/local/lib/python3.6/dist-packages/sklearn/linear_model/_logistic.py:940: ConvergenceWarning: lbfgs failed to converge (status=1):\n",
            "STOP: TOTAL NO. of ITERATIONS REACHED LIMIT.\n",
            "\n",
            "Increase the number of iterations (max_iter) or scale the data as shown in:\n",
            "    https://scikit-learn.org/stable/modules/preprocessing.html\n",
            "Please also refer to the documentation for alternative solver options:\n",
            "    https://scikit-learn.org/stable/modules/linear_model.html#logistic-regression\n",
            "  extra_warning_msg=_LOGISTIC_SOLVER_CONVERGENCE_MSG)\n",
            "/usr/local/lib/python3.6/dist-packages/sklearn/linear_model/_logistic.py:940: ConvergenceWarning: lbfgs failed to converge (status=1):\n",
            "STOP: TOTAL NO. of ITERATIONS REACHED LIMIT.\n",
            "\n",
            "Increase the number of iterations (max_iter) or scale the data as shown in:\n",
            "    https://scikit-learn.org/stable/modules/preprocessing.html\n",
            "Please also refer to the documentation for alternative solver options:\n",
            "    https://scikit-learn.org/stable/modules/linear_model.html#logistic-regression\n",
            "  extra_warning_msg=_LOGISTIC_SOLVER_CONVERGENCE_MSG)\n",
            "/usr/local/lib/python3.6/dist-packages/sklearn/linear_model/_logistic.py:940: ConvergenceWarning: lbfgs failed to converge (status=1):\n",
            "STOP: TOTAL NO. of ITERATIONS REACHED LIMIT.\n",
            "\n",
            "Increase the number of iterations (max_iter) or scale the data as shown in:\n",
            "    https://scikit-learn.org/stable/modules/preprocessing.html\n",
            "Please also refer to the documentation for alternative solver options:\n",
            "    https://scikit-learn.org/stable/modules/linear_model.html#logistic-regression\n",
            "  extra_warning_msg=_LOGISTIC_SOLVER_CONVERGENCE_MSG)\n",
            "/usr/local/lib/python3.6/dist-packages/sklearn/model_selection/_validation.py:536: FitFailedWarning: Estimator fit failed. The score on this train-test partition for these parameters will be set to nan. Details: \n",
            "ValueError: Solver lbfgs supports only 'l2' or 'none' penalties, got l1 penalty.\n",
            "\n",
            "  FitFailedWarning)\n",
            "/usr/local/lib/python3.6/dist-packages/sklearn/linear_model/_logistic.py:940: ConvergenceWarning: lbfgs failed to converge (status=1):\n",
            "STOP: TOTAL NO. of ITERATIONS REACHED LIMIT.\n",
            "\n",
            "Increase the number of iterations (max_iter) or scale the data as shown in:\n",
            "    https://scikit-learn.org/stable/modules/preprocessing.html\n",
            "Please also refer to the documentation for alternative solver options:\n",
            "    https://scikit-learn.org/stable/modules/linear_model.html#logistic-regression\n",
            "  extra_warning_msg=_LOGISTIC_SOLVER_CONVERGENCE_MSG)\n",
            "/usr/local/lib/python3.6/dist-packages/sklearn/linear_model/_logistic.py:940: ConvergenceWarning: lbfgs failed to converge (status=1):\n",
            "STOP: TOTAL NO. of ITERATIONS REACHED LIMIT.\n",
            "\n",
            "Increase the number of iterations (max_iter) or scale the data as shown in:\n",
            "    https://scikit-learn.org/stable/modules/preprocessing.html\n",
            "Please also refer to the documentation for alternative solver options:\n",
            "    https://scikit-learn.org/stable/modules/linear_model.html#logistic-regression\n",
            "  extra_warning_msg=_LOGISTIC_SOLVER_CONVERGENCE_MSG)\n",
            "/usr/local/lib/python3.6/dist-packages/sklearn/linear_model/_logistic.py:940: ConvergenceWarning: lbfgs failed to converge (status=1):\n",
            "STOP: TOTAL NO. of ITERATIONS REACHED LIMIT.\n",
            "\n",
            "Increase the number of iterations (max_iter) or scale the data as shown in:\n",
            "    https://scikit-learn.org/stable/modules/preprocessing.html\n",
            "Please also refer to the documentation for alternative solver options:\n",
            "    https://scikit-learn.org/stable/modules/linear_model.html#logistic-regression\n",
            "  extra_warning_msg=_LOGISTIC_SOLVER_CONVERGENCE_MSG)\n",
            "/usr/local/lib/python3.6/dist-packages/sklearn/model_selection/_validation.py:536: FitFailedWarning: Estimator fit failed. The score on this train-test partition for these parameters will be set to nan. Details: \n",
            "ValueError: Solver lbfgs supports only 'l2' or 'none' penalties, got l1 penalty.\n",
            "\n",
            "  FitFailedWarning)\n",
            "/usr/local/lib/python3.6/dist-packages/sklearn/linear_model/_logistic.py:940: ConvergenceWarning: lbfgs failed to converge (status=1):\n",
            "STOP: TOTAL NO. of ITERATIONS REACHED LIMIT.\n",
            "\n",
            "Increase the number of iterations (max_iter) or scale the data as shown in:\n",
            "    https://scikit-learn.org/stable/modules/preprocessing.html\n",
            "Please also refer to the documentation for alternative solver options:\n",
            "    https://scikit-learn.org/stable/modules/linear_model.html#logistic-regression\n",
            "  extra_warning_msg=_LOGISTIC_SOLVER_CONVERGENCE_MSG)\n",
            "/usr/local/lib/python3.6/dist-packages/sklearn/linear_model/_logistic.py:940: ConvergenceWarning: lbfgs failed to converge (status=1):\n",
            "STOP: TOTAL NO. of ITERATIONS REACHED LIMIT.\n",
            "\n",
            "Increase the number of iterations (max_iter) or scale the data as shown in:\n",
            "    https://scikit-learn.org/stable/modules/preprocessing.html\n",
            "Please also refer to the documentation for alternative solver options:\n",
            "    https://scikit-learn.org/stable/modules/linear_model.html#logistic-regression\n",
            "  extra_warning_msg=_LOGISTIC_SOLVER_CONVERGENCE_MSG)\n",
            "/usr/local/lib/python3.6/dist-packages/sklearn/linear_model/_logistic.py:940: ConvergenceWarning: lbfgs failed to converge (status=1):\n",
            "STOP: TOTAL NO. of ITERATIONS REACHED LIMIT.\n",
            "\n",
            "Increase the number of iterations (max_iter) or scale the data as shown in:\n",
            "    https://scikit-learn.org/stable/modules/preprocessing.html\n",
            "Please also refer to the documentation for alternative solver options:\n",
            "    https://scikit-learn.org/stable/modules/linear_model.html#logistic-regression\n",
            "  extra_warning_msg=_LOGISTIC_SOLVER_CONVERGENCE_MSG)\n",
            "/usr/local/lib/python3.6/dist-packages/sklearn/model_selection/_validation.py:536: FitFailedWarning: Estimator fit failed. The score on this train-test partition for these parameters will be set to nan. Details: \n",
            "ValueError: Solver lbfgs supports only 'l2' or 'none' penalties, got l1 penalty.\n",
            "\n",
            "  FitFailedWarning)\n",
            "/usr/local/lib/python3.6/dist-packages/sklearn/linear_model/_logistic.py:940: ConvergenceWarning: lbfgs failed to converge (status=1):\n",
            "STOP: TOTAL NO. of ITERATIONS REACHED LIMIT.\n",
            "\n",
            "Increase the number of iterations (max_iter) or scale the data as shown in:\n",
            "    https://scikit-learn.org/stable/modules/preprocessing.html\n",
            "Please also refer to the documentation for alternative solver options:\n",
            "    https://scikit-learn.org/stable/modules/linear_model.html#logistic-regression\n",
            "  extra_warning_msg=_LOGISTIC_SOLVER_CONVERGENCE_MSG)\n",
            "/usr/local/lib/python3.6/dist-packages/sklearn/linear_model/_logistic.py:940: ConvergenceWarning: lbfgs failed to converge (status=1):\n",
            "STOP: TOTAL NO. of ITERATIONS REACHED LIMIT.\n",
            "\n",
            "Increase the number of iterations (max_iter) or scale the data as shown in:\n",
            "    https://scikit-learn.org/stable/modules/preprocessing.html\n",
            "Please also refer to the documentation for alternative solver options:\n",
            "    https://scikit-learn.org/stable/modules/linear_model.html#logistic-regression\n",
            "  extra_warning_msg=_LOGISTIC_SOLVER_CONVERGENCE_MSG)\n",
            "/usr/local/lib/python3.6/dist-packages/sklearn/linear_model/_logistic.py:940: ConvergenceWarning: lbfgs failed to converge (status=1):\n",
            "STOP: TOTAL NO. of ITERATIONS REACHED LIMIT.\n",
            "\n",
            "Increase the number of iterations (max_iter) or scale the data as shown in:\n",
            "    https://scikit-learn.org/stable/modules/preprocessing.html\n",
            "Please also refer to the documentation for alternative solver options:\n",
            "    https://scikit-learn.org/stable/modules/linear_model.html#logistic-regression\n",
            "  extra_warning_msg=_LOGISTIC_SOLVER_CONVERGENCE_MSG)\n",
            "/usr/local/lib/python3.6/dist-packages/sklearn/model_selection/_validation.py:536: FitFailedWarning: Estimator fit failed. The score on this train-test partition for these parameters will be set to nan. Details: \n",
            "ValueError: Solver lbfgs supports only 'l2' or 'none' penalties, got l1 penalty.\n",
            "\n",
            "  FitFailedWarning)\n",
            "/usr/local/lib/python3.6/dist-packages/sklearn/linear_model/_logistic.py:940: ConvergenceWarning: lbfgs failed to converge (status=1):\n",
            "STOP: TOTAL NO. of ITERATIONS REACHED LIMIT.\n",
            "\n",
            "Increase the number of iterations (max_iter) or scale the data as shown in:\n",
            "    https://scikit-learn.org/stable/modules/preprocessing.html\n",
            "Please also refer to the documentation for alternative solver options:\n",
            "    https://scikit-learn.org/stable/modules/linear_model.html#logistic-regression\n",
            "  extra_warning_msg=_LOGISTIC_SOLVER_CONVERGENCE_MSG)\n",
            "/usr/local/lib/python3.6/dist-packages/sklearn/linear_model/_logistic.py:940: ConvergenceWarning: lbfgs failed to converge (status=1):\n",
            "STOP: TOTAL NO. of ITERATIONS REACHED LIMIT.\n",
            "\n",
            "Increase the number of iterations (max_iter) or scale the data as shown in:\n",
            "    https://scikit-learn.org/stable/modules/preprocessing.html\n",
            "Please also refer to the documentation for alternative solver options:\n",
            "    https://scikit-learn.org/stable/modules/linear_model.html#logistic-regression\n",
            "  extra_warning_msg=_LOGISTIC_SOLVER_CONVERGENCE_MSG)\n",
            "/usr/local/lib/python3.6/dist-packages/sklearn/linear_model/_logistic.py:940: ConvergenceWarning: lbfgs failed to converge (status=1):\n",
            "STOP: TOTAL NO. of ITERATIONS REACHED LIMIT.\n",
            "\n",
            "Increase the number of iterations (max_iter) or scale the data as shown in:\n",
            "    https://scikit-learn.org/stable/modules/preprocessing.html\n",
            "Please also refer to the documentation for alternative solver options:\n",
            "    https://scikit-learn.org/stable/modules/linear_model.html#logistic-regression\n",
            "  extra_warning_msg=_LOGISTIC_SOLVER_CONVERGENCE_MSG)\n",
            "/usr/local/lib/python3.6/dist-packages/sklearn/linear_model/_logistic.py:940: ConvergenceWarning: lbfgs failed to converge (status=1):\n",
            "STOP: TOTAL NO. of ITERATIONS REACHED LIMIT.\n",
            "\n",
            "Increase the number of iterations (max_iter) or scale the data as shown in:\n",
            "    https://scikit-learn.org/stable/modules/preprocessing.html\n",
            "Please also refer to the documentation for alternative solver options:\n",
            "    https://scikit-learn.org/stable/modules/linear_model.html#logistic-regression\n",
            "  extra_warning_msg=_LOGISTIC_SOLVER_CONVERGENCE_MSG)\n"
          ],
          "name": "stderr"
        }
      ]
    },
    {
      "cell_type": "code",
      "metadata": {
        "id": "P7XvLl5ZWgf5",
        "colab_type": "code",
        "colab": {
          "base_uri": "https://localhost:8080/",
          "height": 51
        },
        "outputId": "81631bfc-dfe5-4050-efb1-c120d21946ac"
      },
      "source": [
        "# Viewing best hyperparameters\n",
        "print('Best Penalty:', best_model.best_estimator_.get_params()['penalty'])\n",
        "print('Best C:', best_model.best_estimator_.get_params()['C'])"
      ],
      "execution_count": 115,
      "outputs": [
        {
          "output_type": "stream",
          "text": [
            "Best Penalty: l2\n",
            "Best C: 1.0\n"
          ],
          "name": "stdout"
        }
      ]
    },
    {
      "cell_type": "code",
      "metadata": {
        "id": "ERMDxR_UXQdE",
        "colab_type": "code",
        "colab": {
          "base_uri": "https://localhost:8080/",
          "height": 34
        },
        "outputId": "ef09b477-79bd-4071-8e67-409d66c7ded3"
      },
      "source": [
        "# Define features, target and train and test sets\n",
        "\n",
        "X = log_final.iloc[:, 0:5].values\n",
        "y = log_final.iloc[:, 5].values\n",
        "\n",
        "X_train, X_test, y_train, y_test = train_test_split(X, y)\n",
        "\n",
        "# Scaling our Data\n",
        "from sklearn.preprocessing import StandardScaler\n",
        "feature_scaler = StandardScaler()\n",
        "X_train = feature_scaler.fit_transform(X_train)\n",
        "X_test = feature_scaler.transform(X_test)\n",
        "\n",
        "# Training and Cross Validation\n",
        "from sklearn.ensemble import RandomForestClassifier\n",
        "classifier = RandomForestClassifier(n_estimators=300, random_state=0)\n",
        "\n",
        "from sklearn.model_selection import cross_val_score\n",
        "all_accuracies = cross_val_score(estimator=classifier, X=X_train, y=y_train, cv=5)\n",
        "\n",
        "print(all_accuracies.mean())"
      ],
      "execution_count": 116,
      "outputs": [
        {
          "output_type": "stream",
          "text": [
            "0.9994838442944495\n"
          ],
          "name": "stdout"
        }
      ]
    },
    {
      "cell_type": "code",
      "metadata": {
        "id": "bG4r_W7HX-H6",
        "colab_type": "code",
        "colab": {}
      },
      "source": [
        "# dictionary of all parameters and the values we want to test for best performance\n",
        "\n",
        "grid_param = {\n",
        "    'n_estimators': [100, 300, 500, 800, 1000],\n",
        "    'criterion': ['gini', 'entropy'],\n",
        "    'bootstrap': [True, False]\n",
        "}"
      ],
      "execution_count": 117,
      "outputs": []
    },
    {
      "cell_type": "code",
      "metadata": {
        "id": "lpxmoWkOX-a8",
        "colab_type": "code",
        "colab": {}
      },
      "source": [
        "#Instantiating GridSearchCV object\n",
        "from sklearn.model_selection import GridSearchCV\n",
        "gd_sr = GridSearchCV(estimator=classifier,\n",
        "                     param_grid=grid_param,\n",
        "                     scoring='accuracy',\n",
        "                     cv=5,\n",
        "                     n_jobs=-1)"
      ],
      "execution_count": 118,
      "outputs": []
    },
    {
      "cell_type": "code",
      "metadata": {
        "id": "skORPOMFYGF1",
        "colab_type": "code",
        "colab": {
          "base_uri": "https://localhost:8080/",
          "height": 374
        },
        "outputId": "3c14513c-1b36-4c28-c322-907ca39827be"
      },
      "source": [
        "#Calling the fit method\n",
        "gd_sr.fit(X_train, y_train)"
      ],
      "execution_count": 119,
      "outputs": [
        {
          "output_type": "execute_result",
          "data": {
            "text/plain": [
              "GridSearchCV(cv=5, error_score=nan,\n",
              "             estimator=RandomForestClassifier(bootstrap=True, ccp_alpha=0.0,\n",
              "                                              class_weight=None,\n",
              "                                              criterion='gini', max_depth=None,\n",
              "                                              max_features='auto',\n",
              "                                              max_leaf_nodes=None,\n",
              "                                              max_samples=None,\n",
              "                                              min_impurity_decrease=0.0,\n",
              "                                              min_impurity_split=None,\n",
              "                                              min_samples_leaf=1,\n",
              "                                              min_samples_split=2,\n",
              "                                              min_weight_fraction_leaf=0.0,\n",
              "                                              n_estimators=300, n_jobs=None,\n",
              "                                              oob_score=False, random_state=0,\n",
              "                                              verbose=0, warm_start=False),\n",
              "             iid='deprecated', n_jobs=-1,\n",
              "             param_grid={'bootstrap': [True, False],\n",
              "                         'criterion': ['gini', 'entropy'],\n",
              "                         'n_estimators': [100, 300, 500, 800, 1000]},\n",
              "             pre_dispatch='2*n_jobs', refit=True, return_train_score=False,\n",
              "             scoring='accuracy', verbose=0)"
            ]
          },
          "metadata": {
            "tags": []
          },
          "execution_count": 119
        }
      ]
    },
    {
      "cell_type": "code",
      "metadata": {
        "id": "xtnM7_ziYKf2",
        "colab_type": "code",
        "colab": {
          "base_uri": "https://localhost:8080/",
          "height": 34
        },
        "outputId": "008d5236-3bd1-4f5f-a87c-5878745e5331"
      },
      "source": [
        "# Checking the parameters that return the highest accuracy\n",
        "\n",
        "best_parameters = gd_sr.best_params_\n",
        "print(best_parameters)\n"
      ],
      "execution_count": 120,
      "outputs": [
        {
          "output_type": "stream",
          "text": [
            "{'bootstrap': True, 'criterion': 'gini', 'n_estimators': 800}\n"
          ],
          "name": "stdout"
        }
      ]
    },
    {
      "cell_type": "code",
      "metadata": {
        "id": "DjuoTN0yYOb8",
        "colab_type": "code",
        "colab": {
          "base_uri": "https://localhost:8080/",
          "height": 34
        },
        "outputId": "95bec498-9732-409b-b342-3173070bd500"
      },
      "source": [
        "# Finding the obtained accuracy\n",
        "\n",
        "best_result = gd_sr.best_score_\n",
        "print(best_result)"
      ],
      "execution_count": 121,
      "outputs": [
        {
          "output_type": "stream",
          "text": [
            "0.9995870967466953\n"
          ],
          "name": "stdout"
        }
      ]
    },
    {
      "cell_type": "code",
      "metadata": {
        "id": "jAVBGouwYeGL",
        "colab_type": "code",
        "colab": {}
      },
      "source": [
        "# Method 2: Random Search\n",
        "\n",
        "# specify parameters and distributions to sample from\n",
        "from scipy.stats import randint as sp_randint\n",
        "param_dist = {\"max_depth\": [3, None],\n",
        "              \"max_features\": sp_randint(1, 11),\n",
        "              \"min_samples_split\": sp_randint(2, 11),\n",
        "              \"bootstrap\": [True, False],\n",
        "              \"criterion\": [\"gini\", \"entropy\"]}"
      ],
      "execution_count": 122,
      "outputs": []
    },
    {
      "cell_type": "code",
      "metadata": {
        "id": "efGqAoZfYpW7",
        "colab_type": "code",
        "colab": {}
      },
      "source": [
        "# Instantiating RandomizedSearchCV object \n",
        "\n",
        "from sklearn.model_selection import RandomizedSearchCV \n",
        "random_sr = RandomizedSearchCV(classifier, param_dist, cv = 5) "
      ],
      "execution_count": 123,
      "outputs": []
    },
    {
      "cell_type": "code",
      "metadata": {
        "id": "tJPF_UCyYrjZ",
        "colab_type": "code",
        "colab": {
          "base_uri": "https://localhost:8080/",
          "height": 1000
        },
        "outputId": "981cdf07-f092-4a20-f3a5-6a491d736c60"
      },
      "source": [
        "# Calling the fit method\n",
        "\n",
        "random_sr.fit(X_train, y_train)"
      ],
      "execution_count": 124,
      "outputs": [
        {
          "output_type": "stream",
          "text": [
            "/usr/local/lib/python3.6/dist-packages/sklearn/model_selection/_validation.py:536: FitFailedWarning: Estimator fit failed. The score on this train-test partition for these parameters will be set to nan. Details: \n",
            "ValueError: max_features must be in (0, n_features]\n",
            "\n",
            "  FitFailedWarning)\n",
            "/usr/local/lib/python3.6/dist-packages/sklearn/model_selection/_validation.py:536: FitFailedWarning: Estimator fit failed. The score on this train-test partition for these parameters will be set to nan. Details: \n",
            "ValueError: max_features must be in (0, n_features]\n",
            "\n",
            "  FitFailedWarning)\n",
            "/usr/local/lib/python3.6/dist-packages/sklearn/model_selection/_validation.py:536: FitFailedWarning: Estimator fit failed. The score on this train-test partition for these parameters will be set to nan. Details: \n",
            "ValueError: max_features must be in (0, n_features]\n",
            "\n",
            "  FitFailedWarning)\n",
            "/usr/local/lib/python3.6/dist-packages/sklearn/model_selection/_validation.py:536: FitFailedWarning: Estimator fit failed. The score on this train-test partition for these parameters will be set to nan. Details: \n",
            "ValueError: max_features must be in (0, n_features]\n",
            "\n",
            "  FitFailedWarning)\n",
            "/usr/local/lib/python3.6/dist-packages/sklearn/model_selection/_validation.py:536: FitFailedWarning: Estimator fit failed. The score on this train-test partition for these parameters will be set to nan. Details: \n",
            "ValueError: max_features must be in (0, n_features]\n",
            "\n",
            "  FitFailedWarning)\n",
            "/usr/local/lib/python3.6/dist-packages/sklearn/model_selection/_validation.py:536: FitFailedWarning: Estimator fit failed. The score on this train-test partition for these parameters will be set to nan. Details: \n",
            "ValueError: max_features must be in (0, n_features]\n",
            "\n",
            "  FitFailedWarning)\n",
            "/usr/local/lib/python3.6/dist-packages/sklearn/model_selection/_validation.py:536: FitFailedWarning: Estimator fit failed. The score on this train-test partition for these parameters will be set to nan. Details: \n",
            "ValueError: max_features must be in (0, n_features]\n",
            "\n",
            "  FitFailedWarning)\n",
            "/usr/local/lib/python3.6/dist-packages/sklearn/model_selection/_validation.py:536: FitFailedWarning: Estimator fit failed. The score on this train-test partition for these parameters will be set to nan. Details: \n",
            "ValueError: max_features must be in (0, n_features]\n",
            "\n",
            "  FitFailedWarning)\n",
            "/usr/local/lib/python3.6/dist-packages/sklearn/model_selection/_validation.py:536: FitFailedWarning: Estimator fit failed. The score on this train-test partition for these parameters will be set to nan. Details: \n",
            "ValueError: max_features must be in (0, n_features]\n",
            "\n",
            "  FitFailedWarning)\n",
            "/usr/local/lib/python3.6/dist-packages/sklearn/model_selection/_validation.py:536: FitFailedWarning: Estimator fit failed. The score on this train-test partition for these parameters will be set to nan. Details: \n",
            "ValueError: max_features must be in (0, n_features]\n",
            "\n",
            "  FitFailedWarning)\n",
            "/usr/local/lib/python3.6/dist-packages/sklearn/model_selection/_validation.py:536: FitFailedWarning: Estimator fit failed. The score on this train-test partition for these parameters will be set to nan. Details: \n",
            "ValueError: max_features must be in (0, n_features]\n",
            "\n",
            "  FitFailedWarning)\n",
            "/usr/local/lib/python3.6/dist-packages/sklearn/model_selection/_validation.py:536: FitFailedWarning: Estimator fit failed. The score on this train-test partition for these parameters will be set to nan. Details: \n",
            "ValueError: max_features must be in (0, n_features]\n",
            "\n",
            "  FitFailedWarning)\n",
            "/usr/local/lib/python3.6/dist-packages/sklearn/model_selection/_validation.py:536: FitFailedWarning: Estimator fit failed. The score on this train-test partition for these parameters will be set to nan. Details: \n",
            "ValueError: max_features must be in (0, n_features]\n",
            "\n",
            "  FitFailedWarning)\n",
            "/usr/local/lib/python3.6/dist-packages/sklearn/model_selection/_validation.py:536: FitFailedWarning: Estimator fit failed. The score on this train-test partition for these parameters will be set to nan. Details: \n",
            "ValueError: max_features must be in (0, n_features]\n",
            "\n",
            "  FitFailedWarning)\n",
            "/usr/local/lib/python3.6/dist-packages/sklearn/model_selection/_validation.py:536: FitFailedWarning: Estimator fit failed. The score on this train-test partition for these parameters will be set to nan. Details: \n",
            "ValueError: max_features must be in (0, n_features]\n",
            "\n",
            "  FitFailedWarning)\n",
            "/usr/local/lib/python3.6/dist-packages/sklearn/model_selection/_validation.py:536: FitFailedWarning: Estimator fit failed. The score on this train-test partition for these parameters will be set to nan. Details: \n",
            "ValueError: max_features must be in (0, n_features]\n",
            "\n",
            "  FitFailedWarning)\n",
            "/usr/local/lib/python3.6/dist-packages/sklearn/model_selection/_validation.py:536: FitFailedWarning: Estimator fit failed. The score on this train-test partition for these parameters will be set to nan. Details: \n",
            "ValueError: max_features must be in (0, n_features]\n",
            "\n",
            "  FitFailedWarning)\n",
            "/usr/local/lib/python3.6/dist-packages/sklearn/model_selection/_validation.py:536: FitFailedWarning: Estimator fit failed. The score on this train-test partition for these parameters will be set to nan. Details: \n",
            "ValueError: max_features must be in (0, n_features]\n",
            "\n",
            "  FitFailedWarning)\n",
            "/usr/local/lib/python3.6/dist-packages/sklearn/model_selection/_validation.py:536: FitFailedWarning: Estimator fit failed. The score on this train-test partition for these parameters will be set to nan. Details: \n",
            "ValueError: max_features must be in (0, n_features]\n",
            "\n",
            "  FitFailedWarning)\n",
            "/usr/local/lib/python3.6/dist-packages/sklearn/model_selection/_validation.py:536: FitFailedWarning: Estimator fit failed. The score on this train-test partition for these parameters will be set to nan. Details: \n",
            "ValueError: max_features must be in (0, n_features]\n",
            "\n",
            "  FitFailedWarning)\n",
            "/usr/local/lib/python3.6/dist-packages/sklearn/model_selection/_validation.py:536: FitFailedWarning: Estimator fit failed. The score on this train-test partition for these parameters will be set to nan. Details: \n",
            "ValueError: max_features must be in (0, n_features]\n",
            "\n",
            "  FitFailedWarning)\n",
            "/usr/local/lib/python3.6/dist-packages/sklearn/model_selection/_validation.py:536: FitFailedWarning: Estimator fit failed. The score on this train-test partition for these parameters will be set to nan. Details: \n",
            "ValueError: max_features must be in (0, n_features]\n",
            "\n",
            "  FitFailedWarning)\n",
            "/usr/local/lib/python3.6/dist-packages/sklearn/model_selection/_validation.py:536: FitFailedWarning: Estimator fit failed. The score on this train-test partition for these parameters will be set to nan. Details: \n",
            "ValueError: max_features must be in (0, n_features]\n",
            "\n",
            "  FitFailedWarning)\n",
            "/usr/local/lib/python3.6/dist-packages/sklearn/model_selection/_validation.py:536: FitFailedWarning: Estimator fit failed. The score on this train-test partition for these parameters will be set to nan. Details: \n",
            "ValueError: max_features must be in (0, n_features]\n",
            "\n",
            "  FitFailedWarning)\n",
            "/usr/local/lib/python3.6/dist-packages/sklearn/model_selection/_validation.py:536: FitFailedWarning: Estimator fit failed. The score on this train-test partition for these parameters will be set to nan. Details: \n",
            "ValueError: max_features must be in (0, n_features]\n",
            "\n",
            "  FitFailedWarning)\n",
            "/usr/local/lib/python3.6/dist-packages/sklearn/model_selection/_validation.py:536: FitFailedWarning: Estimator fit failed. The score on this train-test partition for these parameters will be set to nan. Details: \n",
            "ValueError: max_features must be in (0, n_features]\n",
            "\n",
            "  FitFailedWarning)\n",
            "/usr/local/lib/python3.6/dist-packages/sklearn/model_selection/_validation.py:536: FitFailedWarning: Estimator fit failed. The score on this train-test partition for these parameters will be set to nan. Details: \n",
            "ValueError: max_features must be in (0, n_features]\n",
            "\n",
            "  FitFailedWarning)\n",
            "/usr/local/lib/python3.6/dist-packages/sklearn/model_selection/_validation.py:536: FitFailedWarning: Estimator fit failed. The score on this train-test partition for these parameters will be set to nan. Details: \n",
            "ValueError: max_features must be in (0, n_features]\n",
            "\n",
            "  FitFailedWarning)\n",
            "/usr/local/lib/python3.6/dist-packages/sklearn/model_selection/_validation.py:536: FitFailedWarning: Estimator fit failed. The score on this train-test partition for these parameters will be set to nan. Details: \n",
            "ValueError: max_features must be in (0, n_features]\n",
            "\n",
            "  FitFailedWarning)\n",
            "/usr/local/lib/python3.6/dist-packages/sklearn/model_selection/_validation.py:536: FitFailedWarning: Estimator fit failed. The score on this train-test partition for these parameters will be set to nan. Details: \n",
            "ValueError: max_features must be in (0, n_features]\n",
            "\n",
            "  FitFailedWarning)\n"
          ],
          "name": "stderr"
        },
        {
          "output_type": "execute_result",
          "data": {
            "text/plain": [
              "RandomizedSearchCV(cv=5, error_score=nan,\n",
              "                   estimator=RandomForestClassifier(bootstrap=True,\n",
              "                                                    ccp_alpha=0.0,\n",
              "                                                    class_weight=None,\n",
              "                                                    criterion='gini',\n",
              "                                                    max_depth=None,\n",
              "                                                    max_features='auto',\n",
              "                                                    max_leaf_nodes=None,\n",
              "                                                    max_samples=None,\n",
              "                                                    min_impurity_decrease=0.0,\n",
              "                                                    min_impurity_split=None,\n",
              "                                                    min_samples_leaf=1,\n",
              "                                                    min_samples_split=2,\n",
              "                                                    min_weight_fraction_leaf=0.0,\n",
              "                                                    n_estimators=300,\n",
              "                                                    n_jobs...\n",
              "                   param_distributions={'bootstrap': [True, False],\n",
              "                                        'criterion': ['gini', 'entropy'],\n",
              "                                        'max_depth': [3, None],\n",
              "                                        'max_features': <scipy.stats._distn_infrastructure.rv_frozen object at 0x7f0cd4ce72e8>,\n",
              "                                        'min_samples_split': <scipy.stats._distn_infrastructure.rv_frozen object at 0x7f0cd4ce7978>},\n",
              "                   pre_dispatch='2*n_jobs', random_state=None, refit=True,\n",
              "                   return_train_score=False, scoring=None, verbose=0)"
            ]
          },
          "metadata": {
            "tags": []
          },
          "execution_count": 124
        }
      ]
    },
    {
      "cell_type": "code",
      "metadata": {
        "id": "fmjtUdw6Yr0Q",
        "colab_type": "code",
        "colab": {
          "base_uri": "https://localhost:8080/",
          "height": 34
        },
        "outputId": "81a5d4a7-fd43-4713-b13c-536e3d75720f"
      },
      "source": [
        "# Checking the parameters that return the highest accuracy\n",
        "\n",
        "best_parameters = random_sr.best_params_\n",
        "print(best_parameters)"
      ],
      "execution_count": 125,
      "outputs": [
        {
          "output_type": "stream",
          "text": [
            "{'bootstrap': False, 'criterion': 'entropy', 'max_depth': None, 'max_features': 4, 'min_samples_split': 4}\n"
          ],
          "name": "stdout"
        }
      ]
    },
    {
      "cell_type": "code",
      "metadata": {
        "id": "BxhkAqo5YyVS",
        "colab_type": "code",
        "colab": {
          "base_uri": "https://localhost:8080/",
          "height": 34
        },
        "outputId": "65b3cecf-ad8c-4dbc-fa82-293ec1f0a114"
      },
      "source": [
        "# Finding the obtained accuracy\n",
        "\n",
        "best_result = random_sr.best_score_\n",
        "print(best_result)\n"
      ],
      "execution_count": 128,
      "outputs": [
        {
          "output_type": "stream",
          "text": [
            "0.9995870967466953\n"
          ],
          "name": "stdout"
        }
      ]
    },
    {
      "cell_type": "markdown",
      "metadata": {
        "id": "OmjULfLK3bci",
        "colab_type": "text"
      },
      "source": [
        "# Challenging the Solution"
      ]
    },
    {
      "cell_type": "markdown",
      "metadata": {
        "id": "VSJWt0obJ0La",
        "colab_type": "text"
      },
      "source": [
        ">* Although logistic regression has a higher accuracy level compared to polynomial regression, the former is more unstable and demonstrates a likelihood of overfitting.\n",
        "\n",
        ">* Other models such as DecisionTreeClassifier should be explored to identify the ideal prediction model for this research question.\n",
        "\n"
      ]
    },
    {
      "cell_type": "markdown",
      "metadata": {
        "id": "BLYH1ohr87P1",
        "colab_type": "text"
      },
      "source": [
        "# Follow-up Questions"
      ]
    },
    {
      "cell_type": "markdown",
      "metadata": {
        "id": "IuVFDKyV8-hp",
        "colab_type": "text"
      },
      "source": [
        "## a) Did we have the right data?\n",
        "\n",
        "Yes, for the most part. The data was relevant to the research question and was also large enough.\n",
        "\n"
      ]
    },
    {
      "cell_type": "markdown",
      "metadata": {
        "id": "vrWea4TK9Eei",
        "colab_type": "text"
      },
      "source": [
        "## b) Do we need other data to answer our question?\n",
        "\n",
        "There could be other factors that can impact the outcome of a football match. Some of these factors include weather, injuries (especially by star players) etc. These other features can be investigated and incorporated into the model for optimal prediction."
      ]
    },
    {
      "cell_type": "markdown",
      "metadata": {
        "id": "n9bAq-Ms9N0W",
        "colab_type": "text"
      },
      "source": [
        "## c) Did we have a right question?\n",
        "\n",
        "Yes, the research question was clear and specific."
      ]
    }
  ]
}